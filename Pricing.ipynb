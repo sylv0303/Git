{
  "nbformat": 4,
  "nbformat_minor": 0,
  "metadata": {
    "colab": {
      "provenance": [],
      "authorship_tag": "ABX9TyPpjp1BRF//EJRSXLXCzkl3",
      "include_colab_link": true
    },
    "kernelspec": {
      "name": "python3",
      "display_name": "Python 3"
    },
    "language_info": {
      "name": "python"
    }
  },
  "cells": [
    {
      "cell_type": "markdown",
      "metadata": {
        "id": "view-in-github",
        "colab_type": "text"
      },
      "source": [
        "<a href=\"https://colab.research.google.com/github/sylv0303/Git/blob/main/Pricing.ipynb\" target=\"_parent\"><img src=\"https://colab.research.google.com/assets/colab-badge.svg\" alt=\"Open In Colab\"/></a>"
      ]
    },
    {
      "cell_type": "code",
      "execution_count": null,
      "metadata": {
        "id": "3MqcY-dRGPuN"
      },
      "outputs": [],
      "source": [
        "import pandas as pd\n",
        "import numpy as np\n",
        "import matplotlib as plt\n",
        "from scipy.stats import norm\n",
        "from math import sqrt\n",
        "import yfinance as yf"
      ]
    },
    {
      "cell_type": "markdown",
      "source": [
        "1) Black & Scholes Model"
      ],
      "metadata": {
        "id": "f91Ue4ZZJ2ZJ"
      }
    },
    {
      "cell_type": "code",
      "source": [
        "def CallPrice (S, sigma, K, T, r):\n",
        "  d1 = (np.log(S / K) + (r  + 0.5 * sigma**2/2) * T) / (sigma * sqrt(T))\n",
        "  d2 = d1 - sigma * sqrt(T)\n",
        "  price = S * norm.cdf(d1) - K * np.exp(-r * T) * norm.cdf(d2)\n",
        "\n",
        "  return price"
      ],
      "metadata": {
        "id": "z8obYqC6OcmL"
      },
      "execution_count": null,
      "outputs": []
    },
    {
      "cell_type": "code",
      "source": [
        "# Parameters\n",
        "S = 100\n",
        "K = 105\n",
        "T = 0.5\n",
        "r = 0.02\n",
        "vol = 0.2\n",
        "\n",
        "print(np.round(CallPrice(S, vol, K, T, r), 3))"
      ],
      "metadata": {
        "colab": {
          "base_uri": "https://localhost:8080/"
        },
        "id": "t-Ix2r2ZY-JR",
        "outputId": "fa327e32-f0f1-450e-cb4d-09cb79963698"
      },
      "execution_count": null,
      "outputs": [
        {
          "output_type": "stream",
          "name": "stdout",
          "text": [
            "3.982\n"
          ]
        }
      ]
    },
    {
      "cell_type": "markdown",
      "source": [
        "## Newton-Raphson Algorithm\n",
        "We will calculate the implied volatility given the option prices calculated with the Black & Scholes (B&S) model (data).\n",
        "For this, we will use Newton's method with root finding. We want to resolve:\n",
        "\n",
        "$$\n",
        "\\text{Call}_{\\text{BS}}(\\sigma_{\\text{implied}}) = P \\iff f(x) = \\text{Call}_{\\text{BS}}(x) - P\n",
        "$$\n",
        "\n",
        "\n",
        "We use the 1st order Taylor expansion:\n",
        "\n",
        "$$\n",
        "x_{n+1} = x_n - \\frac{f(x_n)}{f'(x_n)}\n",
        "$$\n",
        "\n",
        "We fix a tolerance level and iterate the algorithm until the difference between the two consecutive estimations is below this level."
      ],
      "metadata": {
        "id": "B2rTFrJdeKDq"
      }
    },
    {
      "cell_type": "code",
      "source": [
        "def newton_step(f, x0):\n",
        "  def df(x):\n",
        "    dx = 0.00001\n",
        "    return (f(x + dx) - f(x)) / dx # calcul de la derivée (formule) --> donne une approximation\n",
        "  return x0 - f(x0)/df(x0) # on utilise l'approximation de cette dérivée pour calculer x1\n",
        "\n",
        "def newton(f, x0, tol):\n",
        "    while abs(newton_step(f, x0) - x0) > tol: # on itère jusqu'à ce que la diffèrence entre l'approximation n+1 et n soit en dessous du seuil de tolerance\n",
        "        x0 = newton_step(f, x0)\n",
        "    return x0\n"
      ],
      "metadata": {
        "id": "T-W6RnjRKMVO"
      },
      "execution_count": null,
      "outputs": []
    },
    {
      "cell_type": "markdown",
      "source": [
        "## Implied volatility estimation\n",
        "$$ f(x) = \\text{Call}_{\\text{BS}}(x) - P\n",
        "$$"
      ],
      "metadata": {
        "id": "J9Po_gCzRezH"
      }
    },
    {
      "cell_type": "code",
      "source": [
        "#CallPrice(vol) - TargetPrice\n",
        "CallPriceVol = lambda vol: CallPrice(S, vol, K, T, r) - C  # pour trouver quand f(x) = 0 (intersection des abscisses) --> on trouve la racine x (vol implicite) donc f(x)= prix de l'option observé sur le marché"
      ],
      "metadata": {
        "id": "Ua6RoVQ5RnRV"
      },
      "execution_count": null,
      "outputs": []
    },
    {
      "cell_type": "code",
      "source": [
        "C = CallPrice(S, vol, K, T, r)\n",
        "init = 0.1  # on initialise x0\n",
        "tol = 10**-8   # on rensiegne la tolérance (quand on s'arrête)\n",
        "print(newton(CallPriceVol, init, tol)) # on fait fonctionner l'algo et ça nous renvoie la vol implicite"
      ],
      "metadata": {
        "colab": {
          "base_uri": "https://localhost:8080/"
        },
        "id": "-1fkI501X66U",
        "outputId": "059a5c0e-59c7-4589-f1b3-c658acd57b8a"
      },
      "execution_count": null,
      "outputs": [
        {
          "output_type": "stream",
          "name": "stdout",
          "text": [
            "0.20000000002855028\n"
          ]
        }
      ]
    },
    {
      "cell_type": "code",
      "source": [
        "# On teste 4 itérations de l'algo, on aura x0, x1, x2, x3 et x4 (vol implicite)\n",
        "x0 = init\n",
        "for i in range(0,4):\n",
        "  print(x0)\n",
        "  x0 = newton_step(CallPriceVol, x0)"
      ],
      "metadata": {
        "colab": {
          "base_uri": "https://localhost:8080/"
        },
        "id": "lw_EQoZ7ZaTf",
        "outputId": "df9b898f-2a5d-4c08-fbfc-c8c71f9361bf"
      },
      "execution_count": null,
      "outputs": [
        {
          "output_type": "stream",
          "name": "stdout",
          "text": [
            "0.1\n",
            "0.20770294364521646\n",
            "0.20000902556434494\n",
            "0.20000000002855028\n"
          ]
        }
      ]
    },
    {
      "cell_type": "markdown",
      "source": [
        "## Inflexion Point\n",
        "\n",
        "We could use the 2nd order Taylor expansion to estimate the implied volaticity:\n",
        "\n",
        "$$\n",
        "f(x) = f(x_n) + f'(x_n)(x-x_n) + \\frac{f''(\\epsilon_n)}{2}(x-x_n)^2\n",
        "$$\n",
        "\n",
        "with\n",
        "\n",
        "$$\n",
        "x = x_{\\text{target}} \\quad \\text{and} \\quad f(x_{\\text{target}}) = 0\n",
        "$$\n",
        "\n",
        "$$\n",
        "x_{\\text{target}} = x_n - \\frac{f(x_n)}{f'(x_n)} - \\frac{f''(x_n)}{2f'(x_n)}(x_{\\text{target}} - x_n)^2\n",
        "$$\n",
        "\n",
        "One of the drawbacks of the Newton-Raphson Method is that convergence is not guaranteed.\n",
        "\n",
        "We want to optimize the Newton-Raphson algorithm and to do this, we start the algorithm at an inflection point. Indeed, we know that at the inflection point, the second derivative is equal to zero because the curve is convex to the left and concave to the right. Therefore, our series σn is monotonous with:\n",
        "\n",
        "$$\n",
        "\\sigma_0 > \\sigma_1 > \\sigma_2 > \\ldots > \\sigma_{\\text{implied}}\n",
        "$$\n",
        "\n",
        "The algorithm is convergent and optimized.\n",
        "\n",
        "The value of the inflection point is given by :\n",
        "\n",
        "$$\n",
        "I = \\sqrt{\\frac{2 \\cdot |\\log(m)|}{T}} \\quad \\text{and} \\quad m = \\frac{S}{K \\cdot e^{-rT}} \\quad \\text{(moneyness)}\n",
        "$$"
      ],
      "metadata": {
        "id": "GBroiTeubsJy"
      }
    },
    {
      "cell_type": "code",
      "source": [
        "def Inflexionpoint (S, K, T, r):\n",
        "  m = S / (K * np.exp(-r * T))\n",
        "  return np.sqrt(2 * np.abs(np.log(m)) / T)"
      ],
      "metadata": {
        "id": "PR4M9k8Sa2UF"
      },
      "execution_count": null,
      "outputs": []
    },
    {
      "cell_type": "code",
      "source": [
        "I = Inflexionpoint(S, K, T, r)\n",
        "print(\"Inflexion Point:\",I)"
      ],
      "metadata": {
        "colab": {
          "base_uri": "https://localhost:8080/"
        },
        "id": "00xosq66bcOs",
        "outputId": "5ba4de9e-004e-47ec-ac1f-eb3b438674a1"
      },
      "execution_count": null,
      "outputs": [
        {
          "output_type": "stream",
          "name": "stdout",
          "text": [
            "Inflexion Point: 0.39390437504263387\n"
          ]
        }
      ]
    },
    {
      "cell_type": "markdown",
      "source": [
        "## Implied Volatility for Call Option\n",
        "\n",
        "The equation $$ f(x) = \\text{Call}_{\\text{BS}}(x) - P\n",
        "$$\n",
        "can be solved with the Newton-Raphson algorithm, using the inflection point as the initial guess. The series σn is monotonous:\n",
        "\n",
        "$$\n",
        "\\sigma_0 = I, \\quad \\sigma_{n+1} = \\sigma_n - \\frac{\\text{Call}_{\\text{BS}}(\\sigma_n) - P}{\\frac{\\partial \\text{Call}_{\\text{BS}}(\\sigma_n)}{\\partial \\sigma}}\n",
        "$$\n",
        "\n",
        "where Vega is:\n",
        "\n",
        "$$\n",
        "\\frac{\\partial \\text{Call}_{\\text{BS}}(\\sigma_n)}{\\partial \\sigma} = S \\cdot \\sqrt{T} \\cdot N'(d_1)\n",
        "$$"
      ],
      "metadata": {
        "id": "VWa-nI9-bwP5"
      }
    },
    {
      "cell_type": "code",
      "source": [
        "def vega(S, sigma, K, T, r):\n",
        "  d1 = (np.log(S / K) + (r  + 0.5 * sigma**2/2) * T) / (sigma * sqrt(T))\n",
        "  vega = S * T**0.5 * norm.cdf(d1)\n",
        "  return vega\n",
        "\n",
        "def ImpliedVolCall(C, S, K, r, T, tol):\n",
        "  x0 = Inflexionpoint(S, K, T, r)\n",
        "  p = CallPrice(S, x0, K, T, r)\n",
        "  v = vega(S, x0, K, T, r)\n",
        "  while (abs((p - C) / v) > tol):\n",
        "    x0 = x0 - (p - C) / v\n",
        "    p = CallPrice(S, x0, K, T, r)\n",
        "    v = vega(S, x0, K, T, r)\n",
        "  return x0"
      ],
      "metadata": {
        "id": "pzQrJKwQbpVK"
      },
      "execution_count": null,
      "outputs": []
    },
    {
      "cell_type": "code",
      "source": [
        "# Parameters\n",
        "S = 100\n",
        "K = 105\n",
        "T = 0.5\n",
        "r = 0.02\n",
        "vol = 0.2\n",
        "\n",
        "C = CallPrice(S, vol, K, T, r)"
      ],
      "metadata": {
        "id": "N4BJ0hdMcbAR"
      },
      "execution_count": null,
      "outputs": []
    },
    {
      "cell_type": "code",
      "source": [
        "tol = 10**-8\n",
        "ImpliedVolCall(C, S, K, r, T, tol)"
      ],
      "metadata": {
        "colab": {
          "base_uri": "https://localhost:8080/"
        },
        "id": "uQurr5xfdPWu",
        "outputId": "2898c2d6-3dbb-4cf5-f4db-630b2dc7ab78"
      },
      "execution_count": null,
      "outputs": [
        {
          "output_type": "execute_result",
          "data": {
            "text/plain": [
              "0.2000000053694155"
            ]
          },
          "metadata": {},
          "execution_count": 12
        }
      ]
    },
    {
      "cell_type": "markdown",
      "source": [
        "## 3) Import options data\n"
      ],
      "metadata": {
        "id": "W58Vm3LYGbB8"
      }
    },
    {
      "cell_type": "code",
      "source": [
        "ticker = yf.Ticker('AMZN')\n",
        "options_data = ticker.option_chain('2024-02-23')"
      ],
      "metadata": {
        "id": "ADrmjNkNYqXA"
      },
      "execution_count": null,
      "outputs": []
    },
    {
      "cell_type": "markdown",
      "source": [
        "### Clean data\n",
        "We use only liquid options. We eliminate options with a volume inferior to 1000. Options ITM or OTM are little liquid, we exclude them\n",
        "\n"
      ],
      "metadata": {
        "id": "Rb2wk5v0aEJD"
      }
    },
    {
      "cell_type": "code",
      "source": [
        "df_call = pd.DataFrame(options_data.calls)\n",
        "print(\"Call Options Dataframe:\")\n",
        "df_call.head()"
      ],
      "metadata": {
        "colab": {
          "base_uri": "https://localhost:8080/",
          "height": 224
        },
        "id": "aebnTDKIKYtW",
        "outputId": "79459e9d-e455-4f62-ef78-fd0c002709c3"
      },
      "execution_count": null,
      "outputs": [
        {
          "output_type": "stream",
          "name": "stdout",
          "text": [
            "Call Options Dataframe:\n"
          ]
        },
        {
          "output_type": "execute_result",
          "data": {
            "text/plain": [
              "        contractSymbol             lastTradeDate  strike  lastPrice    bid  \\\n",
              "0  AMZN240223C00080000 2024-02-02 17:11:41+00:00    80.0      91.21  90.35   \n",
              "1  AMZN240223C00085000 2024-02-02 17:18:12+00:00    85.0      87.00  85.30   \n",
              "2  AMZN240223C00090000 2024-01-16 16:39:08+00:00    90.0      63.72  80.45   \n",
              "3  AMZN240223C00095000 2024-01-29 18:01:36+00:00    95.0      66.05  75.40   \n",
              "4  AMZN240223C00100000 2024-02-02 15:56:27+00:00   100.0      70.99  70.40   \n",
              "\n",
              "     ask  change  percentChange  volume  openInterest  impliedVolatility  \\\n",
              "0  90.65     0.0            0.0     1.0             9           1.718751   \n",
              "1  85.60     0.0            0.0     8.0            15           1.564455   \n",
              "2  80.65     0.0            0.0     1.0             2           1.502932   \n",
              "3  75.65     0.0            0.0     2.0             1           1.376956   \n",
              "4  70.65     0.0            0.0     1.0            51           1.270511   \n",
              "\n",
              "   inTheMoney contractSize currency  \n",
              "0        True      REGULAR      USD  \n",
              "1        True      REGULAR      USD  \n",
              "2        True      REGULAR      USD  \n",
              "3        True      REGULAR      USD  \n",
              "4        True      REGULAR      USD  "
            ],
            "text/html": [
              "\n",
              "  <div id=\"df-407ddc46-e213-48ee-9aa2-ed5b5619ce60\" class=\"colab-df-container\">\n",
              "    <div>\n",
              "<style scoped>\n",
              "    .dataframe tbody tr th:only-of-type {\n",
              "        vertical-align: middle;\n",
              "    }\n",
              "\n",
              "    .dataframe tbody tr th {\n",
              "        vertical-align: top;\n",
              "    }\n",
              "\n",
              "    .dataframe thead th {\n",
              "        text-align: right;\n",
              "    }\n",
              "</style>\n",
              "<table border=\"1\" class=\"dataframe\">\n",
              "  <thead>\n",
              "    <tr style=\"text-align: right;\">\n",
              "      <th></th>\n",
              "      <th>contractSymbol</th>\n",
              "      <th>lastTradeDate</th>\n",
              "      <th>strike</th>\n",
              "      <th>lastPrice</th>\n",
              "      <th>bid</th>\n",
              "      <th>ask</th>\n",
              "      <th>change</th>\n",
              "      <th>percentChange</th>\n",
              "      <th>volume</th>\n",
              "      <th>openInterest</th>\n",
              "      <th>impliedVolatility</th>\n",
              "      <th>inTheMoney</th>\n",
              "      <th>contractSize</th>\n",
              "      <th>currency</th>\n",
              "    </tr>\n",
              "  </thead>\n",
              "  <tbody>\n",
              "    <tr>\n",
              "      <th>0</th>\n",
              "      <td>AMZN240223C00080000</td>\n",
              "      <td>2024-02-02 17:11:41+00:00</td>\n",
              "      <td>80.0</td>\n",
              "      <td>91.21</td>\n",
              "      <td>90.35</td>\n",
              "      <td>90.65</td>\n",
              "      <td>0.0</td>\n",
              "      <td>0.0</td>\n",
              "      <td>1.0</td>\n",
              "      <td>9</td>\n",
              "      <td>1.718751</td>\n",
              "      <td>True</td>\n",
              "      <td>REGULAR</td>\n",
              "      <td>USD</td>\n",
              "    </tr>\n",
              "    <tr>\n",
              "      <th>1</th>\n",
              "      <td>AMZN240223C00085000</td>\n",
              "      <td>2024-02-02 17:18:12+00:00</td>\n",
              "      <td>85.0</td>\n",
              "      <td>87.00</td>\n",
              "      <td>85.30</td>\n",
              "      <td>85.60</td>\n",
              "      <td>0.0</td>\n",
              "      <td>0.0</td>\n",
              "      <td>8.0</td>\n",
              "      <td>15</td>\n",
              "      <td>1.564455</td>\n",
              "      <td>True</td>\n",
              "      <td>REGULAR</td>\n",
              "      <td>USD</td>\n",
              "    </tr>\n",
              "    <tr>\n",
              "      <th>2</th>\n",
              "      <td>AMZN240223C00090000</td>\n",
              "      <td>2024-01-16 16:39:08+00:00</td>\n",
              "      <td>90.0</td>\n",
              "      <td>63.72</td>\n",
              "      <td>80.45</td>\n",
              "      <td>80.65</td>\n",
              "      <td>0.0</td>\n",
              "      <td>0.0</td>\n",
              "      <td>1.0</td>\n",
              "      <td>2</td>\n",
              "      <td>1.502932</td>\n",
              "      <td>True</td>\n",
              "      <td>REGULAR</td>\n",
              "      <td>USD</td>\n",
              "    </tr>\n",
              "    <tr>\n",
              "      <th>3</th>\n",
              "      <td>AMZN240223C00095000</td>\n",
              "      <td>2024-01-29 18:01:36+00:00</td>\n",
              "      <td>95.0</td>\n",
              "      <td>66.05</td>\n",
              "      <td>75.40</td>\n",
              "      <td>75.65</td>\n",
              "      <td>0.0</td>\n",
              "      <td>0.0</td>\n",
              "      <td>2.0</td>\n",
              "      <td>1</td>\n",
              "      <td>1.376956</td>\n",
              "      <td>True</td>\n",
              "      <td>REGULAR</td>\n",
              "      <td>USD</td>\n",
              "    </tr>\n",
              "    <tr>\n",
              "      <th>4</th>\n",
              "      <td>AMZN240223C00100000</td>\n",
              "      <td>2024-02-02 15:56:27+00:00</td>\n",
              "      <td>100.0</td>\n",
              "      <td>70.99</td>\n",
              "      <td>70.40</td>\n",
              "      <td>70.65</td>\n",
              "      <td>0.0</td>\n",
              "      <td>0.0</td>\n",
              "      <td>1.0</td>\n",
              "      <td>51</td>\n",
              "      <td>1.270511</td>\n",
              "      <td>True</td>\n",
              "      <td>REGULAR</td>\n",
              "      <td>USD</td>\n",
              "    </tr>\n",
              "  </tbody>\n",
              "</table>\n",
              "</div>\n",
              "    <div class=\"colab-df-buttons\">\n",
              "\n",
              "  <div class=\"colab-df-container\">\n",
              "    <button class=\"colab-df-convert\" onclick=\"convertToInteractive('df-407ddc46-e213-48ee-9aa2-ed5b5619ce60')\"\n",
              "            title=\"Convert this dataframe to an interactive table.\"\n",
              "            style=\"display:none;\">\n",
              "\n",
              "  <svg xmlns=\"http://www.w3.org/2000/svg\" height=\"24px\" viewBox=\"0 -960 960 960\">\n",
              "    <path d=\"M120-120v-720h720v720H120Zm60-500h600v-160H180v160Zm220 220h160v-160H400v160Zm0 220h160v-160H400v160ZM180-400h160v-160H180v160Zm440 0h160v-160H620v160ZM180-180h160v-160H180v160Zm440 0h160v-160H620v160Z\"/>\n",
              "  </svg>\n",
              "    </button>\n",
              "\n",
              "  <style>\n",
              "    .colab-df-container {\n",
              "      display:flex;\n",
              "      gap: 12px;\n",
              "    }\n",
              "\n",
              "    .colab-df-convert {\n",
              "      background-color: #E8F0FE;\n",
              "      border: none;\n",
              "      border-radius: 50%;\n",
              "      cursor: pointer;\n",
              "      display: none;\n",
              "      fill: #1967D2;\n",
              "      height: 32px;\n",
              "      padding: 0 0 0 0;\n",
              "      width: 32px;\n",
              "    }\n",
              "\n",
              "    .colab-df-convert:hover {\n",
              "      background-color: #E2EBFA;\n",
              "      box-shadow: 0px 1px 2px rgba(60, 64, 67, 0.3), 0px 1px 3px 1px rgba(60, 64, 67, 0.15);\n",
              "      fill: #174EA6;\n",
              "    }\n",
              "\n",
              "    .colab-df-buttons div {\n",
              "      margin-bottom: 4px;\n",
              "    }\n",
              "\n",
              "    [theme=dark] .colab-df-convert {\n",
              "      background-color: #3B4455;\n",
              "      fill: #D2E3FC;\n",
              "    }\n",
              "\n",
              "    [theme=dark] .colab-df-convert:hover {\n",
              "      background-color: #434B5C;\n",
              "      box-shadow: 0px 1px 3px 1px rgba(0, 0, 0, 0.15);\n",
              "      filter: drop-shadow(0px 1px 2px rgba(0, 0, 0, 0.3));\n",
              "      fill: #FFFFFF;\n",
              "    }\n",
              "  </style>\n",
              "\n",
              "    <script>\n",
              "      const buttonEl =\n",
              "        document.querySelector('#df-407ddc46-e213-48ee-9aa2-ed5b5619ce60 button.colab-df-convert');\n",
              "      buttonEl.style.display =\n",
              "        google.colab.kernel.accessAllowed ? 'block' : 'none';\n",
              "\n",
              "      async function convertToInteractive(key) {\n",
              "        const element = document.querySelector('#df-407ddc46-e213-48ee-9aa2-ed5b5619ce60');\n",
              "        const dataTable =\n",
              "          await google.colab.kernel.invokeFunction('convertToInteractive',\n",
              "                                                    [key], {});\n",
              "        if (!dataTable) return;\n",
              "\n",
              "        const docLinkHtml = 'Like what you see? Visit the ' +\n",
              "          '<a target=\"_blank\" href=https://colab.research.google.com/notebooks/data_table.ipynb>data table notebook</a>'\n",
              "          + ' to learn more about interactive tables.';\n",
              "        element.innerHTML = '';\n",
              "        dataTable['output_type'] = 'display_data';\n",
              "        await google.colab.output.renderOutput(dataTable, element);\n",
              "        const docLink = document.createElement('div');\n",
              "        docLink.innerHTML = docLinkHtml;\n",
              "        element.appendChild(docLink);\n",
              "      }\n",
              "    </script>\n",
              "  </div>\n",
              "\n",
              "\n",
              "<div id=\"df-099f0afb-9283-4070-b0d8-4670551af5ea\">\n",
              "  <button class=\"colab-df-quickchart\" onclick=\"quickchart('df-099f0afb-9283-4070-b0d8-4670551af5ea')\"\n",
              "            title=\"Suggest charts\"\n",
              "            style=\"display:none;\">\n",
              "\n",
              "<svg xmlns=\"http://www.w3.org/2000/svg\" height=\"24px\"viewBox=\"0 0 24 24\"\n",
              "     width=\"24px\">\n",
              "    <g>\n",
              "        <path d=\"M19 3H5c-1.1 0-2 .9-2 2v14c0 1.1.9 2 2 2h14c1.1 0 2-.9 2-2V5c0-1.1-.9-2-2-2zM9 17H7v-7h2v7zm4 0h-2V7h2v10zm4 0h-2v-4h2v4z\"/>\n",
              "    </g>\n",
              "</svg>\n",
              "  </button>\n",
              "\n",
              "<style>\n",
              "  .colab-df-quickchart {\n",
              "      --bg-color: #E8F0FE;\n",
              "      --fill-color: #1967D2;\n",
              "      --hover-bg-color: #E2EBFA;\n",
              "      --hover-fill-color: #174EA6;\n",
              "      --disabled-fill-color: #AAA;\n",
              "      --disabled-bg-color: #DDD;\n",
              "  }\n",
              "\n",
              "  [theme=dark] .colab-df-quickchart {\n",
              "      --bg-color: #3B4455;\n",
              "      --fill-color: #D2E3FC;\n",
              "      --hover-bg-color: #434B5C;\n",
              "      --hover-fill-color: #FFFFFF;\n",
              "      --disabled-bg-color: #3B4455;\n",
              "      --disabled-fill-color: #666;\n",
              "  }\n",
              "\n",
              "  .colab-df-quickchart {\n",
              "    background-color: var(--bg-color);\n",
              "    border: none;\n",
              "    border-radius: 50%;\n",
              "    cursor: pointer;\n",
              "    display: none;\n",
              "    fill: var(--fill-color);\n",
              "    height: 32px;\n",
              "    padding: 0;\n",
              "    width: 32px;\n",
              "  }\n",
              "\n",
              "  .colab-df-quickchart:hover {\n",
              "    background-color: var(--hover-bg-color);\n",
              "    box-shadow: 0 1px 2px rgba(60, 64, 67, 0.3), 0 1px 3px 1px rgba(60, 64, 67, 0.15);\n",
              "    fill: var(--button-hover-fill-color);\n",
              "  }\n",
              "\n",
              "  .colab-df-quickchart-complete:disabled,\n",
              "  .colab-df-quickchart-complete:disabled:hover {\n",
              "    background-color: var(--disabled-bg-color);\n",
              "    fill: var(--disabled-fill-color);\n",
              "    box-shadow: none;\n",
              "  }\n",
              "\n",
              "  .colab-df-spinner {\n",
              "    border: 2px solid var(--fill-color);\n",
              "    border-color: transparent;\n",
              "    border-bottom-color: var(--fill-color);\n",
              "    animation:\n",
              "      spin 1s steps(1) infinite;\n",
              "  }\n",
              "\n",
              "  @keyframes spin {\n",
              "    0% {\n",
              "      border-color: transparent;\n",
              "      border-bottom-color: var(--fill-color);\n",
              "      border-left-color: var(--fill-color);\n",
              "    }\n",
              "    20% {\n",
              "      border-color: transparent;\n",
              "      border-left-color: var(--fill-color);\n",
              "      border-top-color: var(--fill-color);\n",
              "    }\n",
              "    30% {\n",
              "      border-color: transparent;\n",
              "      border-left-color: var(--fill-color);\n",
              "      border-top-color: var(--fill-color);\n",
              "      border-right-color: var(--fill-color);\n",
              "    }\n",
              "    40% {\n",
              "      border-color: transparent;\n",
              "      border-right-color: var(--fill-color);\n",
              "      border-top-color: var(--fill-color);\n",
              "    }\n",
              "    60% {\n",
              "      border-color: transparent;\n",
              "      border-right-color: var(--fill-color);\n",
              "    }\n",
              "    80% {\n",
              "      border-color: transparent;\n",
              "      border-right-color: var(--fill-color);\n",
              "      border-bottom-color: var(--fill-color);\n",
              "    }\n",
              "    90% {\n",
              "      border-color: transparent;\n",
              "      border-bottom-color: var(--fill-color);\n",
              "    }\n",
              "  }\n",
              "</style>\n",
              "\n",
              "  <script>\n",
              "    async function quickchart(key) {\n",
              "      const quickchartButtonEl =\n",
              "        document.querySelector('#' + key + ' button');\n",
              "      quickchartButtonEl.disabled = true;  // To prevent multiple clicks.\n",
              "      quickchartButtonEl.classList.add('colab-df-spinner');\n",
              "      try {\n",
              "        const charts = await google.colab.kernel.invokeFunction(\n",
              "            'suggestCharts', [key], {});\n",
              "      } catch (error) {\n",
              "        console.error('Error during call to suggestCharts:', error);\n",
              "      }\n",
              "      quickchartButtonEl.classList.remove('colab-df-spinner');\n",
              "      quickchartButtonEl.classList.add('colab-df-quickchart-complete');\n",
              "    }\n",
              "    (() => {\n",
              "      let quickchartButtonEl =\n",
              "        document.querySelector('#df-099f0afb-9283-4070-b0d8-4670551af5ea button');\n",
              "      quickchartButtonEl.style.display =\n",
              "        google.colab.kernel.accessAllowed ? 'block' : 'none';\n",
              "    })();\n",
              "  </script>\n",
              "</div>\n",
              "    </div>\n",
              "  </div>\n"
            ]
          },
          "metadata": {},
          "execution_count": 40
        }
      ]
    },
    {
      "cell_type": "code",
      "source": [
        "print(\"Put Options Dataframe:\")\n",
        "df_put = pd.DataFrame(options_data.puts)\n",
        "df_put.head()"
      ],
      "metadata": {
        "colab": {
          "base_uri": "https://localhost:8080/",
          "height": 224
        },
        "id": "Vb-BwoUNbHDV",
        "outputId": "f526d2d7-0439-439a-de2e-b7082d7228cd"
      },
      "execution_count": null,
      "outputs": [
        {
          "output_type": "stream",
          "name": "stdout",
          "text": [
            "Put Options Dataframe:\n"
          ]
        },
        {
          "output_type": "execute_result",
          "data": {
            "text/plain": [
              "        contractSymbol             lastTradeDate  strike  lastPrice  bid  \\\n",
              "0  AMZN240223P00085000 2024-01-26 20:29:28+00:00    85.0       0.01  0.0   \n",
              "1  AMZN240223P00090000 2024-01-25 17:05:05+00:00    90.0       0.01  0.0   \n",
              "2  AMZN240223P00095000 2024-02-05 19:10:26+00:00    95.0       0.01  0.0   \n",
              "3  AMZN240223P00100000 2024-02-05 14:53:49+00:00   100.0       0.01  0.0   \n",
              "4  AMZN240223P00105000 2024-02-05 14:53:45+00:00   105.0       0.01  0.0   \n",
              "\n",
              "    ask  change  percentChange  volume  openInterest  impliedVolatility  \\\n",
              "0  0.01    0.00            0.0     8.0            16           0.937501   \n",
              "1  0.01    0.00            0.0     6.0             7           0.875001   \n",
              "2  0.01   -0.01          -50.0     1.0             7           0.812502   \n",
              "3  0.01   -0.01          -50.0     1.0            62           0.750003   \n",
              "4  0.02   -0.01          -50.0     1.0           337           0.718753   \n",
              "\n",
              "   inTheMoney contractSize currency  \n",
              "0       False      REGULAR      USD  \n",
              "1       False      REGULAR      USD  \n",
              "2       False      REGULAR      USD  \n",
              "3       False      REGULAR      USD  \n",
              "4       False      REGULAR      USD  "
            ],
            "text/html": [
              "\n",
              "  <div id=\"df-83d3cf89-94f7-4d9e-8aef-f22f5366d4f3\" class=\"colab-df-container\">\n",
              "    <div>\n",
              "<style scoped>\n",
              "    .dataframe tbody tr th:only-of-type {\n",
              "        vertical-align: middle;\n",
              "    }\n",
              "\n",
              "    .dataframe tbody tr th {\n",
              "        vertical-align: top;\n",
              "    }\n",
              "\n",
              "    .dataframe thead th {\n",
              "        text-align: right;\n",
              "    }\n",
              "</style>\n",
              "<table border=\"1\" class=\"dataframe\">\n",
              "  <thead>\n",
              "    <tr style=\"text-align: right;\">\n",
              "      <th></th>\n",
              "      <th>contractSymbol</th>\n",
              "      <th>lastTradeDate</th>\n",
              "      <th>strike</th>\n",
              "      <th>lastPrice</th>\n",
              "      <th>bid</th>\n",
              "      <th>ask</th>\n",
              "      <th>change</th>\n",
              "      <th>percentChange</th>\n",
              "      <th>volume</th>\n",
              "      <th>openInterest</th>\n",
              "      <th>impliedVolatility</th>\n",
              "      <th>inTheMoney</th>\n",
              "      <th>contractSize</th>\n",
              "      <th>currency</th>\n",
              "    </tr>\n",
              "  </thead>\n",
              "  <tbody>\n",
              "    <tr>\n",
              "      <th>0</th>\n",
              "      <td>AMZN240223P00085000</td>\n",
              "      <td>2024-01-26 20:29:28+00:00</td>\n",
              "      <td>85.0</td>\n",
              "      <td>0.01</td>\n",
              "      <td>0.0</td>\n",
              "      <td>0.01</td>\n",
              "      <td>0.00</td>\n",
              "      <td>0.0</td>\n",
              "      <td>8.0</td>\n",
              "      <td>16</td>\n",
              "      <td>0.937501</td>\n",
              "      <td>False</td>\n",
              "      <td>REGULAR</td>\n",
              "      <td>USD</td>\n",
              "    </tr>\n",
              "    <tr>\n",
              "      <th>1</th>\n",
              "      <td>AMZN240223P00090000</td>\n",
              "      <td>2024-01-25 17:05:05+00:00</td>\n",
              "      <td>90.0</td>\n",
              "      <td>0.01</td>\n",
              "      <td>0.0</td>\n",
              "      <td>0.01</td>\n",
              "      <td>0.00</td>\n",
              "      <td>0.0</td>\n",
              "      <td>6.0</td>\n",
              "      <td>7</td>\n",
              "      <td>0.875001</td>\n",
              "      <td>False</td>\n",
              "      <td>REGULAR</td>\n",
              "      <td>USD</td>\n",
              "    </tr>\n",
              "    <tr>\n",
              "      <th>2</th>\n",
              "      <td>AMZN240223P00095000</td>\n",
              "      <td>2024-02-05 19:10:26+00:00</td>\n",
              "      <td>95.0</td>\n",
              "      <td>0.01</td>\n",
              "      <td>0.0</td>\n",
              "      <td>0.01</td>\n",
              "      <td>-0.01</td>\n",
              "      <td>-50.0</td>\n",
              "      <td>1.0</td>\n",
              "      <td>7</td>\n",
              "      <td>0.812502</td>\n",
              "      <td>False</td>\n",
              "      <td>REGULAR</td>\n",
              "      <td>USD</td>\n",
              "    </tr>\n",
              "    <tr>\n",
              "      <th>3</th>\n",
              "      <td>AMZN240223P00100000</td>\n",
              "      <td>2024-02-05 14:53:49+00:00</td>\n",
              "      <td>100.0</td>\n",
              "      <td>0.01</td>\n",
              "      <td>0.0</td>\n",
              "      <td>0.01</td>\n",
              "      <td>-0.01</td>\n",
              "      <td>-50.0</td>\n",
              "      <td>1.0</td>\n",
              "      <td>62</td>\n",
              "      <td>0.750003</td>\n",
              "      <td>False</td>\n",
              "      <td>REGULAR</td>\n",
              "      <td>USD</td>\n",
              "    </tr>\n",
              "    <tr>\n",
              "      <th>4</th>\n",
              "      <td>AMZN240223P00105000</td>\n",
              "      <td>2024-02-05 14:53:45+00:00</td>\n",
              "      <td>105.0</td>\n",
              "      <td>0.01</td>\n",
              "      <td>0.0</td>\n",
              "      <td>0.02</td>\n",
              "      <td>-0.01</td>\n",
              "      <td>-50.0</td>\n",
              "      <td>1.0</td>\n",
              "      <td>337</td>\n",
              "      <td>0.718753</td>\n",
              "      <td>False</td>\n",
              "      <td>REGULAR</td>\n",
              "      <td>USD</td>\n",
              "    </tr>\n",
              "  </tbody>\n",
              "</table>\n",
              "</div>\n",
              "    <div class=\"colab-df-buttons\">\n",
              "\n",
              "  <div class=\"colab-df-container\">\n",
              "    <button class=\"colab-df-convert\" onclick=\"convertToInteractive('df-83d3cf89-94f7-4d9e-8aef-f22f5366d4f3')\"\n",
              "            title=\"Convert this dataframe to an interactive table.\"\n",
              "            style=\"display:none;\">\n",
              "\n",
              "  <svg xmlns=\"http://www.w3.org/2000/svg\" height=\"24px\" viewBox=\"0 -960 960 960\">\n",
              "    <path d=\"M120-120v-720h720v720H120Zm60-500h600v-160H180v160Zm220 220h160v-160H400v160Zm0 220h160v-160H400v160ZM180-400h160v-160H180v160Zm440 0h160v-160H620v160ZM180-180h160v-160H180v160Zm440 0h160v-160H620v160Z\"/>\n",
              "  </svg>\n",
              "    </button>\n",
              "\n",
              "  <style>\n",
              "    .colab-df-container {\n",
              "      display:flex;\n",
              "      gap: 12px;\n",
              "    }\n",
              "\n",
              "    .colab-df-convert {\n",
              "      background-color: #E8F0FE;\n",
              "      border: none;\n",
              "      border-radius: 50%;\n",
              "      cursor: pointer;\n",
              "      display: none;\n",
              "      fill: #1967D2;\n",
              "      height: 32px;\n",
              "      padding: 0 0 0 0;\n",
              "      width: 32px;\n",
              "    }\n",
              "\n",
              "    .colab-df-convert:hover {\n",
              "      background-color: #E2EBFA;\n",
              "      box-shadow: 0px 1px 2px rgba(60, 64, 67, 0.3), 0px 1px 3px 1px rgba(60, 64, 67, 0.15);\n",
              "      fill: #174EA6;\n",
              "    }\n",
              "\n",
              "    .colab-df-buttons div {\n",
              "      margin-bottom: 4px;\n",
              "    }\n",
              "\n",
              "    [theme=dark] .colab-df-convert {\n",
              "      background-color: #3B4455;\n",
              "      fill: #D2E3FC;\n",
              "    }\n",
              "\n",
              "    [theme=dark] .colab-df-convert:hover {\n",
              "      background-color: #434B5C;\n",
              "      box-shadow: 0px 1px 3px 1px rgba(0, 0, 0, 0.15);\n",
              "      filter: drop-shadow(0px 1px 2px rgba(0, 0, 0, 0.3));\n",
              "      fill: #FFFFFF;\n",
              "    }\n",
              "  </style>\n",
              "\n",
              "    <script>\n",
              "      const buttonEl =\n",
              "        document.querySelector('#df-83d3cf89-94f7-4d9e-8aef-f22f5366d4f3 button.colab-df-convert');\n",
              "      buttonEl.style.display =\n",
              "        google.colab.kernel.accessAllowed ? 'block' : 'none';\n",
              "\n",
              "      async function convertToInteractive(key) {\n",
              "        const element = document.querySelector('#df-83d3cf89-94f7-4d9e-8aef-f22f5366d4f3');\n",
              "        const dataTable =\n",
              "          await google.colab.kernel.invokeFunction('convertToInteractive',\n",
              "                                                    [key], {});\n",
              "        if (!dataTable) return;\n",
              "\n",
              "        const docLinkHtml = 'Like what you see? Visit the ' +\n",
              "          '<a target=\"_blank\" href=https://colab.research.google.com/notebooks/data_table.ipynb>data table notebook</a>'\n",
              "          + ' to learn more about interactive tables.';\n",
              "        element.innerHTML = '';\n",
              "        dataTable['output_type'] = 'display_data';\n",
              "        await google.colab.output.renderOutput(dataTable, element);\n",
              "        const docLink = document.createElement('div');\n",
              "        docLink.innerHTML = docLinkHtml;\n",
              "        element.appendChild(docLink);\n",
              "      }\n",
              "    </script>\n",
              "  </div>\n",
              "\n",
              "\n",
              "<div id=\"df-7e89f6f5-5c7d-42af-aa34-5327002a0561\">\n",
              "  <button class=\"colab-df-quickchart\" onclick=\"quickchart('df-7e89f6f5-5c7d-42af-aa34-5327002a0561')\"\n",
              "            title=\"Suggest charts\"\n",
              "            style=\"display:none;\">\n",
              "\n",
              "<svg xmlns=\"http://www.w3.org/2000/svg\" height=\"24px\"viewBox=\"0 0 24 24\"\n",
              "     width=\"24px\">\n",
              "    <g>\n",
              "        <path d=\"M19 3H5c-1.1 0-2 .9-2 2v14c0 1.1.9 2 2 2h14c1.1 0 2-.9 2-2V5c0-1.1-.9-2-2-2zM9 17H7v-7h2v7zm4 0h-2V7h2v10zm4 0h-2v-4h2v4z\"/>\n",
              "    </g>\n",
              "</svg>\n",
              "  </button>\n",
              "\n",
              "<style>\n",
              "  .colab-df-quickchart {\n",
              "      --bg-color: #E8F0FE;\n",
              "      --fill-color: #1967D2;\n",
              "      --hover-bg-color: #E2EBFA;\n",
              "      --hover-fill-color: #174EA6;\n",
              "      --disabled-fill-color: #AAA;\n",
              "      --disabled-bg-color: #DDD;\n",
              "  }\n",
              "\n",
              "  [theme=dark] .colab-df-quickchart {\n",
              "      --bg-color: #3B4455;\n",
              "      --fill-color: #D2E3FC;\n",
              "      --hover-bg-color: #434B5C;\n",
              "      --hover-fill-color: #FFFFFF;\n",
              "      --disabled-bg-color: #3B4455;\n",
              "      --disabled-fill-color: #666;\n",
              "  }\n",
              "\n",
              "  .colab-df-quickchart {\n",
              "    background-color: var(--bg-color);\n",
              "    border: none;\n",
              "    border-radius: 50%;\n",
              "    cursor: pointer;\n",
              "    display: none;\n",
              "    fill: var(--fill-color);\n",
              "    height: 32px;\n",
              "    padding: 0;\n",
              "    width: 32px;\n",
              "  }\n",
              "\n",
              "  .colab-df-quickchart:hover {\n",
              "    background-color: var(--hover-bg-color);\n",
              "    box-shadow: 0 1px 2px rgba(60, 64, 67, 0.3), 0 1px 3px 1px rgba(60, 64, 67, 0.15);\n",
              "    fill: var(--button-hover-fill-color);\n",
              "  }\n",
              "\n",
              "  .colab-df-quickchart-complete:disabled,\n",
              "  .colab-df-quickchart-complete:disabled:hover {\n",
              "    background-color: var(--disabled-bg-color);\n",
              "    fill: var(--disabled-fill-color);\n",
              "    box-shadow: none;\n",
              "  }\n",
              "\n",
              "  .colab-df-spinner {\n",
              "    border: 2px solid var(--fill-color);\n",
              "    border-color: transparent;\n",
              "    border-bottom-color: var(--fill-color);\n",
              "    animation:\n",
              "      spin 1s steps(1) infinite;\n",
              "  }\n",
              "\n",
              "  @keyframes spin {\n",
              "    0% {\n",
              "      border-color: transparent;\n",
              "      border-bottom-color: var(--fill-color);\n",
              "      border-left-color: var(--fill-color);\n",
              "    }\n",
              "    20% {\n",
              "      border-color: transparent;\n",
              "      border-left-color: var(--fill-color);\n",
              "      border-top-color: var(--fill-color);\n",
              "    }\n",
              "    30% {\n",
              "      border-color: transparent;\n",
              "      border-left-color: var(--fill-color);\n",
              "      border-top-color: var(--fill-color);\n",
              "      border-right-color: var(--fill-color);\n",
              "    }\n",
              "    40% {\n",
              "      border-color: transparent;\n",
              "      border-right-color: var(--fill-color);\n",
              "      border-top-color: var(--fill-color);\n",
              "    }\n",
              "    60% {\n",
              "      border-color: transparent;\n",
              "      border-right-color: var(--fill-color);\n",
              "    }\n",
              "    80% {\n",
              "      border-color: transparent;\n",
              "      border-right-color: var(--fill-color);\n",
              "      border-bottom-color: var(--fill-color);\n",
              "    }\n",
              "    90% {\n",
              "      border-color: transparent;\n",
              "      border-bottom-color: var(--fill-color);\n",
              "    }\n",
              "  }\n",
              "</style>\n",
              "\n",
              "  <script>\n",
              "    async function quickchart(key) {\n",
              "      const quickchartButtonEl =\n",
              "        document.querySelector('#' + key + ' button');\n",
              "      quickchartButtonEl.disabled = true;  // To prevent multiple clicks.\n",
              "      quickchartButtonEl.classList.add('colab-df-spinner');\n",
              "      try {\n",
              "        const charts = await google.colab.kernel.invokeFunction(\n",
              "            'suggestCharts', [key], {});\n",
              "      } catch (error) {\n",
              "        console.error('Error during call to suggestCharts:', error);\n",
              "      }\n",
              "      quickchartButtonEl.classList.remove('colab-df-spinner');\n",
              "      quickchartButtonEl.classList.add('colab-df-quickchart-complete');\n",
              "    }\n",
              "    (() => {\n",
              "      let quickchartButtonEl =\n",
              "        document.querySelector('#df-7e89f6f5-5c7d-42af-aa34-5327002a0561 button');\n",
              "      quickchartButtonEl.style.display =\n",
              "        google.colab.kernel.accessAllowed ? 'block' : 'none';\n",
              "    })();\n",
              "  </script>\n",
              "</div>\n",
              "    </div>\n",
              "  </div>\n"
            ]
          },
          "metadata": {},
          "execution_count": 41
        }
      ]
    },
    {
      "cell_type": "markdown",
      "source": [
        "## 4) Select relatively liquid options to compare our results with data"
      ],
      "metadata": {
        "id": "Nk_moae26HEW"
      }
    },
    {
      "cell_type": "code",
      "source": [
        "treshold_volume = 50 # on exclut les options avec un volume faible car peu liquides, les options OTM ou ITM sont souvent moins liquides que celles près de la monnaie (ATM)\n",
        "\n",
        "call_filter = df_call[\n",
        "    (df_call[\"volume\"] >= treshold_volume)\n",
        "]\n",
        "print(call_filter)"
      ],
      "metadata": {
        "colab": {
          "base_uri": "https://localhost:8080/"
        },
        "id": "gH-QDOQQT9lr",
        "outputId": "81e19351-8ccd-4b72-c007-2ce3f5591225"
      },
      "execution_count": null,
      "outputs": [
        {
          "output_type": "stream",
          "name": "stdout",
          "text": [
            "         contractSymbol             lastTradeDate  strike  lastPrice    bid  \\\n",
            "9   AMZN240223C00125000 2024-02-05 16:55:02+00:00   125.0      44.70  45.60   \n",
            "15  AMZN240223C00155000 2024-02-05 19:08:05+00:00   155.0      15.22  15.80   \n",
            "16  AMZN240223C00160000 2024-02-05 19:29:21+00:00   160.0      11.17  11.20   \n",
            "17  AMZN240223C00165000 2024-02-05 19:35:17+00:00   165.0       7.30   7.10   \n",
            "18  AMZN240223C00170000 2024-02-05 19:33:12+00:00   170.0       4.04   4.05   \n",
            "19  AMZN240223C00175000 2024-02-05 19:34:38+00:00   175.0       2.00   1.98   \n",
            "20  AMZN240223C00180000 2024-02-05 19:36:20+00:00   180.0       0.84   0.84   \n",
            "21  AMZN240223C00185000 2024-02-05 19:20:05+00:00   185.0       0.32   0.34   \n",
            "22  AMZN240223C00190000 2024-02-05 19:31:26+00:00   190.0       0.16   0.15   \n",
            "23  AMZN240223C00195000 2024-02-05 19:24:20+00:00   195.0       0.09   0.09   \n",
            "24  AMZN240223C00200000 2024-02-05 18:12:45+00:00   200.0       0.06   0.05   \n",
            "26  AMZN240223C00210000 2024-02-05 18:48:36+00:00   210.0       0.03   0.02   \n",
            "27  AMZN240223C00215000 2024-02-05 18:37:14+00:00   215.0       0.02   0.02   \n",
            "\n",
            "      ask     change  percentChange  volume  openInterest  impliedVolatility  \\\n",
            "9   45.80  13.610001      43.776134   107.0            30           0.848146   \n",
            "15  16.05  -2.380000     -13.522728    54.0          1608           0.378912   \n",
            "16  11.40  -1.710000     -13.276398   144.0          2352           0.320319   \n",
            "17   7.20  -1.349999     -15.606930  1301.0          3633           0.276619   \n",
            "18   4.10  -1.110000     -21.553400  2679.0          3037           0.263923   \n",
            "19   2.00  -0.780000     -28.057554  2988.0          3492           0.255012   \n",
            "20   0.85  -0.470000     -35.877860  1160.0          2824           0.251716   \n",
            "21   0.35  -0.250000     -43.859650  1501.0          1434           0.257088   \n",
            "22   0.17  -0.090000     -36.000000   306.0          1664           0.273933   \n",
            "23   0.10  -0.050000     -35.714283   153.0           566           0.297859   \n",
            "24   0.06  -0.030000     -33.333336   119.0           873           0.318366   \n",
            "26   0.03   0.000000       0.000000    82.0           132           0.367194   \n",
            "27   0.03  -0.020000     -50.000000    64.0           169           0.402350   \n",
            "\n",
            "    inTheMoney contractSize currency  \n",
            "9         True      REGULAR      USD  \n",
            "15        True      REGULAR      USD  \n",
            "16        True      REGULAR      USD  \n",
            "17        True      REGULAR      USD  \n",
            "18        True      REGULAR      USD  \n",
            "19       False      REGULAR      USD  \n",
            "20       False      REGULAR      USD  \n",
            "21       False      REGULAR      USD  \n",
            "22       False      REGULAR      USD  \n",
            "23       False      REGULAR      USD  \n",
            "24       False      REGULAR      USD  \n",
            "26       False      REGULAR      USD  \n",
            "27       False      REGULAR      USD  \n"
          ]
        }
      ]
    },
    {
      "cell_type": "code",
      "source": [
        "put_filter = df_put[\n",
        "    (df_put[\"volume\"] >= treshold_volume)\n",
        "]\n",
        "print(put_filter)"
      ],
      "metadata": {
        "colab": {
          "base_uri": "https://localhost:8080/"
        },
        "id": "Zzd4YLzu7YRB",
        "outputId": "1f0f56ce-ad2f-4f02-fc1b-224648186252"
      },
      "execution_count": null,
      "outputs": [
        {
          "output_type": "stream",
          "name": "stdout",
          "text": [
            "         contractSymbol             lastTradeDate  strike  lastPrice   bid  \\\n",
            "9   AMZN240223P00130000 2024-02-05 18:55:23+00:00   130.0       0.05  0.04   \n",
            "10  AMZN240223P00135000 2024-02-05 19:26:01+00:00   135.0       0.05  0.05   \n",
            "11  AMZN240223P00140000 2024-02-05 19:19:06+00:00   140.0       0.09  0.08   \n",
            "12  AMZN240223P00145000 2024-02-05 19:29:47+00:00   145.0       0.11  0.11   \n",
            "13  AMZN240223P00150000 2024-02-05 19:29:47+00:00   150.0       0.16  0.15   \n",
            "14  AMZN240223P00155000 2024-02-05 19:29:16+00:00   155.0       0.27  0.26   \n",
            "15  AMZN240223P00160000 2024-02-05 19:32:31+00:00   160.0       0.61  0.59   \n",
            "16  AMZN240223P00165000 2024-02-05 19:36:32+00:00   165.0       1.50  1.49   \n",
            "17  AMZN240223P00170000 2024-02-05 19:35:54+00:00   170.0       3.33  3.35   \n",
            "18  AMZN240223P00175000 2024-02-05 19:10:52+00:00   175.0       6.70  6.25   \n",
            "\n",
            "     ask  change  percentChange  volume  openInterest  impliedVolatility  \\\n",
            "9   0.05   -0.01     -16.666664   331.0          3585           0.496099   \n",
            "10  0.06   -0.02     -28.571426    97.0          1039           0.443365   \n",
            "11  0.09   -0.01      -9.999998  1027.0          1579           0.404303   \n",
            "12  0.12   -0.01      -8.333332   240.0          1484           0.355475   \n",
            "13  0.16    0.00       0.000000   251.0          2363           0.305671   \n",
            "14  0.27    0.02       8.000004   233.0          2594           0.265632   \n",
            "15  0.60    0.05       8.928573   662.0           835           0.239265   \n",
            "16  1.51    0.17      12.781952   787.0          2841           0.226936   \n",
            "17  3.40    0.43      14.827580   743.0          2147           0.220711   \n",
            "18  6.35    0.85      14.529914    94.0           379           0.209236   \n",
            "\n",
            "    inTheMoney contractSize currency  \n",
            "9        False      REGULAR      USD  \n",
            "10       False      REGULAR      USD  \n",
            "11       False      REGULAR      USD  \n",
            "12       False      REGULAR      USD  \n",
            "13       False      REGULAR      USD  \n",
            "14       False      REGULAR      USD  \n",
            "15       False      REGULAR      USD  \n",
            "16       False      REGULAR      USD  \n",
            "17       False      REGULAR      USD  \n",
            "18        True      REGULAR      USD  \n"
          ]
        }
      ]
    },
    {
      "cell_type": "markdown",
      "source": [
        "## 5) View the implied volatilities contained in the dataframe for the same maturity\n"
      ],
      "metadata": {
        "id": "QPakrD1w6p0c"
      }
    },
    {
      "cell_type": "markdown",
      "source": [
        "### 5.1) Call option"
      ],
      "metadata": {
        "id": "1TX23XHbCbLU"
      }
    },
    {
      "cell_type": "code",
      "source": [
        "strike_call = call_filter[\"strike\"]\n",
        "implied_volatility_call = call_filter[\"impliedVolatility\"]\n",
        "\n",
        "plt.figure(figsize=(10,6))\n",
        "plt.plot(strike_call, implied_volatility_call, marker='o', linestyle='-')\n",
        "plt.title(\"Implied volatility as function of strikes (Call options)\")\n",
        "plt.xlabel(\"Strike\")\n",
        "plt.ylabel(\"Implied Volatility\")\n",
        "plt.grid(True)\n",
        "plt.show()"
      ],
      "metadata": {
        "colab": {
          "base_uri": "https://localhost:8080/",
          "height": 564
        },
        "id": "AwbYRnIe7O5w",
        "outputId": "9a33a7a8-f9d0-469c-9d32-d71adbc88c0e"
      },
      "execution_count": null,
      "outputs": [
        {
          "output_type": "display_data",
          "data": {
            "text/plain": [
              "<Figure size 1000x600 with 1 Axes>"
            ],
            "image/png": "[encoded data removed]"
          },
          "metadata": {}
        }
      ]
    },
    {
      "cell_type": "markdown",
      "source": [
        "# U shape\n",
        "As the strike price K increases for call options, implied volatility increases. This is generally observed for OTM (Out-of-The-Money) options, as there is a lower probability of the option ending in the money, making these options riskier and more expensive.\n",
        "\n",
        "Conversely, when the strike price falls for a call, implied volatility tends to fall. This is partly because ITM options are often more widely traded and liquid, which reduces the option premium and hence implied volatility."
      ],
      "metadata": {
        "id": "OqzHzGaOBYPf"
      }
    },
    {
      "cell_type": "markdown",
      "source": [
        "### 5.2) Put Option"
      ],
      "metadata": {
        "id": "xDf--W3UCjh0"
      }
    },
    {
      "cell_type": "code",
      "source": [
        "strike_put = put_filter[\"strike\"]\n",
        "implied_volatility_put = put_filter[\"impliedVolatility\"]\n",
        "\n",
        "plt.figure(figsize=(10,6))\n",
        "plt.plot(strike_put, implied_volatility_put, marker='o', linestyle='-')\n",
        "plt.title(\"Implied volatility as function of strikes (Call options)\")\n",
        "plt.xlabel(\"Strike\")\n",
        "plt.ylabel(\"Implied Volatility\")\n",
        "plt.grid(True)\n",
        "plt.show()"
      ],
      "metadata": {
        "colab": {
          "base_uri": "https://localhost:8080/",
          "height": 564
        },
        "id": "8t99ArPACDnS",
        "outputId": "292d2ff1-73e6-4b48-832e-cb1ca514c258"
      },
      "execution_count": null,
      "outputs": [
        {
          "output_type": "display_data",
          "data": {
            "text/plain": [
              "<Figure size 1000x600 with 1 Axes>"
            ],
            "image/png": "[encoded data removed]"
          },
          "metadata": {}
        }
      ]
    },
    {
      "cell_type": "markdown",
      "source": [
        "## 6) Calculate implied volatility with our functions"
      ],
      "metadata": {
        "id": "PJQ9ABGTC6-T"
      }
    },
    {
      "cell_type": "code",
      "source": [
        "S = 100\n",
        "T = df_call['daysToExpiration'] / 365  # Assurez-vous que vous avez la durée en années\n",
        "r = df_call['riskFreeRate'] / 100  # Assurez-vous que vous avez le taux sans risque en pourcentage\n",
        "target_price = df_call['lastPrice']  # Remplacez 'lastPrice' par le nom de la colonne contenant le prix de l'option observé sur le marché\n",
        "tol = 10**-8\n",
        "\n",
        "ImpliedVolCall(target_price, S, K, r, T, tol)"
      ],
      "metadata": {
        "colab": {
          "base_uri": "https://localhost:8080/",
          "height": 512
        },
        "id": "vv9ekUjkDBAU",
        "outputId": "8697f020-56fc-418f-85bc-a3745f65ce9c"
      },
      "execution_count": null,
      "outputs": [
        {
          "output_type": "error",
          "ename": "KeyError",
          "evalue": "'daysToExpiration'",
          "traceback": [
            "\u001b[0;31m---------------------------------------------------------------------------\u001b[0m",
            "\u001b[0;31mKeyError\u001b[0m                                  Traceback (most recent call last)",
            "\u001b[0;32m/usr/local/lib/python3.10/dist-packages/pandas/core/indexes/base.py\u001b[0m in \u001b[0;36mget_loc\u001b[0;34m(self, key, method, tolerance)\u001b[0m\n\u001b[1;32m   3801\u001b[0m             \u001b[0;32mtry\u001b[0m\u001b[0;34m:\u001b[0m\u001b[0;34m\u001b[0m\u001b[0;34m\u001b[0m\u001b[0m\n\u001b[0;32m-> 3802\u001b[0;31m                 \u001b[0;32mreturn\u001b[0m \u001b[0mself\u001b[0m\u001b[0;34m.\u001b[0m\u001b[0m_engine\u001b[0m\u001b[0;34m.\u001b[0m\u001b[0mget_loc\u001b[0m\u001b[0;34m(\u001b[0m\u001b[0mcasted_key\u001b[0m\u001b[0;34m)\u001b[0m\u001b[0;34m\u001b[0m\u001b[0;34m\u001b[0m\u001b[0m\n\u001b[0m\u001b[1;32m   3803\u001b[0m             \u001b[0;32mexcept\u001b[0m \u001b[0mKeyError\u001b[0m \u001b[0;32mas\u001b[0m \u001b[0merr\u001b[0m\u001b[0;34m:\u001b[0m\u001b[0;34m\u001b[0m\u001b[0;34m\u001b[0m\u001b[0m\n",
            "\u001b[0;32m/usr/local/lib/python3.10/dist-packages/pandas/_libs/index.pyx\u001b[0m in \u001b[0;36mpandas._libs.index.IndexEngine.get_loc\u001b[0;34m()\u001b[0m\n",
            "\u001b[0;32m/usr/local/lib/python3.10/dist-packages/pandas/_libs/index.pyx\u001b[0m in \u001b[0;36mpandas._libs.index.IndexEngine.get_loc\u001b[0;34m()\u001b[0m\n",
            "\u001b[0;32mpandas/_libs/hashtable_class_helper.pxi\u001b[0m in \u001b[0;36mpandas._libs.hashtable.PyObjectHashTable.get_item\u001b[0;34m()\u001b[0m\n",
            "\u001b[0;32mpandas/_libs/hashtable_class_helper.pxi\u001b[0m in \u001b[0;36mpandas._libs.hashtable.PyObjectHashTable.get_item\u001b[0;34m()\u001b[0m\n",
            "\u001b[0;31mKeyError\u001b[0m: 'daysToExpiration'",
            "\nThe above exception was the direct cause of the following exception:\n",
            "\u001b[0;31mKeyError\u001b[0m                                  Traceback (most recent call last)",
            "\u001b[0;32m<ipython-input-57-5f93e9f1fd28>\u001b[0m in \u001b[0;36m<cell line: 2>\u001b[0;34m()\u001b[0m\n\u001b[1;32m      1\u001b[0m \u001b[0mS\u001b[0m \u001b[0;34m=\u001b[0m \u001b[0;36m100\u001b[0m\u001b[0;34m\u001b[0m\u001b[0;34m\u001b[0m\u001b[0m\n\u001b[0;32m----> 2\u001b[0;31m \u001b[0mT\u001b[0m \u001b[0;34m=\u001b[0m \u001b[0mdf_call\u001b[0m\u001b[0;34m[\u001b[0m\u001b[0;34m'daysToExpiration'\u001b[0m\u001b[0;34m]\u001b[0m \u001b[0;34m/\u001b[0m \u001b[0;36m365\u001b[0m  \u001b[0;31m# Assurez-vous que vous avez la durée en années\u001b[0m\u001b[0;34m\u001b[0m\u001b[0;34m\u001b[0m\u001b[0m\n\u001b[0m\u001b[1;32m      3\u001b[0m \u001b[0mr\u001b[0m \u001b[0;34m=\u001b[0m \u001b[0mdf_call\u001b[0m\u001b[0;34m[\u001b[0m\u001b[0;34m'riskFreeRate'\u001b[0m\u001b[0;34m]\u001b[0m \u001b[0;34m/\u001b[0m \u001b[0;36m100\u001b[0m  \u001b[0;31m# Assurez-vous que vous avez le taux sans risque en pourcentage\u001b[0m\u001b[0;34m\u001b[0m\u001b[0;34m\u001b[0m\u001b[0m\n\u001b[1;32m      4\u001b[0m \u001b[0mtarget_price\u001b[0m \u001b[0;34m=\u001b[0m \u001b[0mdf_call\u001b[0m\u001b[0;34m[\u001b[0m\u001b[0;34m'lastPrice'\u001b[0m\u001b[0;34m]\u001b[0m  \u001b[0;31m# Remplacez 'lastPrice' par le nom de la colonne contenant le prix de l'option observé sur le marché\u001b[0m\u001b[0;34m\u001b[0m\u001b[0;34m\u001b[0m\u001b[0m\n\u001b[1;32m      5\u001b[0m \u001b[0mtol\u001b[0m \u001b[0;34m=\u001b[0m \u001b[0;36m10\u001b[0m\u001b[0;34m**\u001b[0m\u001b[0;34m-\u001b[0m\u001b[0;36m8\u001b[0m\u001b[0;34m\u001b[0m\u001b[0;34m\u001b[0m\u001b[0m\n",
            "\u001b[0;32m/usr/local/lib/python3.10/dist-packages/pandas/core/frame.py\u001b[0m in \u001b[0;36m__getitem__\u001b[0;34m(self, key)\u001b[0m\n\u001b[1;32m   3805\u001b[0m             \u001b[0;32mif\u001b[0m \u001b[0mself\u001b[0m\u001b[0;34m.\u001b[0m\u001b[0mcolumns\u001b[0m\u001b[0;34m.\u001b[0m\u001b[0mnlevels\u001b[0m \u001b[0;34m>\u001b[0m \u001b[0;36m1\u001b[0m\u001b[0;34m:\u001b[0m\u001b[0;34m\u001b[0m\u001b[0;34m\u001b[0m\u001b[0m\n\u001b[1;32m   3806\u001b[0m                 \u001b[0;32mreturn\u001b[0m \u001b[0mself\u001b[0m\u001b[0;34m.\u001b[0m\u001b[0m_getitem_multilevel\u001b[0m\u001b[0;34m(\u001b[0m\u001b[0mkey\u001b[0m\u001b[0;34m)\u001b[0m\u001b[0;34m\u001b[0m\u001b[0;34m\u001b[0m\u001b[0m\n\u001b[0;32m-> 3807\u001b[0;31m             \u001b[0mindexer\u001b[0m \u001b[0;34m=\u001b[0m \u001b[0mself\u001b[0m\u001b[0;34m.\u001b[0m\u001b[0mcolumns\u001b[0m\u001b[0;34m.\u001b[0m\u001b[0mget_loc\u001b[0m\u001b[0;34m(\u001b[0m\u001b[0mkey\u001b[0m\u001b[0;34m)\u001b[0m\u001b[0;34m\u001b[0m\u001b[0;34m\u001b[0m\u001b[0m\n\u001b[0m\u001b[1;32m   3808\u001b[0m             \u001b[0;32mif\u001b[0m \u001b[0mis_integer\u001b[0m\u001b[0;34m(\u001b[0m\u001b[0mindexer\u001b[0m\u001b[0;34m)\u001b[0m\u001b[0;34m:\u001b[0m\u001b[0;34m\u001b[0m\u001b[0;34m\u001b[0m\u001b[0m\n\u001b[1;32m   3809\u001b[0m                 \u001b[0mindexer\u001b[0m \u001b[0;34m=\u001b[0m \u001b[0;34m[\u001b[0m\u001b[0mindexer\u001b[0m\u001b[0;34m]\u001b[0m\u001b[0;34m\u001b[0m\u001b[0;34m\u001b[0m\u001b[0m\n",
            "\u001b[0;32m/usr/local/lib/python3.10/dist-packages/pandas/core/indexes/base.py\u001b[0m in \u001b[0;36mget_loc\u001b[0;34m(self, key, method, tolerance)\u001b[0m\n\u001b[1;32m   3802\u001b[0m                 \u001b[0;32mreturn\u001b[0m \u001b[0mself\u001b[0m\u001b[0;34m.\u001b[0m\u001b[0m_engine\u001b[0m\u001b[0;34m.\u001b[0m\u001b[0mget_loc\u001b[0m\u001b[0;34m(\u001b[0m\u001b[0mcasted_key\u001b[0m\u001b[0;34m)\u001b[0m\u001b[0;34m\u001b[0m\u001b[0;34m\u001b[0m\u001b[0m\n\u001b[1;32m   3803\u001b[0m             \u001b[0;32mexcept\u001b[0m \u001b[0mKeyError\u001b[0m \u001b[0;32mas\u001b[0m \u001b[0merr\u001b[0m\u001b[0;34m:\u001b[0m\u001b[0;34m\u001b[0m\u001b[0;34m\u001b[0m\u001b[0m\n\u001b[0;32m-> 3804\u001b[0;31m                 \u001b[0;32mraise\u001b[0m \u001b[0mKeyError\u001b[0m\u001b[0;34m(\u001b[0m\u001b[0mkey\u001b[0m\u001b[0;34m)\u001b[0m \u001b[0;32mfrom\u001b[0m \u001b[0merr\u001b[0m\u001b[0;34m\u001b[0m\u001b[0;34m\u001b[0m\u001b[0m\n\u001b[0m\u001b[1;32m   3805\u001b[0m             \u001b[0;32mexcept\u001b[0m \u001b[0mTypeError\u001b[0m\u001b[0;34m:\u001b[0m\u001b[0;34m\u001b[0m\u001b[0;34m\u001b[0m\u001b[0m\n\u001b[1;32m   3806\u001b[0m                 \u001b[0;31m# If we have a listlike key, _check_indexing_error will raise\u001b[0m\u001b[0;34m\u001b[0m\u001b[0;34m\u001b[0m\u001b[0m\n",
            "\u001b[0;31mKeyError\u001b[0m: 'daysToExpiration'"
          ]
        }
      ]
    }
  ]
}