{
  "nbformat": 4,
  "nbformat_minor": 0,
  "metadata": {
    "colab": {
      "provenance": [],
      "authorship_tag": "ABX9TyOHY8YuSGXUY8sHVmWeILrj",
      "include_colab_link": true
    },
    "kernelspec": {
      "name": "python3",
      "display_name": "Python 3"
    },
    "language_info": {
      "name": "python"
    }
  },
  "cells": [
    {
      "cell_type": "markdown",
      "metadata": {
        "id": "view-in-github",
        "colab_type": "text"
      },
      "source": [
        "<a href=\"https://colab.research.google.com/github/sylv0303/Git/blob/main/Pricing.ipynb\" target=\"_parent\"><img src=\"https://colab.research.google.com/assets/colab-badge.svg\" alt=\"Open In Colab\"/></a>"
      ]
    },
    {
      "cell_type": "code",
      "execution_count": 1,
      "metadata": {
        "id": "3MqcY-dRGPuN",
        "colab": {
          "base_uri": "https://localhost:8080/"
        },
        "outputId": "16f7699b-9eaa-43dc-c715-ce2d1c544fbc"
      },
      "outputs": [
        {
          "output_type": "stream",
          "name": "stderr",
          "text": [
            "/usr/local/lib/python3.10/dist-packages/yfinance/base.py:48: FutureWarning: The default dtype for empty Series will be 'object' instead of 'float64' in a future version. Specify a dtype explicitly to silence this warning.\n",
            "  _empty_series = pd.Series()\n"
          ]
        }
      ],
      "source": [
        "import pandas as pd\n",
        "import numpy as np\n",
        "import matplotlib as plt\n",
        "from scipy.stats import norm\n",
        "from math import sqrt\n",
        "import yfinance as yf\n",
        "# !pip install yahoo_fin\n",
        "from yahoo_fin import options as op"
      ]
    },
    {
      "cell_type": "markdown",
      "source": [
        "# Implied Volatility\n",
        "En termes simples, la volatilité implicite nous dit ce que le marché pense des fluctuations actuelles et futures des prix. C'est comme une prévision des changements futurs, et c'est pourquoi il est crucial\n",
        "pour nous d'évaluer et de gérer les risques.\n",
        "La volatilité implicite est dérivée en insérant le prix du marché de l'option dans la formule Black-Scholes et en faisant de l'ingénierie inverse pour déterminer la valeur de la volatilité. Cependant, il existe différentes méthodes pour calculer la volatilité implicite, telles que l'exemple ci-dessous où nous avons utilisé la méthode de Newton pour la solution numérique.\n",
        "\n",
        "En termes simples, la formule Black-Scholes est utilisée pour\n",
        "estimer la valeur des options financières. Cela nous aide à\n",
        "comprendre comment le prix d'une option peut changer en fonction\n",
        "de divers facteurs, ce qui en fait un outil précieux pour la\n",
        "tarification des options et les décisions de négociation.\n",
        "Maintenant que nous comprenons l'importance de la volatilité\n",
        "implicite et le rôle de l'équation de Black-Scholes dans la dérivation\n",
        "de sa valeur, la question suivante est la suivante : comment\n",
        "calculons-nous la volatilité implicite ?\n",
        "Exactement ! Lorsque vous pensez au calcul de la volatilité\n",
        "implicite, le processus dont nous avons discuté plus tôt me vient\n",
        "naturellement à l'esprit, n'est-ce pas ? C'est parce que c'est non\n",
        "seulement le moyen principal, mais aussi le plus efficace de dériver\n",
        "la volatilité implicite. Voici une fonction qui fait le travail.\n",
        "\n"
      ],
      "metadata": {
        "id": "XF8nLMywdrpv"
      }
    },
    {
      "cell_type": "markdown",
      "source": [
        "1) Black & Scholes Model"
      ],
      "metadata": {
        "id": "f91Ue4ZZJ2ZJ"
      }
    },
    {
      "cell_type": "code",
      "source": [
        "def CallPrice (S, sigma, K, T, r):\n",
        "  d1 = (np.log(S / K) + (r  + 0.5 * sigma**2/2) * T) / (sigma * sqrt(T))\n",
        "  d2 = d1 - sigma * sqrt(T)\n",
        "  price = S * norm.cdf(d1) - K * np.exp(-r * T) * norm.cdf(d2)\n",
        "\n",
        "  return price"
      ],
      "metadata": {
        "id": "z8obYqC6OcmL"
      },
      "execution_count": 2,
      "outputs": []
    },
    {
      "cell_type": "code",
      "source": [
        "# Parameters\n",
        "S = 100\n",
        "K = 105\n",
        "T = 0.5\n",
        "r = 0.02\n",
        "vol = 0.2\n",
        "\n",
        "print(np.round(CallPrice(S, vol, K, T, r), 3))"
      ],
      "metadata": {
        "colab": {
          "base_uri": "https://localhost:8080/"
        },
        "id": "t-Ix2r2ZY-JR",
        "outputId": "014d917e-f734-498e-83c4-ff35619d9e38"
      },
      "execution_count": 3,
      "outputs": [
        {
          "output_type": "stream",
          "name": "stdout",
          "text": [
            "3.982\n"
          ]
        }
      ]
    },
    {
      "cell_type": "markdown",
      "source": [
        "## Newton-Raphson Algorithm\n",
        "We will calculate the implied volatility given the option prices calculated with the Black & Scholes (B&S) model (data).\n",
        "For this, we will use Newton's method with root finding. We want to resolve:\n",
        "\n",
        "$$\n",
        "\\text{Call}_{\\text{BS}}(\\sigma_{\\text{implied}}) = P \\iff f(x) = \\text{Call}_{\\text{BS}}(x) - P\n",
        "$$\n",
        "\n",
        "\n",
        "We use the 1st order Taylor expansion:\n",
        "\n",
        "$$\n",
        "x_{n+1} = x_n - \\frac{f(x_n)}{f'(x_n)}\n",
        "$$\n",
        "\n",
        "We fix a tolerance level and iterate the algorithm until the difference between the two consecutive estimations is below this level."
      ],
      "metadata": {
        "id": "B2rTFrJdeKDq"
      }
    },
    {
      "cell_type": "code",
      "source": [
        "def newton_step(f, x0):\n",
        "  def df(x):\n",
        "    dx = 0.00001\n",
        "    return (f(x + dx) - f(x)) / dx # calcul de la derivée (formule) --> donne une approximation\n",
        "  return x0 - f(x0)/df(x0) # on utilise l'approximation de cette dérivée pour calculer x1\n",
        "\n",
        "def newton(f, x0, tol):\n",
        "    while abs(newton_step(f, x0) - x0) > tol: # on itère jusqu'à ce que la diffèrence entre l'approximation n+1 et n soit en dessous du seuil de tolerance\n",
        "        x0 = newton_step(f, x0)\n",
        "    return x0\n"
      ],
      "metadata": {
        "id": "T-W6RnjRKMVO"
      },
      "execution_count": 4,
      "outputs": []
    },
    {
      "cell_type": "markdown",
      "source": [
        "## Implied volatility estimation\n",
        "$$ f(x) = \\text{Call}_{\\text{BS}}(x) - P\n",
        "$$"
      ],
      "metadata": {
        "id": "J9Po_gCzRezH"
      }
    },
    {
      "cell_type": "code",
      "source": [
        "#CallPrice(vol) - TargetPrice\n",
        "CallPriceVol = lambda vol: CallPrice(S, vol, K, T, r) - C  # pour trouver quand f(x) = 0 (intersection des abscisses) --> on trouve la racine x (vol implicite) donc f(x)= prix de l'option observé sur le marché"
      ],
      "metadata": {
        "id": "Ua6RoVQ5RnRV"
      },
      "execution_count": 5,
      "outputs": []
    },
    {
      "cell_type": "code",
      "source": [
        "C = CallPrice(S, vol, K, T, r)\n",
        "init = 0.1  # on initialise x0\n",
        "tol = 10**-8   # on rensiegne la tolérance (quand on s'arrête)\n",
        "print(newton(CallPriceVol, init, tol)) # on fait fonctionner l'algo et ça nous renvoie la vol implicite"
      ],
      "metadata": {
        "colab": {
          "base_uri": "https://localhost:8080/"
        },
        "id": "-1fkI501X66U",
        "outputId": "2610a6f3-9521-4392-da7e-a55c6b445fa8"
      },
      "execution_count": 6,
      "outputs": [
        {
          "output_type": "stream",
          "name": "stdout",
          "text": [
            "0.20000000002855028\n"
          ]
        }
      ]
    },
    {
      "cell_type": "code",
      "source": [
        "# On teste 4 itérations de l'algo, on aura x0, x1, x2, x3 et x4 (vol implicite)\n",
        "x0 = init\n",
        "for i in range(0,4):\n",
        "  print(x0)\n",
        "  x0 = newton_step(CallPriceVol, x0)"
      ],
      "metadata": {
        "colab": {
          "base_uri": "https://localhost:8080/"
        },
        "id": "lw_EQoZ7ZaTf",
        "outputId": "ca4a9cff-12c9-412e-d797-8d0574390ce4"
      },
      "execution_count": 7,
      "outputs": [
        {
          "output_type": "stream",
          "name": "stdout",
          "text": [
            "0.1\n",
            "0.20770294364521646\n",
            "0.20000902556434494\n",
            "0.20000000002855028\n"
          ]
        }
      ]
    },
    {
      "cell_type": "markdown",
      "source": [
        "## Inflexion Point\n",
        "\n",
        "We could use the 2nd order Taylor expansion to estimate the implied volaticity:\n",
        "\n",
        "$$\n",
        "f(x) = f(x_n) + f'(x_n)(x-x_n) + \\frac{f''(\\epsilon_n)}{2}(x-x_n)^2\n",
        "$$\n",
        "\n",
        "with\n",
        "\n",
        "$$\n",
        "x = x_{\\text{target}} \\quad \\text{and} \\quad f(x_{\\text{target}}) = 0\n",
        "$$\n",
        "\n",
        "$$\n",
        "x_{\\text{target}} = x_n - \\frac{f(x_n)}{f'(x_n)} - \\frac{f''(x_n)}{2f'(x_n)}(x_{\\text{target}} - x_n)^2\n",
        "$$\n",
        "\n",
        "One of the drawbacks of the Newton-Raphson Method is that convergence is not guaranteed.\n",
        "\n",
        "We want to optimize the Newton-Raphson algorithm and to do this, we start the algorithm at an inflection point. Indeed, we know that at the inflection point, the second derivative is equal to zero because the curve is convex to the left and concave to the right. Therefore, our series σn is monotonous with:\n",
        "\n",
        "$$\n",
        "\\sigma_0 > \\sigma_1 > \\sigma_2 > \\ldots > \\sigma_{\\text{implied}}\n",
        "$$\n",
        "\n",
        "The algorithm is convergent and optimized.\n",
        "\n",
        "The value of the inflection point is given by :\n",
        "\n",
        "$$\n",
        "I = \\sqrt{\\frac{2 \\cdot |\\log(m)|}{T}} \\quad \\text{and} \\quad m = \\frac{S}{K \\cdot e^{-rT}} \\quad \\text{(moneyness)}\n",
        "$$"
      ],
      "metadata": {
        "id": "GBroiTeubsJy"
      }
    },
    {
      "cell_type": "code",
      "source": [
        "def Inflexionpoint (S, K, T, r):\n",
        "  m = S / (K * np.exp(-r * T))\n",
        "  return np.sqrt(2 * np.abs(np.log(m)) / T)"
      ],
      "metadata": {
        "id": "PR4M9k8Sa2UF"
      },
      "execution_count": 8,
      "outputs": []
    },
    {
      "cell_type": "code",
      "source": [
        "I = Inflexionpoint(S, K, T, r)\n",
        "print(\"Inflexion Point:\",I)"
      ],
      "metadata": {
        "colab": {
          "base_uri": "https://localhost:8080/"
        },
        "id": "00xosq66bcOs",
        "outputId": "d35e997b-3a96-435a-935e-d9ad14aaf443"
      },
      "execution_count": 9,
      "outputs": [
        {
          "output_type": "stream",
          "name": "stdout",
          "text": [
            "Inflexion Point: 0.39390437504263387\n"
          ]
        }
      ]
    },
    {
      "cell_type": "markdown",
      "source": [
        "## Implied Volatility for Call Option\n",
        "\n",
        "$$ f(x) = \\text{Call}_{\\text{BS}}(x) - P\n",
        "$$\n",
        "This equation can be solved with the Newton-Raphson algorithm, using the inflection point as the initial guess. The series σn is monotonous:\n",
        "\n",
        "$$\n",
        "\\sigma_0 = I, \\quad \\sigma_{n+1} = \\sigma_n - \\frac{\\text{Call}_{\\text{BS}}(\\sigma_n) - P}{\\frac{\\partial \\text{Call}_{\\text{BS}}(\\sigma_n)}{\\partial \\sigma}}\n",
        "$$\n",
        "\n",
        "where Vega is:\n",
        "\n",
        "$$\n",
        "\\frac{\\partial \\text{Call}_{\\text{BS}}(\\sigma_n)}{\\partial \\sigma} = S \\cdot \\sqrt{T} \\cdot N'(d_1)\n",
        "$$"
      ],
      "metadata": {
        "id": "VWa-nI9-bwP5"
      }
    },
    {
      "cell_type": "code",
      "source": [
        "def vega(S, sigma, K, T, r):\n",
        "  d1 = (np.log(S / K) + (r  + 0.5 * sigma**2/2) * T) / (sigma * sqrt(T))\n",
        "  vega = S * T**0.5 * norm.cdf(d1)\n",
        "  return vega\n",
        "\n",
        "def ImpliedVolCall(C, S, K, r, T, tol):\n",
        "  x0 = Inflexionpoint(S, K, T, r)\n",
        "  p = CallPrice(S, x0, K, T, r)\n",
        "  v = vega(S, x0, K, T, r)\n",
        "  while (abs((p - C) / v) > tol):\n",
        "    x0 = x0 - (p - C) / v\n",
        "    p = CallPrice(S, x0, K, T, r)\n",
        "    v = vega(S, x0, K, T, r)\n",
        "  return x0"
      ],
      "metadata": {
        "id": "pzQrJKwQbpVK"
      },
      "execution_count": 10,
      "outputs": []
    },
    {
      "cell_type": "code",
      "source": [
        "# Parameters\n",
        "S = 100\n",
        "K = 105\n",
        "T = 0.5\n",
        "r = 0.02\n",
        "vol = 0.2\n",
        "\n",
        "C = CallPrice(S, vol, K, T, r)"
      ],
      "metadata": {
        "id": "N4BJ0hdMcbAR"
      },
      "execution_count": 11,
      "outputs": []
    },
    {
      "cell_type": "code",
      "source": [
        "tol = 10**-8\n",
        "ImpliedVolCall(C, S, K, r, T, tol)"
      ],
      "metadata": {
        "colab": {
          "base_uri": "https://localhost:8080/"
        },
        "id": "uQurr5xfdPWu",
        "outputId": "e0311b79-5d63-4f6e-eaec-72aeb88e1a7b"
      },
      "execution_count": 12,
      "outputs": [
        {
          "output_type": "execute_result",
          "data": {
            "text/plain": [
              "0.2000000053694155"
            ]
          },
          "metadata": {},
          "execution_count": 12
        }
      ]
    },
    {
      "cell_type": "markdown",
      "source": [
        "## 3) Import options data\n"
      ],
      "metadata": {
        "id": "W58Vm3LYGbB8"
      }
    },
    {
      "cell_type": "code",
      "source": [],
      "metadata": {
        "id": "zsLg-Y4G9Zxh"
      },
      "execution_count": null,
      "outputs": []
    },
    {
      "cell_type": "code",
      "source": [
        "import yfinance as yf\n",
        "import numpy as np\n",
        "from scipy.stats import norm\n",
        "import pandas as pd\n",
        "import matplotlib.pyplot as plt\n",
        "\n",
        "# Set stock ticker and expiry date\n",
        "ticker = input(\"Enter stock ticker: \")\n",
        "expiry = input(\"Enter expiry date: \")\n",
        "\n",
        "# Get stock data for the past year\n",
        "start_date = pd.to_datetime('today') - pd.DateOffset(years=1)\n",
        "end_date = pd.to_datetime('today')\n",
        "stock_data = yf.download(ticker, start=start_date, end=end_date)\n",
        "\n",
        "# Calculate historical volatility\n",
        "returns = stock_data['Adj Close'].pct_change().dropna()\n",
        "volatility = returns.std() * np.sqrt(252)\n",
        "\n",
        "# Get option chain for stock ticker and expiry date\n",
        "option_chain = yf.Ticker(ticker).option_chain(expiry)\n",
        "\n",
        "# Filter option chain for puts and calls\n",
        "puts = option_chain.puts.sort_values(by='lastPrice')\n",
        "calls = option_chain.calls.sort_values(by='lastPrice')\n",
        "\n",
        "# Filter for conservative trader\n",
        "conservative_puts = puts[puts[\"inTheMoney\"] == True].head(5)\n",
        "conservative_calls = calls[calls[\"inTheMoney\"] == True].tail(5)\n",
        "\n",
        "# Set risk-free interest rate\n",
        "r = -0.0626\n",
        "\n",
        "# Calculate time to expiration in years\n",
        "t = (pd.to_datetime(expiry) - pd.to_datetime('today')).days / 365"
      ],
      "metadata": {
        "colab": {
          "base_uri": "https://localhost:8080/",
          "height": 470
        },
        "id": "wOYJXMZs7hAJ",
        "outputId": "ed0cd36e-fc45-4176-a2e9-e5815a025ce7"
      },
      "execution_count": 65,
      "outputs": [
        {
          "name": "stdout",
          "output_type": "stream",
          "text": [
            "Enter stock ticker: 'AAPL'\n",
            "Enter expiry date: 2024-02-02\n"
          ]
        },
        {
          "output_type": "stream",
          "name": "stderr",
          "text": [
            "\r[*********************100%%**********************]  1 of 1 completed\n",
            "ERROR:yfinance:\n",
            "1 Failed download:\n",
            "ERROR:yfinance:[\"'AAPL'\"]: Exception(\"%ticker%: No timezone found, symbol may be delisted\")\n"
          ]
        },
        {
          "output_type": "error",
          "ename": "ValueError",
          "evalue": "Expiration `2024-02-02` cannot be found. Available expirations are: []",
          "traceback": [
            "\u001b[0;31m---------------------------------------------------------------------------\u001b[0m",
            "\u001b[0;31mValueError\u001b[0m                                Traceback (most recent call last)",
            "\u001b[0;32m<ipython-input-65-9f5b5034e8aa>\u001b[0m in \u001b[0;36m<cell line: 21>\u001b[0;34m()\u001b[0m\n\u001b[1;32m     19\u001b[0m \u001b[0;34m\u001b[0m\u001b[0m\n\u001b[1;32m     20\u001b[0m \u001b[0;31m# Get option chain for stock ticker and expiry date\u001b[0m\u001b[0;34m\u001b[0m\u001b[0;34m\u001b[0m\u001b[0m\n\u001b[0;32m---> 21\u001b[0;31m \u001b[0moption_chain\u001b[0m \u001b[0;34m=\u001b[0m \u001b[0myf\u001b[0m\u001b[0;34m.\u001b[0m\u001b[0mTicker\u001b[0m\u001b[0;34m(\u001b[0m\u001b[0mticker\u001b[0m\u001b[0;34m)\u001b[0m\u001b[0;34m.\u001b[0m\u001b[0moption_chain\u001b[0m\u001b[0;34m(\u001b[0m\u001b[0mexpiry\u001b[0m\u001b[0;34m)\u001b[0m\u001b[0;34m\u001b[0m\u001b[0;34m\u001b[0m\u001b[0m\n\u001b[0m\u001b[1;32m     22\u001b[0m \u001b[0;34m\u001b[0m\u001b[0m\n\u001b[1;32m     23\u001b[0m \u001b[0;31m# Filter option chain for puts and calls\u001b[0m\u001b[0;34m\u001b[0m\u001b[0;34m\u001b[0m\u001b[0m\n",
            "\u001b[0;32m/usr/local/lib/python3.10/dist-packages/yfinance/ticker.py\u001b[0m in \u001b[0;36moption_chain\u001b[0;34m(self, date, tz)\u001b[0m\n\u001b[1;32m     88\u001b[0m                 \u001b[0mself\u001b[0m\u001b[0;34m.\u001b[0m\u001b[0m_download_options\u001b[0m\u001b[0;34m(\u001b[0m\u001b[0;34m)\u001b[0m\u001b[0;34m\u001b[0m\u001b[0;34m\u001b[0m\u001b[0m\n\u001b[1;32m     89\u001b[0m             \u001b[0;32mif\u001b[0m \u001b[0mdate\u001b[0m \u001b[0;32mnot\u001b[0m \u001b[0;32min\u001b[0m \u001b[0mself\u001b[0m\u001b[0;34m.\u001b[0m\u001b[0m_expirations\u001b[0m\u001b[0;34m:\u001b[0m\u001b[0;34m\u001b[0m\u001b[0;34m\u001b[0m\u001b[0m\n\u001b[0;32m---> 90\u001b[0;31m                 raise ValueError(\n\u001b[0m\u001b[1;32m     91\u001b[0m                     \u001b[0;34mf\"Expiration `{date}` cannot be found. \"\u001b[0m\u001b[0;34m\u001b[0m\u001b[0;34m\u001b[0m\u001b[0m\n\u001b[1;32m     92\u001b[0m                     f\"Available expirations are: [{', '.join(self._expirations)}]\")\n",
            "\u001b[0;31mValueError\u001b[0m: Expiration `2024-02-02` cannot be found. Available expirations are: []"
          ]
        }
      ]
    },
    {
      "cell_type": "code",
      "source": [
        "import yfinance as yf\n",
        "import numpy as np\n",
        "from scipy.stats import norm\n",
        "import pandas as pd\n",
        "import matplotlib.pyplot as plt\n",
        "\n",
        "# Set stock ticker and expiry date\n",
        "ticker = 'AAPL'\n",
        "expiry = op.get_expiration_dates(ticker)\n",
        "\n",
        "# Get stock data for the past year\n",
        "start_date = pd.to_datetime('today') - pd.DateOffset(years=1)\n",
        "end_date = pd.to_datetime('today')\n",
        "stock_data = yf.download(ticker, start=start_date, end=end_date)\n",
        "\n",
        "# Calculate historical volatility\n",
        "returns = stock_data['Adj Close'].pct_change().dropna()\n",
        "volatility = returns.std() * np.sqrt(252)\n",
        "\n",
        "# Get option chain for stock ticker and expiry date\n",
        "option_chain = op.get_options_chain(ticker, date = expiry[0])\n",
        "\n",
        "# Filter option chain for puts and calls\n",
        "calls = op.get_calls(ticker, date = expiry[0]).sort_values(by='Last Price')\n",
        "puts = op.get_puts(ticker, date = expiry[0]).sort_values(by='Last Price')\n",
        "# # Filter for conservative trader\n",
        "# conservative_puts = puts[puts[\"inTheMoney\"] == True].head(5)\n",
        "# conservative_calls = calls[calls[\"inTheMoney\"] == True].tail(5)\n",
        "\n",
        "# Set risk-free interest rate\n",
        "r = -0.0626\n",
        "\n",
        "# Calculate time to expiration in years\n",
        "t = (pd.to_datetime(expiry) - pd.to_datetime('today')).days / 365"
      ],
      "metadata": {
        "colab": {
          "base_uri": "https://localhost:8080/"
        },
        "id": "grQSqL7l6-ZX",
        "outputId": "0a47947e-ab40-49cd-d5a3-14d84dbe149d"
      },
      "execution_count": 66,
      "outputs": [
        {
          "output_type": "stream",
          "name": "stderr",
          "text": [
            "\r[*********************100%%**********************]  1 of 1 completed\n"
          ]
        }
      ]
    },
    {
      "cell_type": "code",
      "source": [
        "ticker = 'AAPL'\n",
        "\n",
        "# Get expiration dates\n",
        "expirationDates = op.get_expiration_dates(ticker)\n",
        "expirationDates"
      ],
      "metadata": {
        "colab": {
          "base_uri": "https://localhost:8080/"
        },
        "id": "kFrAmxa9nkIb",
        "outputId": "990e6326-b2e9-44a0-96cf-539e3b206c04"
      },
      "execution_count": 61,
      "outputs": [
        {
          "output_type": "execute_result",
          "data": {
            "text/plain": [
              "['February 16, 2024',\n",
              " 'February 23, 2024',\n",
              " 'March 1, 2024',\n",
              " 'March 8, 2024',\n",
              " 'March 15, 2024',\n",
              " 'March 22, 2024',\n",
              " 'April 19, 2024',\n",
              " 'May 17, 2024',\n",
              " 'June 21, 2024',\n",
              " 'July 19, 2024',\n",
              " 'August 16, 2024',\n",
              " 'September 20, 2024',\n",
              " 'December 20, 2024',\n",
              " 'January 17, 2025',\n",
              " 'March 21, 2025',\n",
              " 'June 20, 2025',\n",
              " 'September 19, 2025',\n",
              " 'December 19, 2025',\n",
              " 'January 16, 2026',\n",
              " 'June 18, 2026']"
            ]
          },
          "metadata": {},
          "execution_count": 61
        }
      ]
    },
    {
      "cell_type": "code",
      "source": [
        "# Call and Put option data\n",
        "callData = op.get_calls(ticker, date = expirationDates[0])\n",
        "putData = op.get_puts(ticker, date = expirationDates[0])\n",
        "\n",
        "# Chain data\n",
        "chainData = op.get_options_chain(ticker, date = expirationDates[0])\n",
        "callData"
      ],
      "metadata": {
        "id": "oWm3WxYlp53L",
        "colab": {
          "base_uri": "https://localhost:8080/",
          "height": 424
        },
        "outputId": "22feccb6-dfc0-4a2e-ea71-b1ad20922ff8"
      },
      "execution_count": 64,
      "outputs": [
        {
          "output_type": "execute_result",
          "data": {
            "text/plain": [
              "          Contract Name         Last Trade Date  Strike  Last Price     Bid  \\\n",
              "0   AAPL240216C00050000  2024-02-09 12:55PM EST    50.0      139.55  138.50   \n",
              "1   AAPL240216C00055000  2024-01-23 12:57PM EST    55.0      140.25  133.60   \n",
              "2   AAPL240216C00060000   2024-01-30 2:04PM EST    60.0      127.80  128.65   \n",
              "3   AAPL240216C00065000   2024-01-04 3:52PM EST    65.0      117.06  120.50   \n",
              "4   AAPL240216C00070000  2024-02-02 11:12AM EST    70.0      116.53  118.20   \n",
              "..                  ...                     ...     ...         ...     ...   \n",
              "64  AAPL240216C00300000   2023-10-24 2:28PM EST   300.0        0.01    0.00   \n",
              "65  AAPL240216C00305000   2024-02-06 1:38PM EST   305.0        0.01    0.00   \n",
              "66  AAPL240216C00310000   2024-01-23 9:49AM EST   310.0        0.01    0.00   \n",
              "67  AAPL240216C00315000  2023-09-15 12:36PM EST   315.0        0.03    0.00   \n",
              "68  AAPL240216C00320000   2024-02-07 3:38PM EST   320.0        0.01    0.00   \n",
              "\n",
              "       Ask  Change % Change  Volume  Open Interest Implied Volatility  \n",
              "0   139.15     1.6   +1.16%       2              2            476.56%  \n",
              "1   134.25     0.0        -       1              0            373.44%  \n",
              "2   129.25     0.0        -       2              0            359.38%  \n",
              "3   121.35     0.0        -       1              1              0.00%  \n",
              "4   119.60     0.0        -       5              1            290.63%  \n",
              "..     ...     ...      ...     ...            ...                ...  \n",
              "64    0.02     0.0        -       4             76            117.19%  \n",
              "65    0.01     0.0        -       3            254            112.50%  \n",
              "66    0.01     0.0        -      10            235            118.75%  \n",
              "67    0.03     0.0        -      23            285            132.81%  \n",
              "68    0.01     0.0        -      10           3377            125.00%  \n",
              "\n",
              "[69 rows x 11 columns]"
            ],
            "text/html": [
              "\n",
              "  <div id=\"df-28ec2100-136b-4f18-86b0-18da6410f83f\" class=\"colab-df-container\">\n",
              "    <div>\n",
              "<style scoped>\n",
              "    .dataframe tbody tr th:only-of-type {\n",
              "        vertical-align: middle;\n",
              "    }\n",
              "\n",
              "    .dataframe tbody tr th {\n",
              "        vertical-align: top;\n",
              "    }\n",
              "\n",
              "    .dataframe thead th {\n",
              "        text-align: right;\n",
              "    }\n",
              "</style>\n",
              "<table border=\"1\" class=\"dataframe\">\n",
              "  <thead>\n",
              "    <tr style=\"text-align: right;\">\n",
              "      <th></th>\n",
              "      <th>Contract Name</th>\n",
              "      <th>Last Trade Date</th>\n",
              "      <th>Strike</th>\n",
              "      <th>Last Price</th>\n",
              "      <th>Bid</th>\n",
              "      <th>Ask</th>\n",
              "      <th>Change</th>\n",
              "      <th>% Change</th>\n",
              "      <th>Volume</th>\n",
              "      <th>Open Interest</th>\n",
              "      <th>Implied Volatility</th>\n",
              "    </tr>\n",
              "  </thead>\n",
              "  <tbody>\n",
              "    <tr>\n",
              "      <th>0</th>\n",
              "      <td>AAPL240216C00050000</td>\n",
              "      <td>2024-02-09 12:55PM EST</td>\n",
              "      <td>50.0</td>\n",
              "      <td>139.55</td>\n",
              "      <td>138.50</td>\n",
              "      <td>139.15</td>\n",
              "      <td>1.6</td>\n",
              "      <td>+1.16%</td>\n",
              "      <td>2</td>\n",
              "      <td>2</td>\n",
              "      <td>476.56%</td>\n",
              "    </tr>\n",
              "    <tr>\n",
              "      <th>1</th>\n",
              "      <td>AAPL240216C00055000</td>\n",
              "      <td>2024-01-23 12:57PM EST</td>\n",
              "      <td>55.0</td>\n",
              "      <td>140.25</td>\n",
              "      <td>133.60</td>\n",
              "      <td>134.25</td>\n",
              "      <td>0.0</td>\n",
              "      <td>-</td>\n",
              "      <td>1</td>\n",
              "      <td>0</td>\n",
              "      <td>373.44%</td>\n",
              "    </tr>\n",
              "    <tr>\n",
              "      <th>2</th>\n",
              "      <td>AAPL240216C00060000</td>\n",
              "      <td>2024-01-30 2:04PM EST</td>\n",
              "      <td>60.0</td>\n",
              "      <td>127.80</td>\n",
              "      <td>128.65</td>\n",
              "      <td>129.25</td>\n",
              "      <td>0.0</td>\n",
              "      <td>-</td>\n",
              "      <td>2</td>\n",
              "      <td>0</td>\n",
              "      <td>359.38%</td>\n",
              "    </tr>\n",
              "    <tr>\n",
              "      <th>3</th>\n",
              "      <td>AAPL240216C00065000</td>\n",
              "      <td>2024-01-04 3:52PM EST</td>\n",
              "      <td>65.0</td>\n",
              "      <td>117.06</td>\n",
              "      <td>120.50</td>\n",
              "      <td>121.35</td>\n",
              "      <td>0.0</td>\n",
              "      <td>-</td>\n",
              "      <td>1</td>\n",
              "      <td>1</td>\n",
              "      <td>0.00%</td>\n",
              "    </tr>\n",
              "    <tr>\n",
              "      <th>4</th>\n",
              "      <td>AAPL240216C00070000</td>\n",
              "      <td>2024-02-02 11:12AM EST</td>\n",
              "      <td>70.0</td>\n",
              "      <td>116.53</td>\n",
              "      <td>118.20</td>\n",
              "      <td>119.60</td>\n",
              "      <td>0.0</td>\n",
              "      <td>-</td>\n",
              "      <td>5</td>\n",
              "      <td>1</td>\n",
              "      <td>290.63%</td>\n",
              "    </tr>\n",
              "    <tr>\n",
              "      <th>...</th>\n",
              "      <td>...</td>\n",
              "      <td>...</td>\n",
              "      <td>...</td>\n",
              "      <td>...</td>\n",
              "      <td>...</td>\n",
              "      <td>...</td>\n",
              "      <td>...</td>\n",
              "      <td>...</td>\n",
              "      <td>...</td>\n",
              "      <td>...</td>\n",
              "      <td>...</td>\n",
              "    </tr>\n",
              "    <tr>\n",
              "      <th>64</th>\n",
              "      <td>AAPL240216C00300000</td>\n",
              "      <td>2023-10-24 2:28PM EST</td>\n",
              "      <td>300.0</td>\n",
              "      <td>0.01</td>\n",
              "      <td>0.00</td>\n",
              "      <td>0.02</td>\n",
              "      <td>0.0</td>\n",
              "      <td>-</td>\n",
              "      <td>4</td>\n",
              "      <td>76</td>\n",
              "      <td>117.19%</td>\n",
              "    </tr>\n",
              "    <tr>\n",
              "      <th>65</th>\n",
              "      <td>AAPL240216C00305000</td>\n",
              "      <td>2024-02-06 1:38PM EST</td>\n",
              "      <td>305.0</td>\n",
              "      <td>0.01</td>\n",
              "      <td>0.00</td>\n",
              "      <td>0.01</td>\n",
              "      <td>0.0</td>\n",
              "      <td>-</td>\n",
              "      <td>3</td>\n",
              "      <td>254</td>\n",
              "      <td>112.50%</td>\n",
              "    </tr>\n",
              "    <tr>\n",
              "      <th>66</th>\n",
              "      <td>AAPL240216C00310000</td>\n",
              "      <td>2024-01-23 9:49AM EST</td>\n",
              "      <td>310.0</td>\n",
              "      <td>0.01</td>\n",
              "      <td>0.00</td>\n",
              "      <td>0.01</td>\n",
              "      <td>0.0</td>\n",
              "      <td>-</td>\n",
              "      <td>10</td>\n",
              "      <td>235</td>\n",
              "      <td>118.75%</td>\n",
              "    </tr>\n",
              "    <tr>\n",
              "      <th>67</th>\n",
              "      <td>AAPL240216C00315000</td>\n",
              "      <td>2023-09-15 12:36PM EST</td>\n",
              "      <td>315.0</td>\n",
              "      <td>0.03</td>\n",
              "      <td>0.00</td>\n",
              "      <td>0.03</td>\n",
              "      <td>0.0</td>\n",
              "      <td>-</td>\n",
              "      <td>23</td>\n",
              "      <td>285</td>\n",
              "      <td>132.81%</td>\n",
              "    </tr>\n",
              "    <tr>\n",
              "      <th>68</th>\n",
              "      <td>AAPL240216C00320000</td>\n",
              "      <td>2024-02-07 3:38PM EST</td>\n",
              "      <td>320.0</td>\n",
              "      <td>0.01</td>\n",
              "      <td>0.00</td>\n",
              "      <td>0.01</td>\n",
              "      <td>0.0</td>\n",
              "      <td>-</td>\n",
              "      <td>10</td>\n",
              "      <td>3377</td>\n",
              "      <td>125.00%</td>\n",
              "    </tr>\n",
              "  </tbody>\n",
              "</table>\n",
              "<p>69 rows × 11 columns</p>\n",
              "</div>\n",
              "    <div class=\"colab-df-buttons\">\n",
              "\n",
              "  <div class=\"colab-df-container\">\n",
              "    <button class=\"colab-df-convert\" onclick=\"convertToInteractive('df-28ec2100-136b-4f18-86b0-18da6410f83f')\"\n",
              "            title=\"Convert this dataframe to an interactive table.\"\n",
              "            style=\"display:none;\">\n",
              "\n",
              "  <svg xmlns=\"http://www.w3.org/2000/svg\" height=\"24px\" viewBox=\"0 -960 960 960\">\n",
              "    <path d=\"M120-120v-720h720v720H120Zm60-500h600v-160H180v160Zm220 220h160v-160H400v160Zm0 220h160v-160H400v160ZM180-400h160v-160H180v160Zm440 0h160v-160H620v160ZM180-180h160v-160H180v160Zm440 0h160v-160H620v160Z\"/>\n",
              "  </svg>\n",
              "    </button>\n",
              "\n",
              "  <style>\n",
              "    .colab-df-container {\n",
              "      display:flex;\n",
              "      gap: 12px;\n",
              "    }\n",
              "\n",
              "    .colab-df-convert {\n",
              "      background-color: #E8F0FE;\n",
              "      border: none;\n",
              "      border-radius: 50%;\n",
              "      cursor: pointer;\n",
              "      display: none;\n",
              "      fill: #1967D2;\n",
              "      height: 32px;\n",
              "      padding: 0 0 0 0;\n",
              "      width: 32px;\n",
              "    }\n",
              "\n",
              "    .colab-df-convert:hover {\n",
              "      background-color: #E2EBFA;\n",
              "      box-shadow: 0px 1px 2px rgba(60, 64, 67, 0.3), 0px 1px 3px 1px rgba(60, 64, 67, 0.15);\n",
              "      fill: #174EA6;\n",
              "    }\n",
              "\n",
              "    .colab-df-buttons div {\n",
              "      margin-bottom: 4px;\n",
              "    }\n",
              "\n",
              "    [theme=dark] .colab-df-convert {\n",
              "      background-color: #3B4455;\n",
              "      fill: #D2E3FC;\n",
              "    }\n",
              "\n",
              "    [theme=dark] .colab-df-convert:hover {\n",
              "      background-color: #434B5C;\n",
              "      box-shadow: 0px 1px 3px 1px rgba(0, 0, 0, 0.15);\n",
              "      filter: drop-shadow(0px 1px 2px rgba(0, 0, 0, 0.3));\n",
              "      fill: #FFFFFF;\n",
              "    }\n",
              "  </style>\n",
              "\n",
              "    <script>\n",
              "      const buttonEl =\n",
              "        document.querySelector('#df-28ec2100-136b-4f18-86b0-18da6410f83f button.colab-df-convert');\n",
              "      buttonEl.style.display =\n",
              "        google.colab.kernel.accessAllowed ? 'block' : 'none';\n",
              "\n",
              "      async function convertToInteractive(key) {\n",
              "        const element = document.querySelector('#df-28ec2100-136b-4f18-86b0-18da6410f83f');\n",
              "        const dataTable =\n",
              "          await google.colab.kernel.invokeFunction('convertToInteractive',\n",
              "                                                    [key], {});\n",
              "        if (!dataTable) return;\n",
              "\n",
              "        const docLinkHtml = 'Like what you see? Visit the ' +\n",
              "          '<a target=\"_blank\" href=https://colab.research.google.com/notebooks/data_table.ipynb>data table notebook</a>'\n",
              "          + ' to learn more about interactive tables.';\n",
              "        element.innerHTML = '';\n",
              "        dataTable['output_type'] = 'display_data';\n",
              "        await google.colab.output.renderOutput(dataTable, element);\n",
              "        const docLink = document.createElement('div');\n",
              "        docLink.innerHTML = docLinkHtml;\n",
              "        element.appendChild(docLink);\n",
              "      }\n",
              "    </script>\n",
              "  </div>\n",
              "\n",
              "\n",
              "<div id=\"df-6b18e37e-bcd8-4dd0-87d0-517e4fe51019\">\n",
              "  <button class=\"colab-df-quickchart\" onclick=\"quickchart('df-6b18e37e-bcd8-4dd0-87d0-517e4fe51019')\"\n",
              "            title=\"Suggest charts\"\n",
              "            style=\"display:none;\">\n",
              "\n",
              "<svg xmlns=\"http://www.w3.org/2000/svg\" height=\"24px\"viewBox=\"0 0 24 24\"\n",
              "     width=\"24px\">\n",
              "    <g>\n",
              "        <path d=\"M19 3H5c-1.1 0-2 .9-2 2v14c0 1.1.9 2 2 2h14c1.1 0 2-.9 2-2V5c0-1.1-.9-2-2-2zM9 17H7v-7h2v7zm4 0h-2V7h2v10zm4 0h-2v-4h2v4z\"/>\n",
              "    </g>\n",
              "</svg>\n",
              "  </button>\n",
              "\n",
              "<style>\n",
              "  .colab-df-quickchart {\n",
              "      --bg-color: #E8F0FE;\n",
              "      --fill-color: #1967D2;\n",
              "      --hover-bg-color: #E2EBFA;\n",
              "      --hover-fill-color: #174EA6;\n",
              "      --disabled-fill-color: #AAA;\n",
              "      --disabled-bg-color: #DDD;\n",
              "  }\n",
              "\n",
              "  [theme=dark] .colab-df-quickchart {\n",
              "      --bg-color: #3B4455;\n",
              "      --fill-color: #D2E3FC;\n",
              "      --hover-bg-color: #434B5C;\n",
              "      --hover-fill-color: #FFFFFF;\n",
              "      --disabled-bg-color: #3B4455;\n",
              "      --disabled-fill-color: #666;\n",
              "  }\n",
              "\n",
              "  .colab-df-quickchart {\n",
              "    background-color: var(--bg-color);\n",
              "    border: none;\n",
              "    border-radius: 50%;\n",
              "    cursor: pointer;\n",
              "    display: none;\n",
              "    fill: var(--fill-color);\n",
              "    height: 32px;\n",
              "    padding: 0;\n",
              "    width: 32px;\n",
              "  }\n",
              "\n",
              "  .colab-df-quickchart:hover {\n",
              "    background-color: var(--hover-bg-color);\n",
              "    box-shadow: 0 1px 2px rgba(60, 64, 67, 0.3), 0 1px 3px 1px rgba(60, 64, 67, 0.15);\n",
              "    fill: var(--button-hover-fill-color);\n",
              "  }\n",
              "\n",
              "  .colab-df-quickchart-complete:disabled,\n",
              "  .colab-df-quickchart-complete:disabled:hover {\n",
              "    background-color: var(--disabled-bg-color);\n",
              "    fill: var(--disabled-fill-color);\n",
              "    box-shadow: none;\n",
              "  }\n",
              "\n",
              "  .colab-df-spinner {\n",
              "    border: 2px solid var(--fill-color);\n",
              "    border-color: transparent;\n",
              "    border-bottom-color: var(--fill-color);\n",
              "    animation:\n",
              "      spin 1s steps(1) infinite;\n",
              "  }\n",
              "\n",
              "  @keyframes spin {\n",
              "    0% {\n",
              "      border-color: transparent;\n",
              "      border-bottom-color: var(--fill-color);\n",
              "      border-left-color: var(--fill-color);\n",
              "    }\n",
              "    20% {\n",
              "      border-color: transparent;\n",
              "      border-left-color: var(--fill-color);\n",
              "      border-top-color: var(--fill-color);\n",
              "    }\n",
              "    30% {\n",
              "      border-color: transparent;\n",
              "      border-left-color: var(--fill-color);\n",
              "      border-top-color: var(--fill-color);\n",
              "      border-right-color: var(--fill-color);\n",
              "    }\n",
              "    40% {\n",
              "      border-color: transparent;\n",
              "      border-right-color: var(--fill-color);\n",
              "      border-top-color: var(--fill-color);\n",
              "    }\n",
              "    60% {\n",
              "      border-color: transparent;\n",
              "      border-right-color: var(--fill-color);\n",
              "    }\n",
              "    80% {\n",
              "      border-color: transparent;\n",
              "      border-right-color: var(--fill-color);\n",
              "      border-bottom-color: var(--fill-color);\n",
              "    }\n",
              "    90% {\n",
              "      border-color: transparent;\n",
              "      border-bottom-color: var(--fill-color);\n",
              "    }\n",
              "  }\n",
              "</style>\n",
              "\n",
              "  <script>\n",
              "    async function quickchart(key) {\n",
              "      const quickchartButtonEl =\n",
              "        document.querySelector('#' + key + ' button');\n",
              "      quickchartButtonEl.disabled = true;  // To prevent multiple clicks.\n",
              "      quickchartButtonEl.classList.add('colab-df-spinner');\n",
              "      try {\n",
              "        const charts = await google.colab.kernel.invokeFunction(\n",
              "            'suggestCharts', [key], {});\n",
              "      } catch (error) {\n",
              "        console.error('Error during call to suggestCharts:', error);\n",
              "      }\n",
              "      quickchartButtonEl.classList.remove('colab-df-spinner');\n",
              "      quickchartButtonEl.classList.add('colab-df-quickchart-complete');\n",
              "    }\n",
              "    (() => {\n",
              "      let quickchartButtonEl =\n",
              "        document.querySelector('#df-6b18e37e-bcd8-4dd0-87d0-517e4fe51019 button');\n",
              "      quickchartButtonEl.style.display =\n",
              "        google.colab.kernel.accessAllowed ? 'block' : 'none';\n",
              "    })();\n",
              "  </script>\n",
              "</div>\n",
              "    </div>\n",
              "  </div>\n"
            ]
          },
          "metadata": {},
          "execution_count": 64
        }
      ]
    },
    {
      "cell_type": "markdown",
      "source": [
        "### Clean data\n",
        "We use only liquid options. We eliminate options with a volume inferior to 1000. Options ITM or OTM are little liquid, we exclude them\n",
        "\n"
      ],
      "metadata": {
        "id": "Rb2wk5v0aEJD"
      }
    },
    {
      "cell_type": "markdown",
      "source": [
        "## 4) Select relatively liquid options to compare our results with data"
      ],
      "metadata": {
        "id": "Nk_moae26HEW"
      }
    },
    {
      "cell_type": "code",
      "source": [
        "treshold_volume = 50 # on exclut les options avec un volume faible car peu liquides, les options OTM ou ITM sont souvent moins liquides que celles près de la monnaie (ATM)\n",
        "\n",
        "callData[\"Volume\"] = pd.to_numeric(callData[\"Volume\"])\n",
        "call_filter = callData[\n",
        "    (callData[\"Volume\"] >= treshold_volume)\n",
        "]\n",
        "call_filter.head(5)"
      ],
      "metadata": {
        "colab": {
          "base_uri": "https://localhost:8080/",
          "height": 206
        },
        "id": "gH-QDOQQT9lr",
        "outputId": "f4d0cc97-89ea-4f4a-cfb3-a6e890276cd7"
      },
      "execution_count": 63,
      "outputs": [
        {
          "output_type": "execute_result",
          "data": {
            "text/plain": [
              "          Contract Name        Last Trade Date  Strike  Last Price    Bid  \\\n",
              "12  AAPL240216C00110000  2024-02-08 2:23PM EST   110.0       78.10  78.40   \n",
              "14  AAPL240216C00120000  2024-02-08 2:23PM EST   120.0       68.10  68.40   \n",
              "17  AAPL240216C00135000  2024-02-08 3:37PM EST   135.0       53.19  53.75   \n",
              "20  AAPL240216C00150000  2024-02-09 3:55PM EST   150.0       39.03  38.85   \n",
              "23  AAPL240216C00160000  2024-02-09 3:13PM EST   160.0       28.88  28.80   \n",
              "\n",
              "      Ask  Change % Change  Volume  Open Interest Implied Volatility  \n",
              "12  79.45    0.00        -     202              1            172.27%  \n",
              "14  69.40    0.00        -     100              3            139.84%  \n",
              "17  54.40    0.00        -      87              0            130.66%  \n",
              "20  39.20    0.81   +2.12%     114             96             90.63%  \n",
              "23  29.20    0.83   +2.96%     104           4325             66.80%  "
            ],
            "text/html": [
              "\n",
              "  <div id=\"df-3c8ffe5f-8e6e-486d-a31e-dff147a7e4a0\" class=\"colab-df-container\">\n",
              "    <div>\n",
              "<style scoped>\n",
              "    .dataframe tbody tr th:only-of-type {\n",
              "        vertical-align: middle;\n",
              "    }\n",
              "\n",
              "    .dataframe tbody tr th {\n",
              "        vertical-align: top;\n",
              "    }\n",
              "\n",
              "    .dataframe thead th {\n",
              "        text-align: right;\n",
              "    }\n",
              "</style>\n",
              "<table border=\"1\" class=\"dataframe\">\n",
              "  <thead>\n",
              "    <tr style=\"text-align: right;\">\n",
              "      <th></th>\n",
              "      <th>Contract Name</th>\n",
              "      <th>Last Trade Date</th>\n",
              "      <th>Strike</th>\n",
              "      <th>Last Price</th>\n",
              "      <th>Bid</th>\n",
              "      <th>Ask</th>\n",
              "      <th>Change</th>\n",
              "      <th>% Change</th>\n",
              "      <th>Volume</th>\n",
              "      <th>Open Interest</th>\n",
              "      <th>Implied Volatility</th>\n",
              "    </tr>\n",
              "  </thead>\n",
              "  <tbody>\n",
              "    <tr>\n",
              "      <th>12</th>\n",
              "      <td>AAPL240216C00110000</td>\n",
              "      <td>2024-02-08 2:23PM EST</td>\n",
              "      <td>110.0</td>\n",
              "      <td>78.10</td>\n",
              "      <td>78.40</td>\n",
              "      <td>79.45</td>\n",
              "      <td>0.00</td>\n",
              "      <td>-</td>\n",
              "      <td>202</td>\n",
              "      <td>1</td>\n",
              "      <td>172.27%</td>\n",
              "    </tr>\n",
              "    <tr>\n",
              "      <th>14</th>\n",
              "      <td>AAPL240216C00120000</td>\n",
              "      <td>2024-02-08 2:23PM EST</td>\n",
              "      <td>120.0</td>\n",
              "      <td>68.10</td>\n",
              "      <td>68.40</td>\n",
              "      <td>69.40</td>\n",
              "      <td>0.00</td>\n",
              "      <td>-</td>\n",
              "      <td>100</td>\n",
              "      <td>3</td>\n",
              "      <td>139.84%</td>\n",
              "    </tr>\n",
              "    <tr>\n",
              "      <th>17</th>\n",
              "      <td>AAPL240216C00135000</td>\n",
              "      <td>2024-02-08 3:37PM EST</td>\n",
              "      <td>135.0</td>\n",
              "      <td>53.19</td>\n",
              "      <td>53.75</td>\n",
              "      <td>54.40</td>\n",
              "      <td>0.00</td>\n",
              "      <td>-</td>\n",
              "      <td>87</td>\n",
              "      <td>0</td>\n",
              "      <td>130.66%</td>\n",
              "    </tr>\n",
              "    <tr>\n",
              "      <th>20</th>\n",
              "      <td>AAPL240216C00150000</td>\n",
              "      <td>2024-02-09 3:55PM EST</td>\n",
              "      <td>150.0</td>\n",
              "      <td>39.03</td>\n",
              "      <td>38.85</td>\n",
              "      <td>39.20</td>\n",
              "      <td>0.81</td>\n",
              "      <td>+2.12%</td>\n",
              "      <td>114</td>\n",
              "      <td>96</td>\n",
              "      <td>90.63%</td>\n",
              "    </tr>\n",
              "    <tr>\n",
              "      <th>23</th>\n",
              "      <td>AAPL240216C00160000</td>\n",
              "      <td>2024-02-09 3:13PM EST</td>\n",
              "      <td>160.0</td>\n",
              "      <td>28.88</td>\n",
              "      <td>28.80</td>\n",
              "      <td>29.20</td>\n",
              "      <td>0.83</td>\n",
              "      <td>+2.96%</td>\n",
              "      <td>104</td>\n",
              "      <td>4325</td>\n",
              "      <td>66.80%</td>\n",
              "    </tr>\n",
              "  </tbody>\n",
              "</table>\n",
              "</div>\n",
              "    <div class=\"colab-df-buttons\">\n",
              "\n",
              "  <div class=\"colab-df-container\">\n",
              "    <button class=\"colab-df-convert\" onclick=\"convertToInteractive('df-3c8ffe5f-8e6e-486d-a31e-dff147a7e4a0')\"\n",
              "            title=\"Convert this dataframe to an interactive table.\"\n",
              "            style=\"display:none;\">\n",
              "\n",
              "  <svg xmlns=\"http://www.w3.org/2000/svg\" height=\"24px\" viewBox=\"0 -960 960 960\">\n",
              "    <path d=\"M120-120v-720h720v720H120Zm60-500h600v-160H180v160Zm220 220h160v-160H400v160Zm0 220h160v-160H400v160ZM180-400h160v-160H180v160Zm440 0h160v-160H620v160ZM180-180h160v-160H180v160Zm440 0h160v-160H620v160Z\"/>\n",
              "  </svg>\n",
              "    </button>\n",
              "\n",
              "  <style>\n",
              "    .colab-df-container {\n",
              "      display:flex;\n",
              "      gap: 12px;\n",
              "    }\n",
              "\n",
              "    .colab-df-convert {\n",
              "      background-color: #E8F0FE;\n",
              "      border: none;\n",
              "      border-radius: 50%;\n",
              "      cursor: pointer;\n",
              "      display: none;\n",
              "      fill: #1967D2;\n",
              "      height: 32px;\n",
              "      padding: 0 0 0 0;\n",
              "      width: 32px;\n",
              "    }\n",
              "\n",
              "    .colab-df-convert:hover {\n",
              "      background-color: #E2EBFA;\n",
              "      box-shadow: 0px 1px 2px rgba(60, 64, 67, 0.3), 0px 1px 3px 1px rgba(60, 64, 67, 0.15);\n",
              "      fill: #174EA6;\n",
              "    }\n",
              "\n",
              "    .colab-df-buttons div {\n",
              "      margin-bottom: 4px;\n",
              "    }\n",
              "\n",
              "    [theme=dark] .colab-df-convert {\n",
              "      background-color: #3B4455;\n",
              "      fill: #D2E3FC;\n",
              "    }\n",
              "\n",
              "    [theme=dark] .colab-df-convert:hover {\n",
              "      background-color: #434B5C;\n",
              "      box-shadow: 0px 1px 3px 1px rgba(0, 0, 0, 0.15);\n",
              "      filter: drop-shadow(0px 1px 2px rgba(0, 0, 0, 0.3));\n",
              "      fill: #FFFFFF;\n",
              "    }\n",
              "  </style>\n",
              "\n",
              "    <script>\n",
              "      const buttonEl =\n",
              "        document.querySelector('#df-3c8ffe5f-8e6e-486d-a31e-dff147a7e4a0 button.colab-df-convert');\n",
              "      buttonEl.style.display =\n",
              "        google.colab.kernel.accessAllowed ? 'block' : 'none';\n",
              "\n",
              "      async function convertToInteractive(key) {\n",
              "        const element = document.querySelector('#df-3c8ffe5f-8e6e-486d-a31e-dff147a7e4a0');\n",
              "        const dataTable =\n",
              "          await google.colab.kernel.invokeFunction('convertToInteractive',\n",
              "                                                    [key], {});\n",
              "        if (!dataTable) return;\n",
              "\n",
              "        const docLinkHtml = 'Like what you see? Visit the ' +\n",
              "          '<a target=\"_blank\" href=https://colab.research.google.com/notebooks/data_table.ipynb>data table notebook</a>'\n",
              "          + ' to learn more about interactive tables.';\n",
              "        element.innerHTML = '';\n",
              "        dataTable['output_type'] = 'display_data';\n",
              "        await google.colab.output.renderOutput(dataTable, element);\n",
              "        const docLink = document.createElement('div');\n",
              "        docLink.innerHTML = docLinkHtml;\n",
              "        element.appendChild(docLink);\n",
              "      }\n",
              "    </script>\n",
              "  </div>\n",
              "\n",
              "\n",
              "<div id=\"df-8c0df22e-9ba1-4348-aa81-3906d40f6359\">\n",
              "  <button class=\"colab-df-quickchart\" onclick=\"quickchart('df-8c0df22e-9ba1-4348-aa81-3906d40f6359')\"\n",
              "            title=\"Suggest charts\"\n",
              "            style=\"display:none;\">\n",
              "\n",
              "<svg xmlns=\"http://www.w3.org/2000/svg\" height=\"24px\"viewBox=\"0 0 24 24\"\n",
              "     width=\"24px\">\n",
              "    <g>\n",
              "        <path d=\"M19 3H5c-1.1 0-2 .9-2 2v14c0 1.1.9 2 2 2h14c1.1 0 2-.9 2-2V5c0-1.1-.9-2-2-2zM9 17H7v-7h2v7zm4 0h-2V7h2v10zm4 0h-2v-4h2v4z\"/>\n",
              "    </g>\n",
              "</svg>\n",
              "  </button>\n",
              "\n",
              "<style>\n",
              "  .colab-df-quickchart {\n",
              "      --bg-color: #E8F0FE;\n",
              "      --fill-color: #1967D2;\n",
              "      --hover-bg-color: #E2EBFA;\n",
              "      --hover-fill-color: #174EA6;\n",
              "      --disabled-fill-color: #AAA;\n",
              "      --disabled-bg-color: #DDD;\n",
              "  }\n",
              "\n",
              "  [theme=dark] .colab-df-quickchart {\n",
              "      --bg-color: #3B4455;\n",
              "      --fill-color: #D2E3FC;\n",
              "      --hover-bg-color: #434B5C;\n",
              "      --hover-fill-color: #FFFFFF;\n",
              "      --disabled-bg-color: #3B4455;\n",
              "      --disabled-fill-color: #666;\n",
              "  }\n",
              "\n",
              "  .colab-df-quickchart {\n",
              "    background-color: var(--bg-color);\n",
              "    border: none;\n",
              "    border-radius: 50%;\n",
              "    cursor: pointer;\n",
              "    display: none;\n",
              "    fill: var(--fill-color);\n",
              "    height: 32px;\n",
              "    padding: 0;\n",
              "    width: 32px;\n",
              "  }\n",
              "\n",
              "  .colab-df-quickchart:hover {\n",
              "    background-color: var(--hover-bg-color);\n",
              "    box-shadow: 0 1px 2px rgba(60, 64, 67, 0.3), 0 1px 3px 1px rgba(60, 64, 67, 0.15);\n",
              "    fill: var(--button-hover-fill-color);\n",
              "  }\n",
              "\n",
              "  .colab-df-quickchart-complete:disabled,\n",
              "  .colab-df-quickchart-complete:disabled:hover {\n",
              "    background-color: var(--disabled-bg-color);\n",
              "    fill: var(--disabled-fill-color);\n",
              "    box-shadow: none;\n",
              "  }\n",
              "\n",
              "  .colab-df-spinner {\n",
              "    border: 2px solid var(--fill-color);\n",
              "    border-color: transparent;\n",
              "    border-bottom-color: var(--fill-color);\n",
              "    animation:\n",
              "      spin 1s steps(1) infinite;\n",
              "  }\n",
              "\n",
              "  @keyframes spin {\n",
              "    0% {\n",
              "      border-color: transparent;\n",
              "      border-bottom-color: var(--fill-color);\n",
              "      border-left-color: var(--fill-color);\n",
              "    }\n",
              "    20% {\n",
              "      border-color: transparent;\n",
              "      border-left-color: var(--fill-color);\n",
              "      border-top-color: var(--fill-color);\n",
              "    }\n",
              "    30% {\n",
              "      border-color: transparent;\n",
              "      border-left-color: var(--fill-color);\n",
              "      border-top-color: var(--fill-color);\n",
              "      border-right-color: var(--fill-color);\n",
              "    }\n",
              "    40% {\n",
              "      border-color: transparent;\n",
              "      border-right-color: var(--fill-color);\n",
              "      border-top-color: var(--fill-color);\n",
              "    }\n",
              "    60% {\n",
              "      border-color: transparent;\n",
              "      border-right-color: var(--fill-color);\n",
              "    }\n",
              "    80% {\n",
              "      border-color: transparent;\n",
              "      border-right-color: var(--fill-color);\n",
              "      border-bottom-color: var(--fill-color);\n",
              "    }\n",
              "    90% {\n",
              "      border-color: transparent;\n",
              "      border-bottom-color: var(--fill-color);\n",
              "    }\n",
              "  }\n",
              "</style>\n",
              "\n",
              "  <script>\n",
              "    async function quickchart(key) {\n",
              "      const quickchartButtonEl =\n",
              "        document.querySelector('#' + key + ' button');\n",
              "      quickchartButtonEl.disabled = true;  // To prevent multiple clicks.\n",
              "      quickchartButtonEl.classList.add('colab-df-spinner');\n",
              "      try {\n",
              "        const charts = await google.colab.kernel.invokeFunction(\n",
              "            'suggestCharts', [key], {});\n",
              "      } catch (error) {\n",
              "        console.error('Error during call to suggestCharts:', error);\n",
              "      }\n",
              "      quickchartButtonEl.classList.remove('colab-df-spinner');\n",
              "      quickchartButtonEl.classList.add('colab-df-quickchart-complete');\n",
              "    }\n",
              "    (() => {\n",
              "      let quickchartButtonEl =\n",
              "        document.querySelector('#df-8c0df22e-9ba1-4348-aa81-3906d40f6359 button');\n",
              "      quickchartButtonEl.style.display =\n",
              "        google.colab.kernel.accessAllowed ? 'block' : 'none';\n",
              "    })();\n",
              "  </script>\n",
              "</div>\n",
              "    </div>\n",
              "  </div>\n"
            ]
          },
          "metadata": {},
          "execution_count": 63
        }
      ]
    },
    {
      "cell_type": "code",
      "source": [
        "# Remplacer les valeurs \"-\" par NaN\n",
        "putData = putData.replace(\"-\", float('nan'), regex=True)\n",
        "\n",
        "# Convertir les données en nombre\n",
        "putData['Strike'] = pd.to_numeric(putData['Strike'], errors='coerce')\n",
        "putData['Last Price'] = pd.to_numeric(putData['Last Price'], errors='coerce')\n",
        "\n",
        "\n",
        "putData[\"Volume\"] = pd.to_numeric(putData[\"Volume\"])\n",
        "put_filter = putData[\n",
        "    (putData[\"Volume\"] >= treshold_volume)\n",
        "]\n",
        "put_filter.head(5)"
      ],
      "metadata": {
        "colab": {
          "base_uri": "https://localhost:8080/",
          "height": 206
        },
        "id": "Zzd4YLzu7YRB",
        "outputId": "31bf2b98-7f23-4b8b-897f-3479384d5ca7"
      },
      "execution_count": 25,
      "outputs": [
        {
          "output_type": "execute_result",
          "data": {
            "text/plain": [
              "          Contract Name  Last Trade Date  Strike  Last Price  Bid   Ask  \\\n",
              "6   AAPL240216P00080000              NaN    80.0        0.01  0.0  0.01   \n",
              "12  AAPL240216P00110000              NaN   110.0        0.01  0.0  0.01   \n",
              "13  AAPL240216P00115000              NaN   115.0        0.01  0.0  0.01   \n",
              "14  AAPL240216P00120000              NaN   120.0        0.01  0.0  0.01   \n",
              "15  AAPL240216P00125000              NaN   125.0        0.01  0.0  0.01   \n",
              "\n",
              "    Change % Change  Volume  Open Interest Implied Volatility  \n",
              "6      0.0      NaN  2907.0           3088            206.25%  \n",
              "12     0.0      NaN  1944.0           2101            131.25%  \n",
              "13     0.0      NaN    86.0           2961            121.88%  \n",
              "14     0.0      NaN   184.0           3603            112.50%  \n",
              "15     0.0      NaN   790.0           3637            103.13%  "
            ],
            "text/html": [
              "\n",
              "  <div id=\"df-f305d718-812e-4529-9172-9139f034eff3\" class=\"colab-df-container\">\n",
              "    <div>\n",
              "<style scoped>\n",
              "    .dataframe tbody tr th:only-of-type {\n",
              "        vertical-align: middle;\n",
              "    }\n",
              "\n",
              "    .dataframe tbody tr th {\n",
              "        vertical-align: top;\n",
              "    }\n",
              "\n",
              "    .dataframe thead th {\n",
              "        text-align: right;\n",
              "    }\n",
              "</style>\n",
              "<table border=\"1\" class=\"dataframe\">\n",
              "  <thead>\n",
              "    <tr style=\"text-align: right;\">\n",
              "      <th></th>\n",
              "      <th>Contract Name</th>\n",
              "      <th>Last Trade Date</th>\n",
              "      <th>Strike</th>\n",
              "      <th>Last Price</th>\n",
              "      <th>Bid</th>\n",
              "      <th>Ask</th>\n",
              "      <th>Change</th>\n",
              "      <th>% Change</th>\n",
              "      <th>Volume</th>\n",
              "      <th>Open Interest</th>\n",
              "      <th>Implied Volatility</th>\n",
              "    </tr>\n",
              "  </thead>\n",
              "  <tbody>\n",
              "    <tr>\n",
              "      <th>6</th>\n",
              "      <td>AAPL240216P00080000</td>\n",
              "      <td>NaN</td>\n",
              "      <td>80.0</td>\n",
              "      <td>0.01</td>\n",
              "      <td>0.0</td>\n",
              "      <td>0.01</td>\n",
              "      <td>0.0</td>\n",
              "      <td>NaN</td>\n",
              "      <td>2907.0</td>\n",
              "      <td>3088</td>\n",
              "      <td>206.25%</td>\n",
              "    </tr>\n",
              "    <tr>\n",
              "      <th>12</th>\n",
              "      <td>AAPL240216P00110000</td>\n",
              "      <td>NaN</td>\n",
              "      <td>110.0</td>\n",
              "      <td>0.01</td>\n",
              "      <td>0.0</td>\n",
              "      <td>0.01</td>\n",
              "      <td>0.0</td>\n",
              "      <td>NaN</td>\n",
              "      <td>1944.0</td>\n",
              "      <td>2101</td>\n",
              "      <td>131.25%</td>\n",
              "    </tr>\n",
              "    <tr>\n",
              "      <th>13</th>\n",
              "      <td>AAPL240216P00115000</td>\n",
              "      <td>NaN</td>\n",
              "      <td>115.0</td>\n",
              "      <td>0.01</td>\n",
              "      <td>0.0</td>\n",
              "      <td>0.01</td>\n",
              "      <td>0.0</td>\n",
              "      <td>NaN</td>\n",
              "      <td>86.0</td>\n",
              "      <td>2961</td>\n",
              "      <td>121.88%</td>\n",
              "    </tr>\n",
              "    <tr>\n",
              "      <th>14</th>\n",
              "      <td>AAPL240216P00120000</td>\n",
              "      <td>NaN</td>\n",
              "      <td>120.0</td>\n",
              "      <td>0.01</td>\n",
              "      <td>0.0</td>\n",
              "      <td>0.01</td>\n",
              "      <td>0.0</td>\n",
              "      <td>NaN</td>\n",
              "      <td>184.0</td>\n",
              "      <td>3603</td>\n",
              "      <td>112.50%</td>\n",
              "    </tr>\n",
              "    <tr>\n",
              "      <th>15</th>\n",
              "      <td>AAPL240216P00125000</td>\n",
              "      <td>NaN</td>\n",
              "      <td>125.0</td>\n",
              "      <td>0.01</td>\n",
              "      <td>0.0</td>\n",
              "      <td>0.01</td>\n",
              "      <td>0.0</td>\n",
              "      <td>NaN</td>\n",
              "      <td>790.0</td>\n",
              "      <td>3637</td>\n",
              "      <td>103.13%</td>\n",
              "    </tr>\n",
              "  </tbody>\n",
              "</table>\n",
              "</div>\n",
              "    <div class=\"colab-df-buttons\">\n",
              "\n",
              "  <div class=\"colab-df-container\">\n",
              "    <button class=\"colab-df-convert\" onclick=\"convertToInteractive('df-f305d718-812e-4529-9172-9139f034eff3')\"\n",
              "            title=\"Convert this dataframe to an interactive table.\"\n",
              "            style=\"display:none;\">\n",
              "\n",
              "  <svg xmlns=\"http://www.w3.org/2000/svg\" height=\"24px\" viewBox=\"0 -960 960 960\">\n",
              "    <path d=\"M120-120v-720h720v720H120Zm60-500h600v-160H180v160Zm220 220h160v-160H400v160Zm0 220h160v-160H400v160ZM180-400h160v-160H180v160Zm440 0h160v-160H620v160ZM180-180h160v-160H180v160Zm440 0h160v-160H620v160Z\"/>\n",
              "  </svg>\n",
              "    </button>\n",
              "\n",
              "  <style>\n",
              "    .colab-df-container {\n",
              "      display:flex;\n",
              "      gap: 12px;\n",
              "    }\n",
              "\n",
              "    .colab-df-convert {\n",
              "      background-color: #E8F0FE;\n",
              "      border: none;\n",
              "      border-radius: 50%;\n",
              "      cursor: pointer;\n",
              "      display: none;\n",
              "      fill: #1967D2;\n",
              "      height: 32px;\n",
              "      padding: 0 0 0 0;\n",
              "      width: 32px;\n",
              "    }\n",
              "\n",
              "    .colab-df-convert:hover {\n",
              "      background-color: #E2EBFA;\n",
              "      box-shadow: 0px 1px 2px rgba(60, 64, 67, 0.3), 0px 1px 3px 1px rgba(60, 64, 67, 0.15);\n",
              "      fill: #174EA6;\n",
              "    }\n",
              "\n",
              "    .colab-df-buttons div {\n",
              "      margin-bottom: 4px;\n",
              "    }\n",
              "\n",
              "    [theme=dark] .colab-df-convert {\n",
              "      background-color: #3B4455;\n",
              "      fill: #D2E3FC;\n",
              "    }\n",
              "\n",
              "    [theme=dark] .colab-df-convert:hover {\n",
              "      background-color: #434B5C;\n",
              "      box-shadow: 0px 1px 3px 1px rgba(0, 0, 0, 0.15);\n",
              "      filter: drop-shadow(0px 1px 2px rgba(0, 0, 0, 0.3));\n",
              "      fill: #FFFFFF;\n",
              "    }\n",
              "  </style>\n",
              "\n",
              "    <script>\n",
              "      const buttonEl =\n",
              "        document.querySelector('#df-f305d718-812e-4529-9172-9139f034eff3 button.colab-df-convert');\n",
              "      buttonEl.style.display =\n",
              "        google.colab.kernel.accessAllowed ? 'block' : 'none';\n",
              "\n",
              "      async function convertToInteractive(key) {\n",
              "        const element = document.querySelector('#df-f305d718-812e-4529-9172-9139f034eff3');\n",
              "        const dataTable =\n",
              "          await google.colab.kernel.invokeFunction('convertToInteractive',\n",
              "                                                    [key], {});\n",
              "        if (!dataTable) return;\n",
              "\n",
              "        const docLinkHtml = 'Like what you see? Visit the ' +\n",
              "          '<a target=\"_blank\" href=https://colab.research.google.com/notebooks/data_table.ipynb>data table notebook</a>'\n",
              "          + ' to learn more about interactive tables.';\n",
              "        element.innerHTML = '';\n",
              "        dataTable['output_type'] = 'display_data';\n",
              "        await google.colab.output.renderOutput(dataTable, element);\n",
              "        const docLink = document.createElement('div');\n",
              "        docLink.innerHTML = docLinkHtml;\n",
              "        element.appendChild(docLink);\n",
              "      }\n",
              "    </script>\n",
              "  </div>\n",
              "\n",
              "\n",
              "<div id=\"df-9e161816-914a-413d-a3f7-d50e0ec1e8e0\">\n",
              "  <button class=\"colab-df-quickchart\" onclick=\"quickchart('df-9e161816-914a-413d-a3f7-d50e0ec1e8e0')\"\n",
              "            title=\"Suggest charts\"\n",
              "            style=\"display:none;\">\n",
              "\n",
              "<svg xmlns=\"http://www.w3.org/2000/svg\" height=\"24px\"viewBox=\"0 0 24 24\"\n",
              "     width=\"24px\">\n",
              "    <g>\n",
              "        <path d=\"M19 3H5c-1.1 0-2 .9-2 2v14c0 1.1.9 2 2 2h14c1.1 0 2-.9 2-2V5c0-1.1-.9-2-2-2zM9 17H7v-7h2v7zm4 0h-2V7h2v10zm4 0h-2v-4h2v4z\"/>\n",
              "    </g>\n",
              "</svg>\n",
              "  </button>\n",
              "\n",
              "<style>\n",
              "  .colab-df-quickchart {\n",
              "      --bg-color: #E8F0FE;\n",
              "      --fill-color: #1967D2;\n",
              "      --hover-bg-color: #E2EBFA;\n",
              "      --hover-fill-color: #174EA6;\n",
              "      --disabled-fill-color: #AAA;\n",
              "      --disabled-bg-color: #DDD;\n",
              "  }\n",
              "\n",
              "  [theme=dark] .colab-df-quickchart {\n",
              "      --bg-color: #3B4455;\n",
              "      --fill-color: #D2E3FC;\n",
              "      --hover-bg-color: #434B5C;\n",
              "      --hover-fill-color: #FFFFFF;\n",
              "      --disabled-bg-color: #3B4455;\n",
              "      --disabled-fill-color: #666;\n",
              "  }\n",
              "\n",
              "  .colab-df-quickchart {\n",
              "    background-color: var(--bg-color);\n",
              "    border: none;\n",
              "    border-radius: 50%;\n",
              "    cursor: pointer;\n",
              "    display: none;\n",
              "    fill: var(--fill-color);\n",
              "    height: 32px;\n",
              "    padding: 0;\n",
              "    width: 32px;\n",
              "  }\n",
              "\n",
              "  .colab-df-quickchart:hover {\n",
              "    background-color: var(--hover-bg-color);\n",
              "    box-shadow: 0 1px 2px rgba(60, 64, 67, 0.3), 0 1px 3px 1px rgba(60, 64, 67, 0.15);\n",
              "    fill: var(--button-hover-fill-color);\n",
              "  }\n",
              "\n",
              "  .colab-df-quickchart-complete:disabled,\n",
              "  .colab-df-quickchart-complete:disabled:hover {\n",
              "    background-color: var(--disabled-bg-color);\n",
              "    fill: var(--disabled-fill-color);\n",
              "    box-shadow: none;\n",
              "  }\n",
              "\n",
              "  .colab-df-spinner {\n",
              "    border: 2px solid var(--fill-color);\n",
              "    border-color: transparent;\n",
              "    border-bottom-color: var(--fill-color);\n",
              "    animation:\n",
              "      spin 1s steps(1) infinite;\n",
              "  }\n",
              "\n",
              "  @keyframes spin {\n",
              "    0% {\n",
              "      border-color: transparent;\n",
              "      border-bottom-color: var(--fill-color);\n",
              "      border-left-color: var(--fill-color);\n",
              "    }\n",
              "    20% {\n",
              "      border-color: transparent;\n",
              "      border-left-color: var(--fill-color);\n",
              "      border-top-color: var(--fill-color);\n",
              "    }\n",
              "    30% {\n",
              "      border-color: transparent;\n",
              "      border-left-color: var(--fill-color);\n",
              "      border-top-color: var(--fill-color);\n",
              "      border-right-color: var(--fill-color);\n",
              "    }\n",
              "    40% {\n",
              "      border-color: transparent;\n",
              "      border-right-color: var(--fill-color);\n",
              "      border-top-color: var(--fill-color);\n",
              "    }\n",
              "    60% {\n",
              "      border-color: transparent;\n",
              "      border-right-color: var(--fill-color);\n",
              "    }\n",
              "    80% {\n",
              "      border-color: transparent;\n",
              "      border-right-color: var(--fill-color);\n",
              "      border-bottom-color: var(--fill-color);\n",
              "    }\n",
              "    90% {\n",
              "      border-color: transparent;\n",
              "      border-bottom-color: var(--fill-color);\n",
              "    }\n",
              "  }\n",
              "</style>\n",
              "\n",
              "  <script>\n",
              "    async function quickchart(key) {\n",
              "      const quickchartButtonEl =\n",
              "        document.querySelector('#' + key + ' button');\n",
              "      quickchartButtonEl.disabled = true;  // To prevent multiple clicks.\n",
              "      quickchartButtonEl.classList.add('colab-df-spinner');\n",
              "      try {\n",
              "        const charts = await google.colab.kernel.invokeFunction(\n",
              "            'suggestCharts', [key], {});\n",
              "      } catch (error) {\n",
              "        console.error('Error during call to suggestCharts:', error);\n",
              "      }\n",
              "      quickchartButtonEl.classList.remove('colab-df-spinner');\n",
              "      quickchartButtonEl.classList.add('colab-df-quickchart-complete');\n",
              "    }\n",
              "    (() => {\n",
              "      let quickchartButtonEl =\n",
              "        document.querySelector('#df-9e161816-914a-413d-a3f7-d50e0ec1e8e0 button');\n",
              "      quickchartButtonEl.style.display =\n",
              "        google.colab.kernel.accessAllowed ? 'block' : 'none';\n",
              "    })();\n",
              "  </script>\n",
              "</div>\n",
              "    </div>\n",
              "  </div>\n"
            ]
          },
          "metadata": {},
          "execution_count": 25
        }
      ]
    },
    {
      "cell_type": "markdown",
      "source": [
        "## 5) View the implied volatilities contained in the dataframe for the same maturity\n"
      ],
      "metadata": {
        "id": "QPakrD1w6p0c"
      }
    },
    {
      "cell_type": "markdown",
      "source": [
        "### 5.1) Call option"
      ],
      "metadata": {
        "id": "1TX23XHbCbLU"
      }
    },
    {
      "cell_type": "markdown",
      "source": [
        "####a) Expire In-The-Money (ITM)\n",
        "Lorsqu'une option expire dans l'argent (ITM), cela signifie que\n",
        "l'option a fini par être rentable.\n",
        "La rentabilité à l'expiration est la probabilité que l'option se termine\n",
        "dans l'argent (ITM). Ceci est calculé à l'aide du modèle BlackScholes-Merton, une méthode mathématique courante pour fixer le\n",
        "prix des options de style européen.\n",
        "Maintenant, considérez l'équation mathématique pour la\n",
        "distribution de probabilité :\n",
        "$$ Probabilité = CDF(d1) $$\n",
        "\n",
        "Où :\n",
        "• d1 fait partie de la formule Black-Scholes.\n",
        "• Le CDF est la fonction de distribution cumulative de la\n",
        "distribution normale standard.\n",
        "En termes plus simples, nous calculons la probabilité en regardant\n",
        "la fonction de distribution normale standard à un point particulier\n",
        "(déterminée par d1). Plus la probabilité est élevée, plus nous nous\n",
        "attendons à ce que l'option soit rentable à l'expiration. Il est\n",
        "essentiel de noter que cette probabilité n'est pas une probabilité\n",
        "statistique de profit, mais plutôt une mesure dérivée des modèles de\n",
        "tarification des options.\n",
        "Nous calculons la probabilité en définissant une fonction comme cidessous :"
      ],
      "metadata": {
        "id": "7JQ3356bficS"
      }
    },
    {
      "cell_type": "code",
      "source": [],
      "metadata": {
        "id": "NaCO66QKrJSe"
      },
      "execution_count": null,
      "outputs": []
    },
    {
      "cell_type": "code",
      "source": [
        "import numpy as np\n",
        "import matplotlib.pyplot as plt\n",
        "from scipy.stats import norm\n",
        "\n",
        "def itm_probability(d1):\n",
        "    return norm.cdf(d1)\n",
        "\n",
        "def plot_itm_probability(d1):\n",
        "    x = np.linspace(-4, 4, 1000)\n",
        "    y = norm.pdf(x)\n",
        "    plt.plot(x, y, 'b')\n",
        "    plt.fill_between(x, y, where=(x <= d1), color='skyblue', alpha=0.5)\n",
        "    plt.title(\"Probabilité que l'option finisse ITM\")\n",
        "    plt.xlabel('d1')\n",
        "    plt.ylabel('Densité de Probabilité')\n",
        "    plt.grid(True)\n",
        "    plt.gca().set_facecolor('none')  # Fond transparent\n",
        "    plt.show()\n",
        "\n",
        "# Valeur de d1\n",
        "d1 = 0.5\n",
        "\n",
        "# Tracé de la probabilité que l'option finisse ITM avec l'aire sous la courbe et fond transparent\n",
        "plot_itm_probability(d1)\n",
        "print(\"Probabilité que l'option finisse ITM:\", probability)"
      ],
      "metadata": {
        "colab": {
          "base_uri": "https://localhost:8080/",
          "height": 489
        },
        "id": "95bCku8Mpqd6",
        "outputId": "5b58e026-f0c7-4671-ff66-d2d86ab8766e"
      },
      "execution_count": 33,
      "outputs": [
        {
          "output_type": "display_data",
          "data": {
            "text/plain": [
              "<Figure size 640x480 with 1 Axes>"
            ],
            "image/png": "[encoded data removed]"
          },
          "metadata": {}
        },
        {
          "output_type": "stream",
          "name": "stdout",
          "text": [
            "Probabilité que l'option finisse ITM: 0.6914624612740131\n"
          ]
        }
      ]
    },
    {
      "cell_type": "code",
      "source": [
        "def calculate_probability(option_data) :\n",
        "  S = option_data[\"underlier_price\"]\n",
        "  K = option_data[\"Strike\"]\n",
        "  r = option_data[\"discount_rate\"]\n",
        "  sigma = option_data[\"Implied Volatility\"]\n",
        "  T = option_data[\"years_to_expiration\"]\n",
        "  d1 = (math.log(S / K) + (r + (sigma**2) / 2) * T) / (sigma * math.sqrt(T))\n",
        "  probability = norm.cdf(d1)\n",
        "\n",
        "  return probability"
      ],
      "metadata": {
        "colab": {
          "base_uri": "https://localhost:8080/",
          "height": 140
        },
        "id": "Y_8z6laafZb7",
        "outputId": "69bceebc-f51e-4c34-b9ed-8f86f715e60a"
      },
      "execution_count": 16,
      "outputs": [
        {
          "output_type": "error",
          "ename": "IndentationError",
          "evalue": "expected an indented block after function definition on line 1 (<ipython-input-16-a7df68adec56>, line 2)",
          "traceback": [
            "\u001b[0;36m  File \u001b[0;32m\"<ipython-input-16-a7df68adec56>\"\u001b[0;36m, line \u001b[0;32m2\u001b[0m\n\u001b[0;31m    S = option_data[\"underlier_price\"]\u001b[0m\n\u001b[0m    ^\u001b[0m\n\u001b[0;31mIndentationError\u001b[0m\u001b[0;31m:\u001b[0m expected an indented block after function definition on line 1\n"
          ]
        }
      ]
    },
    {
      "cell_type": "markdown",
      "source": [
        "####b) Bid-Ask spread\n",
        "L'écart Bid-Ask est la différence entre le prix le plus élevé qu'un\n",
        "acheteur est prêt à payer (Bid) et le prix le plus bas qu'un vendeur\n",
        "est prêt à accepter (Ask) pour un titre. Il sert d'indicateur de la\n",
        "liquidité du marché, des coûts de transaction et de l'équilibre entre\n",
        "l'offre et la demande. Un écart étroit indique un marché liquide avec\n",
        "des coûts de transaction plus faibles, tandis qu'un écart plus large\n",
        "peut suggérer une liquidité réduite ou une incertitude accrue du\n",
        "marché.\n",
        "Les traders tiennent souvent compte de l'écart Bid-Ask lorsqu'ils\n",
        "prennent des décisions, dans le but de minimiser les coûts et de\n",
        "naviguer efficacement dans les conditions du marché. Les teneurs\n",
        "de marché profitent de cette propagation en facilitant les échanges\n",
        "entre acheteurs et vendeurs.\n",
        "Pour calculer l'écart Bid-Ask, nous définissons une fonction comme\n",
        "suit :"
      ],
      "metadata": {
        "id": "KHoPw6c7ikaX"
      }
    },
    {
      "cell_type": "code",
      "source": [
        "def bid_ask_spread_analysis(option_data):\n",
        "  bid_ask_spread = option_data[\"Bid\"] - option_data[\"Ask\"]\n",
        "  return bid_ask_spread"
      ],
      "metadata": {
        "id": "E4MN0OFQia8n"
      },
      "execution_count": 15,
      "outputs": []
    },
    {
      "cell_type": "markdown",
      "source": [
        "####c) Compilation of all tools\n",
        "Maintenant, pour notre dernière étape, nous calculons l'ensemble\n",
        "complet de mesures en utilisant les fonctions précédemment\n",
        "définies. Cela implique de calculer la volatilité implicite,\n",
        "l'expiration dans la monnaie (ITM) et l'écart Bid-Ask, ce qui\n",
        "nous fournit une évaluation complète des caractéristiques et de la\n",
        "rentabilité potentielle de l'option. Cette approche à multiples\n",
        "facettes nous permet de prendre des décisions éclairées et d'obtenir\n",
        "des informations précieuses sur la dynamique de l'option spécifique\n",
        "envisagée :"
      ],
      "metadata": {
        "id": "4bNAScU0jPXc"
      }
    },
    {
      "cell_type": "code",
      "source": [
        "# Calculate probability\n",
        "option_data[\"probability\"] = calculate_probability(option_data)\n",
        "\n",
        "# Bid-Ask spread analysis\n",
        "option_data[\"bid_ask_spread\"] = bid_ask_spread_analysis(option_data)\n",
        "\n",
        "print(\"Implied Volatily:\", option_data[\"implied_volatility\"])\n",
        "print(\"Probability:\", option_data[\"probability\"])\n",
        "print(\"Bid-Ask Spread:\", option_data[\"bid_ask_spread\"])"
      ],
      "metadata": {
        "id": "e-1raK-8j1SA"
      },
      "execution_count": null,
      "outputs": []
    },
    {
      "cell_type": "markdown",
      "source": [
        "#### d) Single function"
      ],
      "metadata": {
        "id": "bTPy-oHinJxX"
      }
    },
    {
      "cell_type": "code",
      "source": [
        "def calculate_metrics(option_data) :\n",
        "  result = {}\n",
        "\n",
        "  S = option_data[\"underlier_price\"]\n",
        "  K = option_data[\"Strike\"]\n",
        "  r = option_data[\"discount_rate\"]\n",
        "  sigma = option_data[\"Implied Volatility\"]\n",
        "  T = option_data[\"years_to_expiration\"]\n",
        "\n",
        "  d1 = (math.log(S / K) + (r + (sigma**2) / 2) * T) / (sigma * math.sqrt(T))\n",
        "  probability = norm.cdf(d1)\n",
        "\n",
        "  bid_ask_spread = (option_data[\"Bid\"] - option_data[\"Ask\"]) / 2\n",
        "\n",
        "  result[\"implied_volatility\"] = option_data[\"Implied Volatility\"]\n",
        "  result[\"probability\"] = probability\n",
        "  result[\"bid_ask_spread\"] = bid_ask_spread_analysis(option_data)\n",
        "\n",
        "  return result"
      ],
      "metadata": {
        "id": "WxNJdG4mllSv"
      },
      "execution_count": null,
      "outputs": []
    },
    {
      "cell_type": "code",
      "source": [
        "implied_volatility_call = call_filter[\"Implied Volatility\"]\n",
        "strike_call = call_filter[\"Strike\"]\n",
        "\n",
        "plt.figure(figsize=(10, 6))\n",
        "plt.plot(strike_call, implied_volatility_call, marker='o', linestyle='-')\n",
        "plt.title(\"Implied volatility as function of strikes (Call options)\")\n",
        "plt.xlabel(\"Strike\")\n",
        "plt.ylabel(\"Implied Volatility\")\n",
        "plt.grid(True)\n",
        "plt.show()\n"
      ],
      "metadata": {
        "colab": {
          "base_uri": "https://localhost:8080/",
          "height": 533
        },
        "id": "AwbYRnIe7O5w",
        "outputId": "46339c1c-7703-45d8-c5a4-f174f35fea56"
      },
      "execution_count": null,
      "outputs": [
        {
          "output_type": "display_data",
          "data": {
            "text/plain": [
              "<Figure size 1000x600 with 1 Axes>"
            ],
            "image/png": "[encoded data removed]"
          },
          "metadata": {}
        }
      ]
    },
    {
      "cell_type": "markdown",
      "source": [
        "# Smile volatility\n",
        "As the strike price K increases for call options, implied volatility increases. This is generally observed for OTM (Out-of-The-Money) options, as there is a lower probability of the option ending in the money, making these options riskier and more expensive.\n",
        "\n",
        "Conversely, when the strike price falls for a call, implied volatility tends to fall. This is partly because ITM options are often more widely traded and liquid, which reduces the option premium and hence implied volatility."
      ],
      "metadata": {
        "id": "OqzHzGaOBYPf"
      }
    },
    {
      "cell_type": "markdown",
      "source": [
        "### 5.2) Put Option"
      ],
      "metadata": {
        "id": "xDf--W3UCjh0"
      }
    },
    {
      "cell_type": "code",
      "source": [
        "strike_put = put_filter[\"Strike\"]\n",
        "implied_volatility_put = put_filter[\"Implied Volatility\"]\n",
        "\n",
        "plt.figure(figsize=(10,6))\n",
        "plt.plot(strike_put, implied_volatility_put, marker='o', linestyle='-')\n",
        "plt.title(\"Implied volatility as function of strikes (Call options)\")\n",
        "plt.xlabel(\"Strike\")\n",
        "plt.ylabel(\"Implied Volatility\")\n",
        "plt.grid(True)\n",
        "plt.show()"
      ],
      "metadata": {
        "colab": {
          "base_uri": "https://localhost:8080/",
          "height": 534
        },
        "id": "8t99ArPACDnS",
        "outputId": "8c9ab49f-26ac-4961-92cf-5a0636093722"
      },
      "execution_count": null,
      "outputs": [
        {
          "output_type": "display_data",
          "data": {
            "text/plain": [
              "<Figure size 1000x600 with 1 Axes>"
            ],
            "image/png": "[encoded data removed]"
          },
          "metadata": {}
        }
      ]
    },
    {
      "cell_type": "markdown",
      "source": [
        "## 6) Calculate implied volatility with our functions"
      ],
      "metadata": {
        "id": "PJQ9ABGTC6-T"
      }
    },
    {
      "cell_type": "code",
      "source": [
        "S = 100\n",
        "T = callData['Last Trade']  # Assurez-vous que vous avez la durée en années\n",
        "r = 0.05\n",
        "target_price = callData['lastPrice']  # Remplacez 'lastPrice' par le nom de la colonne contenant le prix de l'option observé sur le marché\n",
        "tol = 10**-8\n",
        "\n",
        "ImpliedVolCall(target_price, S, K, r, T, tol)"
      ],
      "metadata": {
        "colab": {
          "base_uri": "https://localhost:8080/",
          "height": 512
        },
        "id": "vv9ekUjkDBAU",
        "outputId": "7da89cbe-cdb8-4922-e873-0ee886366046"
      },
      "execution_count": null,
      "outputs": [
        {
          "output_type": "error",
          "ename": "KeyError",
          "evalue": "'Last Trade'",
          "traceback": [
            "\u001b[0;31m---------------------------------------------------------------------------\u001b[0m",
            "\u001b[0;31mKeyError\u001b[0m                                  Traceback (most recent call last)",
            "\u001b[0;32m/usr/local/lib/python3.10/dist-packages/pandas/core/indexes/base.py\u001b[0m in \u001b[0;36mget_loc\u001b[0;34m(self, key, method, tolerance)\u001b[0m\n\u001b[1;32m   3801\u001b[0m             \u001b[0;32mtry\u001b[0m\u001b[0;34m:\u001b[0m\u001b[0;34m\u001b[0m\u001b[0;34m\u001b[0m\u001b[0m\n\u001b[0;32m-> 3802\u001b[0;31m                 \u001b[0;32mreturn\u001b[0m \u001b[0mself\u001b[0m\u001b[0;34m.\u001b[0m\u001b[0m_engine\u001b[0m\u001b[0;34m.\u001b[0m\u001b[0mget_loc\u001b[0m\u001b[0;34m(\u001b[0m\u001b[0mcasted_key\u001b[0m\u001b[0;34m)\u001b[0m\u001b[0;34m\u001b[0m\u001b[0;34m\u001b[0m\u001b[0m\n\u001b[0m\u001b[1;32m   3803\u001b[0m             \u001b[0;32mexcept\u001b[0m \u001b[0mKeyError\u001b[0m \u001b[0;32mas\u001b[0m \u001b[0merr\u001b[0m\u001b[0;34m:\u001b[0m\u001b[0;34m\u001b[0m\u001b[0;34m\u001b[0m\u001b[0m\n",
            "\u001b[0;32m/usr/local/lib/python3.10/dist-packages/pandas/_libs/index.pyx\u001b[0m in \u001b[0;36mpandas._libs.index.IndexEngine.get_loc\u001b[0;34m()\u001b[0m\n",
            "\u001b[0;32m/usr/local/lib/python3.10/dist-packages/pandas/_libs/index.pyx\u001b[0m in \u001b[0;36mpandas._libs.index.IndexEngine.get_loc\u001b[0;34m()\u001b[0m\n",
            "\u001b[0;32mpandas/_libs/hashtable_class_helper.pxi\u001b[0m in \u001b[0;36mpandas._libs.hashtable.PyObjectHashTable.get_item\u001b[0;34m()\u001b[0m\n",
            "\u001b[0;32mpandas/_libs/hashtable_class_helper.pxi\u001b[0m in \u001b[0;36mpandas._libs.hashtable.PyObjectHashTable.get_item\u001b[0;34m()\u001b[0m\n",
            "\u001b[0;31mKeyError\u001b[0m: 'Last Trade'",
            "\nThe above exception was the direct cause of the following exception:\n",
            "\u001b[0;31mKeyError\u001b[0m                                  Traceback (most recent call last)",
            "\u001b[0;32m<ipython-input-59-b64de2abedec>\u001b[0m in \u001b[0;36m<cell line: 2>\u001b[0;34m()\u001b[0m\n\u001b[1;32m      1\u001b[0m \u001b[0mS\u001b[0m \u001b[0;34m=\u001b[0m \u001b[0;36m100\u001b[0m\u001b[0;34m\u001b[0m\u001b[0;34m\u001b[0m\u001b[0m\n\u001b[0;32m----> 2\u001b[0;31m \u001b[0mT\u001b[0m \u001b[0;34m=\u001b[0m \u001b[0mcallData\u001b[0m\u001b[0;34m[\u001b[0m\u001b[0;34m'Last Trade'\u001b[0m\u001b[0;34m]\u001b[0m  \u001b[0;31m# Assurez-vous que vous avez la durée en années\u001b[0m\u001b[0;34m\u001b[0m\u001b[0;34m\u001b[0m\u001b[0m\n\u001b[0m\u001b[1;32m      3\u001b[0m \u001b[0mr\u001b[0m \u001b[0;34m=\u001b[0m \u001b[0;36m0.05\u001b[0m\u001b[0;34m\u001b[0m\u001b[0;34m\u001b[0m\u001b[0m\n\u001b[1;32m      4\u001b[0m \u001b[0mtarget_price\u001b[0m \u001b[0;34m=\u001b[0m \u001b[0mcallData\u001b[0m\u001b[0;34m[\u001b[0m\u001b[0;34m'lastPrice'\u001b[0m\u001b[0;34m]\u001b[0m  \u001b[0;31m# Remplacez 'lastPrice' par le nom de la colonne contenant le prix de l'option observé sur le marché\u001b[0m\u001b[0;34m\u001b[0m\u001b[0;34m\u001b[0m\u001b[0m\n\u001b[1;32m      5\u001b[0m \u001b[0mtol\u001b[0m \u001b[0;34m=\u001b[0m \u001b[0;36m10\u001b[0m\u001b[0;34m**\u001b[0m\u001b[0;34m-\u001b[0m\u001b[0;36m8\u001b[0m\u001b[0;34m\u001b[0m\u001b[0;34m\u001b[0m\u001b[0m\n",
            "\u001b[0;32m/usr/local/lib/python3.10/dist-packages/pandas/core/frame.py\u001b[0m in \u001b[0;36m__getitem__\u001b[0;34m(self, key)\u001b[0m\n\u001b[1;32m   3805\u001b[0m             \u001b[0;32mif\u001b[0m \u001b[0mself\u001b[0m\u001b[0;34m.\u001b[0m\u001b[0mcolumns\u001b[0m\u001b[0;34m.\u001b[0m\u001b[0mnlevels\u001b[0m \u001b[0;34m>\u001b[0m \u001b[0;36m1\u001b[0m\u001b[0;34m:\u001b[0m\u001b[0;34m\u001b[0m\u001b[0;34m\u001b[0m\u001b[0m\n\u001b[1;32m   3806\u001b[0m                 \u001b[0;32mreturn\u001b[0m \u001b[0mself\u001b[0m\u001b[0;34m.\u001b[0m\u001b[0m_getitem_multilevel\u001b[0m\u001b[0;34m(\u001b[0m\u001b[0mkey\u001b[0m\u001b[0;34m)\u001b[0m\u001b[0;34m\u001b[0m\u001b[0;34m\u001b[0m\u001b[0m\n\u001b[0;32m-> 3807\u001b[0;31m             \u001b[0mindexer\u001b[0m \u001b[0;34m=\u001b[0m \u001b[0mself\u001b[0m\u001b[0;34m.\u001b[0m\u001b[0mcolumns\u001b[0m\u001b[0;34m.\u001b[0m\u001b[0mget_loc\u001b[0m\u001b[0;34m(\u001b[0m\u001b[0mkey\u001b[0m\u001b[0;34m)\u001b[0m\u001b[0;34m\u001b[0m\u001b[0;34m\u001b[0m\u001b[0m\n\u001b[0m\u001b[1;32m   3808\u001b[0m             \u001b[0;32mif\u001b[0m \u001b[0mis_integer\u001b[0m\u001b[0;34m(\u001b[0m\u001b[0mindexer\u001b[0m\u001b[0;34m)\u001b[0m\u001b[0;34m:\u001b[0m\u001b[0;34m\u001b[0m\u001b[0;34m\u001b[0m\u001b[0m\n\u001b[1;32m   3809\u001b[0m                 \u001b[0mindexer\u001b[0m \u001b[0;34m=\u001b[0m \u001b[0;34m[\u001b[0m\u001b[0mindexer\u001b[0m\u001b[0;34m]\u001b[0m\u001b[0;34m\u001b[0m\u001b[0;34m\u001b[0m\u001b[0m\n",
            "\u001b[0;32m/usr/local/lib/python3.10/dist-packages/pandas/core/indexes/base.py\u001b[0m in \u001b[0;36mget_loc\u001b[0;34m(self, key, method, tolerance)\u001b[0m\n\u001b[1;32m   3802\u001b[0m                 \u001b[0;32mreturn\u001b[0m \u001b[0mself\u001b[0m\u001b[0;34m.\u001b[0m\u001b[0m_engine\u001b[0m\u001b[0;34m.\u001b[0m\u001b[0mget_loc\u001b[0m\u001b[0;34m(\u001b[0m\u001b[0mcasted_key\u001b[0m\u001b[0;34m)\u001b[0m\u001b[0;34m\u001b[0m\u001b[0;34m\u001b[0m\u001b[0m\n\u001b[1;32m   3803\u001b[0m             \u001b[0;32mexcept\u001b[0m \u001b[0mKeyError\u001b[0m \u001b[0;32mas\u001b[0m \u001b[0merr\u001b[0m\u001b[0;34m:\u001b[0m\u001b[0;34m\u001b[0m\u001b[0;34m\u001b[0m\u001b[0m\n\u001b[0;32m-> 3804\u001b[0;31m                 \u001b[0;32mraise\u001b[0m \u001b[0mKeyError\u001b[0m\u001b[0;34m(\u001b[0m\u001b[0mkey\u001b[0m\u001b[0;34m)\u001b[0m \u001b[0;32mfrom\u001b[0m \u001b[0merr\u001b[0m\u001b[0;34m\u001b[0m\u001b[0;34m\u001b[0m\u001b[0m\n\u001b[0m\u001b[1;32m   3805\u001b[0m             \u001b[0;32mexcept\u001b[0m \u001b[0mTypeError\u001b[0m\u001b[0;34m:\u001b[0m\u001b[0;34m\u001b[0m\u001b[0;34m\u001b[0m\u001b[0m\n\u001b[1;32m   3806\u001b[0m                 \u001b[0;31m# If we have a listlike key, _check_indexing_error will raise\u001b[0m\u001b[0;34m\u001b[0m\u001b[0;34m\u001b[0m\u001b[0m\n",
            "\u001b[0;31mKeyError\u001b[0m: 'Last Trade'"
          ]
        }
      ]
    }
  ]
}