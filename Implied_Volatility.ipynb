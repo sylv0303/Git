{
  "nbformat": 4,
  "nbformat_minor": 0,
  "metadata": {
    "colab": {
      "provenance": [],
      "authorship_tag": "ABX9TyOySf+azTs6n6Qq2kKl3L2E",
      "include_colab_link": true
    },
    "kernelspec": {
      "name": "python3",
      "display_name": "Python 3"
    },
    "language_info": {
      "name": "python"
    }
  },
  "cells": [
    {
      "cell_type": "markdown",
      "metadata": {
        "id": "view-in-github",
        "colab_type": "text"
      },
      "source": [
        "<a href=\"https://colab.research.google.com/github/sylv0303/Git/blob/main/Implied_Volatility.ipynb\" target=\"_parent\"><img src=\"https://colab.research.google.com/assets/colab-badge.svg\" alt=\"Open In Colab\"/></a>"
      ]
    },
    {
      "cell_type": "code",
      "source": [
        "#!pip install yahoo_fin"
      ],
      "metadata": {
        "id": "iSv3JlLnSaHi"
      },
      "execution_count": 228,
      "outputs": []
    },
    {
      "cell_type": "code",
      "source": [
        "import pandas as pd\n",
        "import math\n",
        "import numpy as np\n",
        "import matplotlib.pyplot as plt\n",
        "from scipy.stats import norm\n",
        "from math import sqrt\n",
        "import yfinance as yf\n",
        "from yahoo_fin import options as op\n",
        "import pandas_datareader as pdr\n",
        "from multiprocessing import Pool\n",
        "import multiprocessing"
      ],
      "metadata": {
        "id": "qHB-uTN7SXhB"
      },
      "execution_count": 99,
      "outputs": []
    },
    {
      "cell_type": "markdown",
      "source": [
        "# Implied Volatility\n",
        "Implied volatility is a crucial indicator that measures anticipated fluctuations in the price of a financial asset. Unlike historical volatility, it is not based on past data, but rather uses real-time option prices to assess market expectations. This volatility is called \"implied\" because it is not directly observable and must be deduced from the current option price.\n",
        "\n",
        "It is used as an indicator of investor sentiment regarding future price fluctuations. Implied volatility is often expressed as a percentage of expected price changes over a one-year period.\n",
        "\n",
        "High implied volatility suggests that investors expect large price movements in the future, while low implied volatility indicates expectations of small price fluctuations.\n",
        "\n",
        "To calculate implied volatility, we use the Black-Scholes model. These models take into account various factors such as the current price of the underlying asset, the option's strike price, the time remaining until the option expires and the risk-free interest rate. However, unlike the other variables, implied volatility is not directly observable; rather, it is adjusted in the pricing model until the option price calculated by the model matches the actual option price observed on the market."
      ],
      "metadata": {
        "id": "XF8nLMywdrpv"
      }
    },
    {
      "cell_type": "code",
      "source": [
        "# Define Black-Scholes formula\n",
        "def black_scholes(S, K, T, r, sigma, option='call'):\n",
        "    d1 = (np.log(S / K) + (r + 0.5 * sigma ** 2) * T) / (sigma * np.sqrt(T))\n",
        "    d2 = d1 - sigma * np.sqrt(T)\n",
        "    if option == 'call':\n",
        "      return S * norm.cdf(d1) - K * np.exp(-r * T) * norm.cdf(d2)\n",
        "    else:\n",
        "      return K * np.exp(-r * T) * norm.cdf(-d2) - S * norm.cdf(-d1)"
      ],
      "metadata": {
        "id": "z8obYqC6OcmL"
      },
      "execution_count": 177,
      "outputs": []
    },
    {
      "cell_type": "code",
      "source": [
        "# Parameters\n",
        "S = 100\n",
        "K = 105\n",
        "T = 0.5\n",
        "r = 0.02\n",
        "sigma = 0.2\n",
        "option='call'\n",
        "print(np.round(black_scholes(S, K, T, r, sigma), 3))"
      ],
      "metadata": {
        "colab": {
          "base_uri": "https://localhost:8080/"
        },
        "id": "t-Ix2r2ZY-JR",
        "outputId": "98459079-a81b-496f-820a-e061456045ad"
      },
      "execution_count": 178,
      "outputs": [
        {
          "output_type": "stream",
          "name": "stdout",
          "text": [
            "3.986\n"
          ]
        }
      ]
    },
    {
      "cell_type": "code",
      "source": [
        "# Parameters\n",
        "S = 100\n",
        "K = 105\n",
        "T = 0.5\n",
        "r = 0.02\n",
        "sigma = 0.2\n",
        "print(np.round(black_scholes(S, K, T, r, sigma, option='call'), 3))"
      ],
      "metadata": {
        "colab": {
          "base_uri": "https://localhost:8080/"
        },
        "id": "tKoYy5M7-H4c",
        "outputId": "8bb83b0e-fc19-4a91-bc34-5fa20f5d4aa6"
      },
      "execution_count": 179,
      "outputs": [
        {
          "output_type": "stream",
          "name": "stdout",
          "text": [
            "3.986\n"
          ]
        }
      ]
    },
    {
      "cell_type": "markdown",
      "source": [
        "## Newton-Raphson Algorithm\n",
        "We will calculate the implied volatility given the option prices calculated with the Black & Scholes model data.\n",
        "For this, we will use Newton's method with root finding. We want to resolve:\n",
        "\n",
        "$$\n",
        "\\text{Call}_{\\text{BS}}(\\sigma_{\\text{implied}}) = P \\iff f(x) = \\text{Call}_{\\text{BS}}(x) - P\n",
        "$$\n",
        "\n",
        "\n",
        "We use the 1st order Taylor expansion:\n",
        "\n",
        "$$\n",
        "x_{n+1} = x_n - \\frac{f(x_n)}{f'(x_n)}\n",
        "$$\n",
        "\n",
        "We fix a tolerance level and iterate the algorithm until the difference between the two consecutive estimations is below this level."
      ],
      "metadata": {
        "id": "B2rTFrJdeKDq"
      }
    },
    {
      "cell_type": "code",
      "source": [
        "def newton_step(f, x0):\n",
        "  def df(x):\n",
        "    dx = 0.00001\n",
        "    return (f(x + dx) - f(x)) / dx # derivation calculation (formula) --> gives an approximation\n",
        "  return x0 - f(x0)/df(x0) # we use the approximation of this derivative to calculate x1\n",
        "\n",
        "def newton(f, x0, tol):\n",
        "    while abs(newton_step(f, x0) - x0) > tol: # iterates until the difference between approximation n+1 and n is below the tolerance threshold\n",
        "        x0 = newton_step(f, x0)\n",
        "    return x0\n"
      ],
      "metadata": {
        "id": "T-W6RnjRKMVO"
      },
      "execution_count": 180,
      "outputs": []
    },
    {
      "cell_type": "markdown",
      "source": [
        "## Implied volatility estimation\n",
        "$$ f(x) = \\text{Call}_{\\text{BS}}(x) - P $$\n",
        "\n",
        "The function $f(x)$ is defined as $f(x) = \\text{Call}_{\\text{BS}}(x) - P$, where $ \\text{Call}_{\\text{BS}}(x) $ is the option price calculated with the Black-Scholes model as a function of volatility $x$ and $P$ is the observed market price of the option. When $f(x) = 0$, this means that the calculated option price is equal to the observed market price, giving us the implied volatility we're looking for.\n",
        "\n",
        "So, in the Newton-Raphson algorithm, we iterate until we find a value for $x$.\n",
        "\n",
        "\n",
        "\n"
      ],
      "metadata": {
        "id": "J9Po_gCzRezH"
      }
    },
    {
      "cell_type": "code",
      "source": [
        "#CallPrice(vol) - TargetPrice\n",
        "CallPriceVol = lambda vol: black_scholes(S, K, T, r, vol, option='call') - C # to find when f(x) = 0 (intersection of abscissas) --> we find the root x (implicit flight) so f(x)= option price observed on the market"
      ],
      "metadata": {
        "id": "Ua6RoVQ5RnRV"
      },
      "execution_count": 181,
      "outputs": []
    },
    {
      "cell_type": "code",
      "source": [
        "C = black_scholes(S, K, T, r, sigma, option='call')\n",
        "init = 0.1  # we initialize x0\n",
        "tol = 10**-8   # tolerance is restored (when you stop)\n",
        "print(newton(CallPriceVol, init, tol)) # we run the algo and it sends us back the implicit flight"
      ],
      "metadata": {
        "id": "-1fkI501X66U",
        "colab": {
          "base_uri": "https://localhost:8080/"
        },
        "outputId": "5ae086aa-bdd8-42db-9613-e2449ae23625"
      },
      "execution_count": 182,
      "outputs": [
        {
          "output_type": "stream",
          "name": "stdout",
          "text": [
            "0.20000000003382454\n"
          ]
        }
      ]
    },
    {
      "cell_type": "code",
      "source": [
        "# We test 4 iterations of the algo, we get x0, x1, x2, x3 and x4 (implicit theft).\n",
        "x0 = init\n",
        "for i in range(0,4):\n",
        "  print(x0)\n",
        "  x0 = newton_step(CallPriceVol, x0)"
      ],
      "metadata": {
        "id": "lw_EQoZ7ZaTf",
        "colab": {
          "base_uri": "https://localhost:8080/"
        },
        "outputId": "e3d4288e-0f2b-45e5-c286-7b45082810e1"
      },
      "execution_count": 183,
      "outputs": [
        {
          "output_type": "stream",
          "name": "stdout",
          "text": [
            "0.1\n",
            "0.20777097726498\n",
            "0.20000975370670124\n",
            "0.20000000003382454\n"
          ]
        }
      ]
    },
    {
      "cell_type": "markdown",
      "source": [
        "## Inflexion Point\n",
        "\n",
        "We could use the 2nd order Taylor expansion to estimate the implied volaticity:\n",
        "\n",
        "$$\n",
        "f(x) = f(x_n) + f'(x_n)(x-x_n) + \\frac{f''(\\epsilon_n)}{2}(x-x_n)^2\n",
        "$$\n",
        "\n",
        "with\n",
        "\n",
        "$$\n",
        "x = x_{\\text{target}} \\quad \\text{and} \\quad f(x_{\\text{target}}) = 0\n",
        "$$\n",
        "\n",
        "$$\n",
        "x_{\\text{target}} = x_n - \\frac{f(x_n)}{f'(x_n)} - \\frac{f''(x_n)}{2f'(x_n)}(x_{\\text{target}} - x_n)^2\n",
        "$$\n",
        "\n",
        "One of the drawbacks of the Newton-Raphson Method is that convergence is not guaranteed.\n",
        "\n",
        "We want to optimize the Newton-Raphson algorithm and to do this, we start the algorithm at an inflection point. Indeed, we know that at the inflection point, the second derivative is equal to zero because the curve is convex to the left and concave to the right. Therefore, our series σn is monotonous with:\n",
        "\n",
        "$$\n",
        "\\sigma_0 > \\sigma_1 > \\sigma_2 > \\ldots > \\sigma_{\\text{implied}}\n",
        "$$\n",
        "\n",
        "The algorithm is convergent and optimized.\n",
        "\n",
        "The value of the inflection point is given by :\n",
        "\n",
        "$$\n",
        "I = \\sqrt{\\frac{2 \\cdot |\\log(m)|}{T}} \\quad \\text{and} \\quad m = \\frac{S}{K \\cdot e^{-rT}} \\quad \\text{(moneyness)}\n",
        "$$"
      ],
      "metadata": {
        "id": "GBroiTeubsJy"
      }
    },
    {
      "cell_type": "code",
      "source": [
        "def Inflexionpoint (S, K, T, r):\n",
        "  m = S / (K * np.exp(-r * T))\n",
        "  return np.sqrt(2 * np.abs(np.log(m)) / T)"
      ],
      "metadata": {
        "id": "PR4M9k8Sa2UF"
      },
      "execution_count": 184,
      "outputs": []
    },
    {
      "cell_type": "code",
      "source": [
        "I = Inflexionpoint(S, K, T, r)\n",
        "print(\"Inflexion Point:\", I)"
      ],
      "metadata": {
        "id": "00xosq66bcOs",
        "colab": {
          "base_uri": "https://localhost:8080/"
        },
        "outputId": "1b92291c-733c-46cc-a176-6efd12225aed"
      },
      "execution_count": 185,
      "outputs": [
        {
          "output_type": "stream",
          "name": "stdout",
          "text": [
            "Inflexion Point: 0.39390437504263387\n"
          ]
        }
      ]
    },
    {
      "cell_type": "markdown",
      "source": [
        "## Implied Volatility with Inflexion Point\n",
        "\n",
        "$$ f(x) = \\text{Call}_{\\text{BS}}(x) - P\n",
        "$$\n",
        "This equation can be solved with the Newton-Raphson algorithm, using the inflection point as the initial guess. The series σn is monotonous:\n",
        "\n",
        "$$\n",
        "\\sigma_0 = I, \\quad \\sigma_{n+1} = \\sigma_n - \\frac{\\text{Call}_{\\text{BS}}(\\sigma_n) - P}{\\frac{\\partial \\text{Call}_{\\text{BS}}(\\sigma_n)}{\\partial \\sigma}}\n",
        "$$\n",
        "\n",
        "where Vega is:\n",
        "\n",
        "$$\n",
        "\\frac{\\partial \\text{Call}_{\\text{BS}}(\\sigma_n)}{\\partial \\sigma} = S \\cdot \\sqrt{T} \\cdot N'(d_1)\n",
        "$$"
      ],
      "metadata": {
        "id": "VWa-nI9-bwP5"
      }
    },
    {
      "cell_type": "code",
      "source": [
        "def vega(S, sigma, K, T, r):\n",
        "  d1 = (np.log(S / K) + (r  + 0.5 * sigma**2/2) * T) / (sigma * sqrt(T))\n",
        "  vega = S * T**0.5 * norm.cdf(d1)\n",
        "  return vega\n",
        "\n",
        "def ImpliedVolCall(C, S, K, r, T, tol):\n",
        "  x0 = Inflexionpoint(S, K, T, r)\n",
        "  P = black_scholes(S, K, T, r, vol, option='call')\n",
        "  v = vega(S, x0, K, T, r)\n",
        "  while (abs((P - C) / v) > tol):\n",
        "    x0 = x0 - (P - C) / v\n",
        "    P = black_scholes(S, K, T, r, vol, option='call')\n",
        "    v = vega(S, x0, K, T, r)\n",
        "  return x0"
      ],
      "metadata": {
        "id": "pzQrJKwQbpVK"
      },
      "execution_count": 186,
      "outputs": []
    },
    {
      "cell_type": "code",
      "source": [
        "# Parameters\n",
        "S = 100\n",
        "K = 105\n",
        "T = 0.5\n",
        "r = 0.02\n",
        "vol = 0.2\n",
        "\n",
        "C = black_scholes(S, K, T, r, vol, option='call')"
      ],
      "metadata": {
        "id": "N4BJ0hdMcbAR"
      },
      "execution_count": null,
      "outputs": []
    },
    {
      "cell_type": "code",
      "source": [
        "tol = 10**-8\n",
        "ImpliedVolCall(C, S, K, r, T, tol)"
      ],
      "metadata": {
        "id": "uQurr5xfdPWu",
        "colab": {
          "base_uri": "https://localhost:8080/"
        },
        "outputId": "543abe71-38c4-42b7-9394-9c6b109f3d49"
      },
      "execution_count": 187,
      "outputs": [
        {
          "output_type": "execute_result",
          "data": {
            "text/plain": [
              "0.39390437504263387"
            ]
          },
          "metadata": {},
          "execution_count": 187
        }
      ]
    },
    {
      "cell_type": "markdown",
      "source": [
        "## 3) Import options data\n"
      ],
      "metadata": {
        "id": "W58Vm3LYGbB8"
      }
    },
    {
      "cell_type": "code",
      "source": [
        "# Check expiration dates\n",
        "ticker = 'AMZN'\n",
        "expiry = op.get_expiration_dates(ticker)\n",
        "expiry"
      ],
      "metadata": {
        "id": "qYJ92uJfVGKo",
        "colab": {
          "base_uri": "https://localhost:8080/"
        },
        "outputId": "b79a8b3f-b3fd-428f-e48a-1a42c0066e8d"
      },
      "execution_count": 213,
      "outputs": [
        {
          "output_type": "execute_result",
          "data": {
            "text/plain": [
              "['February 23, 2024',\n",
              " 'March 1, 2024',\n",
              " 'March 8, 2024',\n",
              " 'March 15, 2024',\n",
              " 'March 22, 2024',\n",
              " 'March 28, 2024',\n",
              " 'April 19, 2024',\n",
              " 'May 17, 2024',\n",
              " 'June 21, 2024',\n",
              " 'July 19, 2024',\n",
              " 'August 16, 2024',\n",
              " 'September 20, 2024',\n",
              " 'October 18, 2024',\n",
              " 'November 15, 2024',\n",
              " 'December 20, 2024',\n",
              " 'January 17, 2025',\n",
              " 'March 21, 2025',\n",
              " 'June 20, 2025',\n",
              " 'September 19, 2025',\n",
              " 'December 19, 2025',\n",
              " 'January 16, 2026',\n",
              " 'June 18, 2026']"
            ]
          },
          "metadata": {},
          "execution_count": 213
        }
      ]
    },
    {
      "cell_type": "code",
      "source": [
        "# Set stock ticker and expiry date\n",
        "ticker = 'AMZN'\n",
        "expiry = '2024-04-19'\n",
        "\n",
        "# Get stock data for the past year\n",
        "start_date = pd.to_datetime('today') - pd.DateOffset(years=1)\n",
        "end_date = pd.to_datetime('today')\n",
        "stock_data = yf.download(ticker, start=start_date, end=end_date)\n",
        "\n",
        "# Calculate historical volatility\n",
        "returns = stock_data['Adj Close'].pct_change().dropna()\n",
        "volatility = returns.std() * np.sqrt(252)\n",
        "\n",
        "# Get option chain for stock ticker and expiry date\n",
        "option_chain = yf.Ticker(ticker).option_chain(expiry)\n",
        "\n",
        "# Filter option chain for puts and calls\n",
        "puts = option_chain.puts.sort_values(by='lastPrice')\n",
        "calls = option_chain.calls.sort_values(by='lastPrice')\n",
        "\n",
        "# Filter for conservative trader\n",
        "conservative_puts = puts[(puts[\"inTheMoney\"] == True)]\n",
        "conservative_calls = calls[(calls[\"inTheMoney\"] == True)]\n",
        "\"\"\"\n",
        "We could also exclude low-volume options because they are illiquid: OTM and ITM options are often less liquid than those close to the money (ATM)\n",
        "treshold_volume = 500\n",
        "conservative_puts = puts[(puts[\"inTheMoney\"] == True) & (puts[\"volume\"] >= treshold_volume)].head(5)\n",
        "conservative_calls = calls[(calls[\"inTheMoney\"] == True) & (calls[\"volume\"] >= treshold_volume)].tail(5)\n",
        "\"\"\""
      ],
      "metadata": {
        "id": "MhymBU4xA-54",
        "colab": {
          "base_uri": "https://localhost:8080/",
          "height": 109
        },
        "outputId": "10ffb574-1c85-4233-f9a1-42a26364a88f"
      },
      "execution_count": 221,
      "outputs": [
        {
          "output_type": "stream",
          "name": "stderr",
          "text": [
            "\r[*********************100%%**********************]  1 of 1 completed\n"
          ]
        },
        {
          "output_type": "execute_result",
          "data": {
            "text/plain": [
              "'\\nWe could also exclude low-volume options because they are illiquid: OTM and ITM options are often less liquid than those close to the money (ATM)\\ntreshold_volume = 500\\nconservative_puts = puts[(puts[\"inTheMoney\"] == True) & (puts[\"volume\"] >= treshold_volume)].head(5)\\nconservative_calls = calls[(calls[\"inTheMoney\"] == True) & (calls[\"volume\"] >= treshold_volume)].tail(5)\\n'"
            ],
            "application/vnd.google.colaboratory.intrinsic+json": {
              "type": "string"
            }
          },
          "metadata": {},
          "execution_count": 221
        }
      ]
    },
    {
      "cell_type": "markdown",
      "source": [
        "\n",
        "We first fetch the options chain data for a specific stock from Yahoo Finance. Then, we compute historical volatility using data from the past year to improve our option approximations. Next, we add code to filter and select \"conservative options,\" also known as \"in-the-money\" options, as a means of incorporating financial prudence into our analysis.\n",
        "Now, we will integrate the Black-Scholes model, which calculates the theoretical price of an option, representing its fair value in an ideally efficient market.\n",
        "\n",
        "\n",
        "\n",
        "\n"
      ],
      "metadata": {
        "id": "LsVskYbh-TbW"
      }
    },
    {
      "cell_type": "code",
      "source": [
        "# Estimate fair price for each option using Black-Scholes formula\n",
        "market_price = yf.Ticker(ticker).fast_info['lastPrice']\n",
        "\n",
        "# Set risk-free interest rate\n",
        "risk_free_ticker = 'DGS1'\n",
        "risk_free_rate = pdr.get_data_fred(risk_free_ticker)\n",
        "r = risk_free_rate.iloc[-1]['DGS1']\n",
        "\n",
        "# Calculate fair price with B&S model\n",
        "conservative_puts['fair_price'] = black_scholes(\n",
        "    market_price, conservative_puts['strike'],\n",
        "    (pd.to_datetime(expiry) - pd.to_datetime('today')).days / 365, r, volatility,\n",
        "    option='put')\n",
        "\n",
        "conservative_calls['fair_price'] = black_scholes(\n",
        "    market_price, conservative_calls['strike'],\n",
        "    (pd.to_datetime(expiry) - pd.to_datetime('today')).days / 365, r, volatility,\n",
        "    option='call')\n",
        "\n",
        "# Calculate expected return for each option\n",
        "conservative_calls['expected_return'] = (conservative_calls['fair_price'] - conservative_calls['lastPrice']) / conservative_calls['lastPrice']\n",
        "conservative_puts['expected_return'] = (conservative_puts['fair_price'] - conservative_puts['lastPrice']) / conservative_puts['lastPrice']\n",
        "\n",
        "# Rank options by expected return and suggest top 3 put and call\n",
        "suggested_puts = conservative_puts.sort_values('expected_return', ascending=False).head(3)\n",
        "suggested_calls = conservative_calls.sort_values('expected_return', ascending=False).head(3)\n",
        "\n",
        "# Print suggested options and stock price\n",
        "print(\"Suggested puts:\")\n",
        "print(suggested_puts[['strike', 'lastTradeDate', 'lastPrice', 'ask', 'volume', 'impliedVolatility', 'fair_price',\n",
        "                      'expected_return']].to_string(index=False))\n",
        "print(\"\\nStock Price:\")\n",
        "print(f\"The current price of {ticker} is ${market_price:.2f}\")\n",
        "print(\"\\nSuggested calls:\")\n",
        "print(suggested_calls[['strike', 'lastTradeDate', 'lastPrice', 'ask', 'impliedVolatility', 'fair_price',\n",
        "                       'expected_return']].to_string(index=False))"
      ],
      "metadata": {
        "id": "RWMiZeq4_EHH",
        "colab": {
          "base_uri": "https://localhost:8080/"
        },
        "outputId": "df79e80a-a4e0-49dc-9b94-97bec779bbf9"
      },
      "execution_count": 222,
      "outputs": [
        {
          "output_type": "stream",
          "name": "stdout",
          "text": [
            "Suggested puts:\n",
            " strike             lastTradeDate  lastPrice   ask  volume  impliedVolatility  fair_price  expected_return\n",
            "  230.0 2024-02-08 15:30:59+00:00       59.0 60.75       3           0.369147    0.000060        -0.999999\n",
            "  220.0 2024-02-12 16:31:40+00:00       46.6 50.75      10           0.324714    0.000011        -1.000000\n",
            "  215.0 2024-02-13 19:58:10+00:00       46.9 45.80      33           0.310310    0.000004        -1.000000\n",
            "\n",
            "Stock Price:\n",
            "The current price of AMZN is $169.51\n",
            "\n",
            "Suggested calls:\n",
            " strike             lastTradeDate  lastPrice   ask  impliedVolatility  fair_price  expected_return\n",
            "  165.0 2024-02-16 20:59:46+00:00      10.60 10.75           0.299568   97.122926         8.162540\n",
            "  160.0 2024-02-16 20:59:46+00:00      14.00 14.15           0.314033   99.316474         6.094034\n",
            "  155.0 2024-02-16 20:59:27+00:00      17.87 18.10           0.337165  101.510021         4.680471\n"
          ]
        },
        {
          "output_type": "stream",
          "name": "stderr",
          "text": [
            "<ipython-input-222-3b9afece69c1>:10: SettingWithCopyWarning: \n",
            "A value is trying to be set on a copy of a slice from a DataFrame.\n",
            "Try using .loc[row_indexer,col_indexer] = value instead\n",
            "\n",
            "See the caveats in the documentation: https://pandas.pydata.org/pandas-docs/stable/user_guide/indexing.html#returning-a-view-versus-a-copy\n",
            "  conservative_puts['fair_price'] = black_scholes(\n",
            "<ipython-input-222-3b9afece69c1>:15: SettingWithCopyWarning: \n",
            "A value is trying to be set on a copy of a slice from a DataFrame.\n",
            "Try using .loc[row_indexer,col_indexer] = value instead\n",
            "\n",
            "See the caveats in the documentation: https://pandas.pydata.org/pandas-docs/stable/user_guide/indexing.html#returning-a-view-versus-a-copy\n",
            "  conservative_calls['fair_price'] = black_scholes(\n",
            "<ipython-input-222-3b9afece69c1>:21: SettingWithCopyWarning: \n",
            "A value is trying to be set on a copy of a slice from a DataFrame.\n",
            "Try using .loc[row_indexer,col_indexer] = value instead\n",
            "\n",
            "See the caveats in the documentation: https://pandas.pydata.org/pandas-docs/stable/user_guide/indexing.html#returning-a-view-versus-a-copy\n",
            "  conservative_calls['expected_return'] = (conservative_calls['fair_price'] - conservative_calls['lastPrice']) / conservative_calls['lastPrice']\n",
            "<ipython-input-222-3b9afece69c1>:22: SettingWithCopyWarning: \n",
            "A value is trying to be set on a copy of a slice from a DataFrame.\n",
            "Try using .loc[row_indexer,col_indexer] = value instead\n",
            "\n",
            "See the caveats in the documentation: https://pandas.pydata.org/pandas-docs/stable/user_guide/indexing.html#returning-a-view-versus-a-copy\n",
            "  conservative_puts['expected_return'] = (conservative_puts['fair_price'] - conservative_puts['lastPrice']) / conservative_puts['lastPrice']\n"
          ]
        }
      ]
    },
    {
      "cell_type": "markdown",
      "source": [
        "The code now ranks options based on their expected return and presents them alongside the stock price. The output displays call and put options, their fair price, and expected return. Additionally, we can retrieve implied volatility data from yfinance. This output could resemble the option trading page of a brokerage account.\n",
        "\n",
        "Next, we will add code to plot the options against the stock price over time."
      ],
      "metadata": {
        "id": "114FxJLiCkTP"
      }
    },
    {
      "cell_type": "code",
      "source": [
        "# Plot stock price and options\n",
        "fig, ax = plt.subplots()\n",
        "\n",
        "# Plot stock price\n",
        "stock_data['Adj Close'].plot(ax=ax, label=ticker)\n",
        "\n",
        "# Plot put options\n",
        "for i, row in suggested_puts.iterrows():\n",
        "    ax.axhline(y=row['strike'], color='r', linestyle='-')\n",
        "\n",
        "# Plot call options\n",
        "for i, row in suggested_calls.iterrows():\n",
        "    ax.axhline(y=row['strike'], color='g', linestyle='-')\n",
        "\n",
        "plt.legend()\n",
        "plt.title(f'{ticker} Options for {expiry}')\n",
        "plt.xlabel('Date')\n",
        "plt.ylabel('Price')\n",
        "plt.savefig(\"plot.png\")"
      ],
      "metadata": {
        "id": "Vzw87gZrDKNV",
        "colab": {
          "base_uri": "https://localhost:8080/",
          "height": 455
        },
        "outputId": "98d9cd16-9e22-48ca-fd2c-e002f9816fd3"
      },
      "execution_count": 223,
      "outputs": [
        {
          "output_type": "display_data",
          "data": {
            "text/plain": [
              "<Figure size 640x480 with 1 Axes>"
            ],
            "image/png": "[encoded data removed]"
          },
          "metadata": {}
        }
      ]
    },
    {
      "cell_type": "markdown",
      "source": [
        "Opening the image plot.png in the same directory reveals a visually appealing representation of the option contracts, offering insights for technical analysis."
      ],
      "metadata": {
        "id": "4gjNtpRDDQPP"
      }
    },
    {
      "cell_type": "markdown",
      "source": [
        "## 5) View the implied volatilities contained in the dataframe\n"
      ],
      "metadata": {
        "id": "QPakrD1w6p0c"
      }
    },
    {
      "cell_type": "markdown",
      "source": [
        "# Smile volatility\n",
        "When plotting implied volatility against the option's strike price, instead of observing a straight line as the Black-Scholes model would suggest, we typically see a smile-shaped curve. This curve indicates that implied volatility is generally higher for out-of-the-money and in-the-money options, and lower for at-the-money options.\n",
        "\n",
        "The volatility smile shows that the market assigns a higher probability to large price movements (both up and down) than the Black-Scholes model predicts. It can be caused by several factors, such as supply and demand dynamics in the options market, fear of tail events (unexpected large price movements), and imperfections in the Black-Scholes model.\n",
        "\n",
        "\n",
        "\n",
        "\n"
      ],
      "metadata": {
        "id": "OqzHzGaOBYPf"
      }
    },
    {
      "cell_type": "markdown",
      "source": [
        "### 5.1) Call Option"
      ],
      "metadata": {
        "id": "d_FcDE3dn6XN"
      }
    },
    {
      "cell_type": "code",
      "source": [
        "implied_volatility_call = conservative_calls[\"impliedVolatility\"]\n",
        "strike_call = conservative_calls[\"strike\"]\n",
        "\n",
        "plt.figure(figsize=(10, 6))\n",
        "plt.plot(strike_call, implied_volatility_call, marker='o', linestyle='-')\n",
        "plt.title(\"Implied volatility as function of strikes (Call options)\")\n",
        "plt.xlabel(\"Strike\")\n",
        "plt.ylabel(\"Implied Volatility\")\n",
        "plt.grid(True)\n",
        "plt.show()\n"
      ],
      "metadata": {
        "id": "Q5vC4Owcn8Dq",
        "colab": {
          "base_uri": "https://localhost:8080/",
          "height": 496
        },
        "outputId": "8f14af36-8127-4e3e-cdce-c73a39045352"
      },
      "execution_count": 224,
      "outputs": [
        {
          "output_type": "display_data",
          "data": {
            "text/plain": [
              "<Figure size 1000x600 with 1 Axes>"
            ],
            "image/png": "[encoded data removed]"
          },
          "metadata": {}
        }
      ]
    },
    {
      "cell_type": "markdown",
      "source": [
        "### 5.2) Put Option"
      ],
      "metadata": {
        "id": "xDf--W3UCjh0"
      }
    },
    {
      "cell_type": "code",
      "source": [
        "strike_put = puts[\"strike\"]\n",
        "implied_volatility_put = puts[\"impliedVolatility\"]\n",
        "\n",
        "plt.figure(figsize=(10,6))\n",
        "plt.plot(strike_put, implied_volatility_put, marker='o', linestyle='-')\n",
        "plt.title(\"Implied volatility as function of strikes (Call options)\")\n",
        "plt.xlabel(\"Strike\")\n",
        "plt.ylabel(\"Implied Volatility\")\n",
        "plt.grid(True)\n",
        "plt.show()"
      ],
      "metadata": {
        "id": "8t99ArPACDnS",
        "colab": {
          "base_uri": "https://localhost:8080/",
          "height": 496
        },
        "outputId": "ece95dd4-f282-4aa1-8580-859a3cc5bc27"
      },
      "execution_count": 225,
      "outputs": [
        {
          "output_type": "display_data",
          "data": {
            "text/plain": [
              "<Figure size 1000x600 with 1 Axes>"
            ],
            "image/png": "[encoded data removed]"
          },
          "metadata": {}
        }
      ]
    },
    {
      "cell_type": "markdown",
      "source": [
        "## 6) Calculate implied volatility with our functions"
      ],
      "metadata": {
        "id": "PJQ9ABGTC6-T"
      }
    },
    {
      "cell_type": "code",
      "source": [
        "# import multiprocessing\n",
        "# Check pool number\n",
        "pool = multiprocessing.Pool()\n",
        "pool"
      ],
      "metadata": {
        "id": "AjbLS-UqIpM5",
        "colab": {
          "base_uri": "https://localhost:8080/"
        },
        "outputId": "2013b396-73fd-4baa-a8ad-71e639fd40ff"
      },
      "execution_count": 226,
      "outputs": [
        {
          "output_type": "execute_result",
          "data": {
            "text/plain": [
              "<multiprocessing.pool.Pool state=RUN pool_size=2>"
            ]
          },
          "metadata": {},
          "execution_count": 226
        }
      ]
    },
    {
      "cell_type": "code",
      "source": [
        "def compute_implied_volatility(row):\n",
        "    C = row['fair_price']  # Option price extraction\n",
        "    K = row['strike']  # Extraction of strike price\n",
        "    return ImpliedVolCall(C, S, K, r, T, tol)\n",
        "\n",
        "# Multiprocessing\n",
        "args_list = [row for index, row in conservative_calls.iterrows()] # Iteration on each line to extract C and K, storage in a list\n",
        "with Pool() as pool:\n",
        "    implied_volatilities = pool.map(compute_implied_volatility, args_list) # Parallelization of the function applied to each element of args_list, storage in list\n",
        "\n",
        "# Parameters\n",
        "S = market_price\n",
        "T = (pd.to_datetime(expiry) - pd.to_datetime('today')).days / 365\n",
        "r = risk_free_rate.iloc[-1]['DGS1']\n",
        "tol = 10**-8\n",
        "\n",
        "\n",
        "conservative_calls['implied_vol_calc'] = implied_volatilities\n",
        "data = conservative_calls[[\"fair_price\", \"impliedVolatility\", \"implied_vol_calc\"]]\n",
        "data[\"implied_diff\"] = data[\"implied_vol_calc\"] - data[\"impliedVolatility\"]\n",
        "data.head()\n"
      ],
      "metadata": {
        "id": "Y_H4DPveIu45",
        "colab": {
          "base_uri": "https://localhost:8080/",
          "height": 445
        },
        "outputId": "444b1c31-0583-46d9-f9c5-fad872c12c22"
      },
      "execution_count": 227,
      "outputs": [
        {
          "output_type": "stream",
          "name": "stderr",
          "text": [
            "<ipython-input-227-7bb07c347c22>:18: SettingWithCopyWarning: \n",
            "A value is trying to be set on a copy of a slice from a DataFrame.\n",
            "Try using .loc[row_indexer,col_indexer] = value instead\n",
            "\n",
            "See the caveats in the documentation: https://pandas.pydata.org/pandas-docs/stable/user_guide/indexing.html#returning-a-view-versus-a-copy\n",
            "  conservative_calls['implied_vol_calc'] = implied_volatilities\n",
            "<ipython-input-227-7bb07c347c22>:20: SettingWithCopyWarning: \n",
            "A value is trying to be set on a copy of a slice from a DataFrame.\n",
            "Try using .loc[row_indexer,col_indexer] = value instead\n",
            "\n",
            "See the caveats in the documentation: https://pandas.pydata.org/pandas-docs/stable/user_guide/indexing.html#returning-a-view-versus-a-copy\n",
            "  data[\"implied_diff\"] = data[\"implied_vol_calc\"] - data[\"impliedVolatility\"]\n"
          ]
        },
        {
          "output_type": "execute_result",
          "data": {
            "text/plain": [
              "    fair_price  impliedVolatility  implied_vol_calc  implied_diff\n",
              "20   97.122926           0.299568          3.191036      2.891469\n",
              "19   99.316474           0.314033          3.248225      2.934192\n",
              "18  101.510021           0.337165          3.306192      2.969027\n",
              "17  103.703569           0.365973          3.365013      2.999040\n",
              "16  105.897117           0.400763          3.424765      3.024002"
            ],
            "text/html": [
              "\n",
              "  <div id=\"df-23966cb8-9edb-49ec-8688-b17f9ea1b0e8\" class=\"colab-df-container\">\n",
              "    <div>\n",
              "<style scoped>\n",
              "    .dataframe tbody tr th:only-of-type {\n",
              "        vertical-align: middle;\n",
              "    }\n",
              "\n",
              "    .dataframe tbody tr th {\n",
              "        vertical-align: top;\n",
              "    }\n",
              "\n",
              "    .dataframe thead th {\n",
              "        text-align: right;\n",
              "    }\n",
              "</style>\n",
              "<table border=\"1\" class=\"dataframe\">\n",
              "  <thead>\n",
              "    <tr style=\"text-align: right;\">\n",
              "      <th></th>\n",
              "      <th>fair_price</th>\n",
              "      <th>impliedVolatility</th>\n",
              "      <th>implied_vol_calc</th>\n",
              "      <th>implied_diff</th>\n",
              "    </tr>\n",
              "  </thead>\n",
              "  <tbody>\n",
              "    <tr>\n",
              "      <th>20</th>\n",
              "      <td>97.122926</td>\n",
              "      <td>0.299568</td>\n",
              "      <td>3.191036</td>\n",
              "      <td>2.891469</td>\n",
              "    </tr>\n",
              "    <tr>\n",
              "      <th>19</th>\n",
              "      <td>99.316474</td>\n",
              "      <td>0.314033</td>\n",
              "      <td>3.248225</td>\n",
              "      <td>2.934192</td>\n",
              "    </tr>\n",
              "    <tr>\n",
              "      <th>18</th>\n",
              "      <td>101.510021</td>\n",
              "      <td>0.337165</td>\n",
              "      <td>3.306192</td>\n",
              "      <td>2.969027</td>\n",
              "    </tr>\n",
              "    <tr>\n",
              "      <th>17</th>\n",
              "      <td>103.703569</td>\n",
              "      <td>0.365973</td>\n",
              "      <td>3.365013</td>\n",
              "      <td>2.999040</td>\n",
              "    </tr>\n",
              "    <tr>\n",
              "      <th>16</th>\n",
              "      <td>105.897117</td>\n",
              "      <td>0.400763</td>\n",
              "      <td>3.424765</td>\n",
              "      <td>3.024002</td>\n",
              "    </tr>\n",
              "  </tbody>\n",
              "</table>\n",
              "</div>\n",
              "    <div class=\"colab-df-buttons\">\n",
              "\n",
              "  <div class=\"colab-df-container\">\n",
              "    <button class=\"colab-df-convert\" onclick=\"convertToInteractive('df-23966cb8-9edb-49ec-8688-b17f9ea1b0e8')\"\n",
              "            title=\"Convert this dataframe to an interactive table.\"\n",
              "            style=\"display:none;\">\n",
              "\n",
              "  <svg xmlns=\"http://www.w3.org/2000/svg\" height=\"24px\" viewBox=\"0 -960 960 960\">\n",
              "    <path d=\"M120-120v-720h720v720H120Zm60-500h600v-160H180v160Zm220 220h160v-160H400v160Zm0 220h160v-160H400v160ZM180-400h160v-160H180v160Zm440 0h160v-160H620v160ZM180-180h160v-160H180v160Zm440 0h160v-160H620v160Z\"/>\n",
              "  </svg>\n",
              "    </button>\n",
              "\n",
              "  <style>\n",
              "    .colab-df-container {\n",
              "      display:flex;\n",
              "      gap: 12px;\n",
              "    }\n",
              "\n",
              "    .colab-df-convert {\n",
              "      background-color: #E8F0FE;\n",
              "      border: none;\n",
              "      border-radius: 50%;\n",
              "      cursor: pointer;\n",
              "      display: none;\n",
              "      fill: #1967D2;\n",
              "      height: 32px;\n",
              "      padding: 0 0 0 0;\n",
              "      width: 32px;\n",
              "    }\n",
              "\n",
              "    .colab-df-convert:hover {\n",
              "      background-color: #E2EBFA;\n",
              "      box-shadow: 0px 1px 2px rgba(60, 64, 67, 0.3), 0px 1px 3px 1px rgba(60, 64, 67, 0.15);\n",
              "      fill: #174EA6;\n",
              "    }\n",
              "\n",
              "    .colab-df-buttons div {\n",
              "      margin-bottom: 4px;\n",
              "    }\n",
              "\n",
              "    [theme=dark] .colab-df-convert {\n",
              "      background-color: #3B4455;\n",
              "      fill: #D2E3FC;\n",
              "    }\n",
              "\n",
              "    [theme=dark] .colab-df-convert:hover {\n",
              "      background-color: #434B5C;\n",
              "      box-shadow: 0px 1px 3px 1px rgba(0, 0, 0, 0.15);\n",
              "      filter: drop-shadow(0px 1px 2px rgba(0, 0, 0, 0.3));\n",
              "      fill: #FFFFFF;\n",
              "    }\n",
              "  </style>\n",
              "\n",
              "    <script>\n",
              "      const buttonEl =\n",
              "        document.querySelector('#df-23966cb8-9edb-49ec-8688-b17f9ea1b0e8 button.colab-df-convert');\n",
              "      buttonEl.style.display =\n",
              "        google.colab.kernel.accessAllowed ? 'block' : 'none';\n",
              "\n",
              "      async function convertToInteractive(key) {\n",
              "        const element = document.querySelector('#df-23966cb8-9edb-49ec-8688-b17f9ea1b0e8');\n",
              "        const dataTable =\n",
              "          await google.colab.kernel.invokeFunction('convertToInteractive',\n",
              "                                                    [key], {});\n",
              "        if (!dataTable) return;\n",
              "\n",
              "        const docLinkHtml = 'Like what you see? Visit the ' +\n",
              "          '<a target=\"_blank\" href=https://colab.research.google.com/notebooks/data_table.ipynb>data table notebook</a>'\n",
              "          + ' to learn more about interactive tables.';\n",
              "        element.innerHTML = '';\n",
              "        dataTable['output_type'] = 'display_data';\n",
              "        await google.colab.output.renderOutput(dataTable, element);\n",
              "        const docLink = document.createElement('div');\n",
              "        docLink.innerHTML = docLinkHtml;\n",
              "        element.appendChild(docLink);\n",
              "      }\n",
              "    </script>\n",
              "  </div>\n",
              "\n",
              "\n",
              "<div id=\"df-3ed32bdf-66a2-4e1a-8829-d7caf582204b\">\n",
              "  <button class=\"colab-df-quickchart\" onclick=\"quickchart('df-3ed32bdf-66a2-4e1a-8829-d7caf582204b')\"\n",
              "            title=\"Suggest charts\"\n",
              "            style=\"display:none;\">\n",
              "\n",
              "<svg xmlns=\"http://www.w3.org/2000/svg\" height=\"24px\"viewBox=\"0 0 24 24\"\n",
              "     width=\"24px\">\n",
              "    <g>\n",
              "        <path d=\"M19 3H5c-1.1 0-2 .9-2 2v14c0 1.1.9 2 2 2h14c1.1 0 2-.9 2-2V5c0-1.1-.9-2-2-2zM9 17H7v-7h2v7zm4 0h-2V7h2v10zm4 0h-2v-4h2v4z\"/>\n",
              "    </g>\n",
              "</svg>\n",
              "  </button>\n",
              "\n",
              "<style>\n",
              "  .colab-df-quickchart {\n",
              "      --bg-color: #E8F0FE;\n",
              "      --fill-color: #1967D2;\n",
              "      --hover-bg-color: #E2EBFA;\n",
              "      --hover-fill-color: #174EA6;\n",
              "      --disabled-fill-color: #AAA;\n",
              "      --disabled-bg-color: #DDD;\n",
              "  }\n",
              "\n",
              "  [theme=dark] .colab-df-quickchart {\n",
              "      --bg-color: #3B4455;\n",
              "      --fill-color: #D2E3FC;\n",
              "      --hover-bg-color: #434B5C;\n",
              "      --hover-fill-color: #FFFFFF;\n",
              "      --disabled-bg-color: #3B4455;\n",
              "      --disabled-fill-color: #666;\n",
              "  }\n",
              "\n",
              "  .colab-df-quickchart {\n",
              "    background-color: var(--bg-color);\n",
              "    border: none;\n",
              "    border-radius: 50%;\n",
              "    cursor: pointer;\n",
              "    display: none;\n",
              "    fill: var(--fill-color);\n",
              "    height: 32px;\n",
              "    padding: 0;\n",
              "    width: 32px;\n",
              "  }\n",
              "\n",
              "  .colab-df-quickchart:hover {\n",
              "    background-color: var(--hover-bg-color);\n",
              "    box-shadow: 0 1px 2px rgba(60, 64, 67, 0.3), 0 1px 3px 1px rgba(60, 64, 67, 0.15);\n",
              "    fill: var(--button-hover-fill-color);\n",
              "  }\n",
              "\n",
              "  .colab-df-quickchart-complete:disabled,\n",
              "  .colab-df-quickchart-complete:disabled:hover {\n",
              "    background-color: var(--disabled-bg-color);\n",
              "    fill: var(--disabled-fill-color);\n",
              "    box-shadow: none;\n",
              "  }\n",
              "\n",
              "  .colab-df-spinner {\n",
              "    border: 2px solid var(--fill-color);\n",
              "    border-color: transparent;\n",
              "    border-bottom-color: var(--fill-color);\n",
              "    animation:\n",
              "      spin 1s steps(1) infinite;\n",
              "  }\n",
              "\n",
              "  @keyframes spin {\n",
              "    0% {\n",
              "      border-color: transparent;\n",
              "      border-bottom-color: var(--fill-color);\n",
              "      border-left-color: var(--fill-color);\n",
              "    }\n",
              "    20% {\n",
              "      border-color: transparent;\n",
              "      border-left-color: var(--fill-color);\n",
              "      border-top-color: var(--fill-color);\n",
              "    }\n",
              "    30% {\n",
              "      border-color: transparent;\n",
              "      border-left-color: var(--fill-color);\n",
              "      border-top-color: var(--fill-color);\n",
              "      border-right-color: var(--fill-color);\n",
              "    }\n",
              "    40% {\n",
              "      border-color: transparent;\n",
              "      border-right-color: var(--fill-color);\n",
              "      border-top-color: var(--fill-color);\n",
              "    }\n",
              "    60% {\n",
              "      border-color: transparent;\n",
              "      border-right-color: var(--fill-color);\n",
              "    }\n",
              "    80% {\n",
              "      border-color: transparent;\n",
              "      border-right-color: var(--fill-color);\n",
              "      border-bottom-color: var(--fill-color);\n",
              "    }\n",
              "    90% {\n",
              "      border-color: transparent;\n",
              "      border-bottom-color: var(--fill-color);\n",
              "    }\n",
              "  }\n",
              "</style>\n",
              "\n",
              "  <script>\n",
              "    async function quickchart(key) {\n",
              "      const quickchartButtonEl =\n",
              "        document.querySelector('#' + key + ' button');\n",
              "      quickchartButtonEl.disabled = true;  // To prevent multiple clicks.\n",
              "      quickchartButtonEl.classList.add('colab-df-spinner');\n",
              "      try {\n",
              "        const charts = await google.colab.kernel.invokeFunction(\n",
              "            'suggestCharts', [key], {});\n",
              "      } catch (error) {\n",
              "        console.error('Error during call to suggestCharts:', error);\n",
              "      }\n",
              "      quickchartButtonEl.classList.remove('colab-df-spinner');\n",
              "      quickchartButtonEl.classList.add('colab-df-quickchart-complete');\n",
              "    }\n",
              "    (() => {\n",
              "      let quickchartButtonEl =\n",
              "        document.querySelector('#df-3ed32bdf-66a2-4e1a-8829-d7caf582204b button');\n",
              "      quickchartButtonEl.style.display =\n",
              "        google.colab.kernel.accessAllowed ? 'block' : 'none';\n",
              "    })();\n",
              "  </script>\n",
              "</div>\n",
              "    </div>\n",
              "  </div>\n"
            ],
            "application/vnd.google.colaboratory.intrinsic+json": {
              "type": "dataframe",
              "variable_name": "data",
              "summary": "{\n  \"name\": \"data\",\n  \"rows\": 21,\n  \"fields\": [\n    {\n      \"column\": \"fair_price\",\n      \"properties\": {\n        \"dtype\": \"number\",\n        \"std\": 13.610604408999752,\n        \"min\": 97.12292643239621,\n        \"max\": 140.9938767805375,\n        \"samples\": [\n          97.12292643239621,\n          134.41323422831476,\n          127.83259167609205\n        ],\n        \"num_unique_values\": 21,\n        \"semantic_type\": \"\",\n        \"description\": \"\"\n      }\n    },\n    {\n      \"column\": \"impliedVolatility\",\n      \"properties\": {\n        \"dtype\": \"number\",\n        \"std\": 0.2938407259147518,\n        \"min\": 0.2995675512695312,\n        \"max\": 1.2294960400390624,\n        \"samples\": [\n          0.2995675512695312,\n          1.0253954980468751,\n          0.8500991552734375\n        ],\n        \"num_unique_values\": 21,\n        \"semantic_type\": \"\",\n        \"description\": \"\"\n      }\n    },\n    {\n      \"column\": \"implied_vol_calc\",\n      \"properties\": {\n        \"dtype\": \"number\",\n        \"std\": 0.43727718952489014,\n        \"min\": 3.1910363277629776,\n        \"max\": 4.618535309080983,\n        \"samples\": [\n          3.1910363277629776,\n          4.341198437288297,\n          4.097491332931379\n        ],\n        \"num_unique_values\": 21,\n        \"semantic_type\": \"\",\n        \"description\": \"\"\n      }\n    },\n    {\n      \"column\": \"implied_diff\",\n      \"properties\": {\n        \"dtype\": \"number\",\n        \"std\": 0.14534766078745018,\n        \"min\": 2.8914687764934466,\n        \"max\": 3.38903926904192,\n        \"samples\": [\n          2.8914687764934466,\n          3.315802939241421,\n          3.2473921776579417\n        ],\n        \"num_unique_values\": 21,\n        \"semantic_type\": \"\",\n        \"description\": \"\"\n      }\n    }\n  ]\n}"
            }
          },
          "metadata": {},
          "execution_count": 227
        }
      ]
    },
    {
      "cell_type": "markdown",
      "source": [
        "There is a difference between market implied volatility and calculated volatility. Market implied volatility is too low compared to calculated implied volatility. In this case, a trader can take a position by buying the option and make a profit if implied volatility rises. Conversely, if a trader believes that the implied volatility of an option is too high in relation to his own estimate of future volatility, he can sell the option and make a profit if implied volatility falls.\n",
        "\n",
        "An increase in implied volatility will lead to an increase in the price of both call and put options.\n",
        "\n",
        "This is because as volatility rises, the potential for price movement in the underlying asset is greater, increasing the likelihood that the option will end up in the money. Consequently, an option in a high-volatility environment will be more expensive than a similar option in a low-volatility environment."
      ],
      "metadata": {
        "id": "Sqnp8pvbPLMV"
      }
    }
  ]
}