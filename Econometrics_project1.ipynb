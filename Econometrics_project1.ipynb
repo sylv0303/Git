{
  "nbformat": 4,
  "nbformat_minor": 0,
  "metadata": {
    "colab": {
      "provenance": [],
      "authorship_tag": "ABX9TyPQ2G6gfVY2nrEGBNtURRl1",
      "include_colab_link": true
    },
    "kernelspec": {
      "name": "ir",
      "display_name": "R"
    },
    "language_info": {
      "name": "R"
    }
  },
  "cells": [
    {
      "cell_type": "markdown",
      "metadata": {
        "id": "view-in-github",
        "colab_type": "text"
      },
      "source": [
        "<a href=\"https://colab.research.google.com/github/sylv0303/Git/blob/main/Econometrics_project1.ipynb\" target=\"_parent\"><img src=\"https://colab.research.google.com/assets/colab-badge.svg\" alt=\"Open In Colab\"/></a>"
      ]
    },
    {
      "cell_type": "markdown",
      "source": [
        "Importation packages"
      ],
      "metadata": {
        "id": "5BKSvW6YNwOp"
      }
    },
    {
      "cell_type": "code",
      "source": [
        "install.packages('readxl')\n",
        "install.packages(\"googledrive\")\n",
        "install.packages(\"zoo\")\n",
        "install.packages(\"ggplot2\")\n",
        "install.packages(\"tseries\")\n",
        "install.packages(\"urca\")\n",
        "\n",
        "library(urca)\n",
        "library(readxl)\n",
        "library(zoo)\n",
        "library(ggplot2)\n",
        "library(tseries)\n",
        "library(googledrive)"
      ],
      "metadata": {
        "colab": {
          "base_uri": "https://localhost:8080/"
        },
        "id": "5-qvE3r2M1Aw",
        "outputId": "cb9e53bf-88b9-4100-dbd9-1c792b13acfd"
      },
      "execution_count": null,
      "outputs": [
        {
          "output_type": "stream",
          "name": "stderr",
          "text": [
            "Installing package into ‘/usr/local/lib/R/site-library’\n",
            "(as ‘lib’ is unspecified)\n",
            "\n",
            "Installing package into ‘/usr/local/lib/R/site-library’\n",
            "(as ‘lib’ is unspecified)\n",
            "\n",
            "Installing package into ‘/usr/local/lib/R/site-library’\n",
            "(as ‘lib’ is unspecified)\n",
            "\n",
            "Installing package into ‘/usr/local/lib/R/site-library’\n",
            "(as ‘lib’ is unspecified)\n",
            "\n",
            "Installing package into ‘/usr/local/lib/R/site-library’\n",
            "(as ‘lib’ is unspecified)\n",
            "\n",
            "Installing package into ‘/usr/local/lib/R/site-library’\n",
            "(as ‘lib’ is unspecified)\n",
            "\n"
          ]
        }
      ]
    },
    {
      "cell_type": "code",
      "source": [
        "drive_download(\"https://docs.google.com/spreadsheets/d/1m0LEbY9E2ZlrMaJUuSy2yMBvW22muOjO/edit?usp=drive_link&ouid=113108976273780867382&rtpof=true&sd=true\")\n"
      ],
      "metadata": {
        "id": "NFA4pnw9bngj"
      },
      "execution_count": null,
      "outputs": []
    },
    {
      "cell_type": "code",
      "source": [
        "drive_auth(use_oob = TRUE, cache = TRUE)\n",
        "# Recherchez le fichier sur Google Drive en utilisant un critère de recherche\n",
        "file_id <- drive_find(\"Interest_rate\")$id\n",
        "\n",
        "# Téléchargez le fichier depuis Google Drive en utilisant l'ID du fichier\n",
        "drive_download(file_id, path = \"Interest_rate.csv\")"
      ],
      "metadata": {
        "id": "qC9hnaN0b9M5"
      },
      "execution_count": null,
      "outputs": []
    },
    {
      "cell_type": "code",
      "source": [
        "# Lisez le fichier CSV téléchargé\n",
        "Interest_rate <- read.csv(\"Interest_rate.csv\")\n"
      ],
      "metadata": {
        "colab": {
          "base_uri": "https://localhost:8080/"
        },
        "id": "wI-GyFm5YlSI",
        "outputId": "5f2692f1-b124-4714-bd0c-3061d1fd95c1"
      },
      "execution_count": null,
      "outputs": [
        {
          "output_type": "stream",
          "name": "stderr",
          "text": [
            "Warning message in read.table(file = file, header = header, sep = sep, quote = quote, :\n",
            "“line 1 appears to contain embedded nulls”\n",
            "Warning message in scan(file = file, what = what, sep = sep, quote = quote, dec = dec, :\n",
            "“embedded nul(s) found in input”\n"
          ]
        }
      ]
    },
    {
      "cell_type": "markdown",
      "source": [
        "Upload Dataframes"
      ],
      "metadata": {
        "id": "l_e4s7DhN7xH"
      }
    },
    {
      "cell_type": "code",
      "source": [
        "interest_rate <- read_excel(\"interest_rate.xlsx\")\n",
        "investment <- read_excel(\"C:/Users/sylva/Desktop/investissement.xlsx\")\n",
        "\n",
        "interest_rate$Date <- as.yearqtr(interest_rate$Date, format = \"%Y-Q%q\")\n",
        "investment$Date <- as.yearqtr(investment$Date, format = \"%Y-Q%q\")\n",
        "\n",
        "# Convert to numeric format\n",
        "interest_rate$Interest <- as.numeric(interest_rate$Interest)\n",
        "investment$Investment <- as.numeric(investment$Investment)\n",
        "\n",
        "# Convert Date to Date numeric\n",
        "interest_rate$Date <- as.Date(as.yearqtr(interest_rate$Date))\n",
        "investment$Date <- as.Date(as.yearqtr(investment$Date))"
      ],
      "metadata": {
        "colab": {
          "base_uri": "https://localhost:8080/",
          "height": 175
        },
        "id": "2vMvEFjdOAdW",
        "outputId": "30af227d-fcc4-42cb-ad4c-905a593a4f22"
      },
      "execution_count": null,
      "outputs": [
        {
          "output_type": "error",
          "ename": "ERROR",
          "evalue": "ignored",
          "traceback": [
            "Error: `path` does not exist: ‘C:/Users/sylva/Desktop/investissement.xlsx’\nTraceback:\n",
            "1. read_excel(\"C:/Users/sylva/Desktop/investissement.xlsx\")",
            "2. check_file(path)",
            "3. stop(\"`path` does not exist: \", sQuote(path), call. = FALSE)"
          ]
        }
      ]
    },
    {
      "cell_type": "code",
      "source": [
        "# Installer la bibliothèque drive\n",
        "install.packages(\"drive\")\n",
        "# Montez votre Google Drive\n",
        "drive_auth(use_oob = TRUE, cache = TRUE)\n",
        "\n"
      ],
      "metadata": {
        "colab": {
          "base_uri": "https://localhost:8080/",
          "height": 262
        },
        "id": "MrR5OQpDRG_I",
        "outputId": "94a38668-6270-49bf-e794-31ab9f51e79c"
      },
      "execution_count": null,
      "outputs": [
        {
          "output_type": "stream",
          "name": "stderr",
          "text": [
            "Installing package into ‘/usr/local/lib/R/site-library’\n",
            "(as ‘lib’ is unspecified)\n",
            "\n",
            "Warning message:\n",
            "“package ‘drive’ is not available for this version of R\n",
            "\n",
            "A version of this package for your version of R might be available elsewhere,\n",
            "see the ideas at\n",
            "https://cran.r-project.org/doc/manuals/r-patched/R-admin.html#Installing-packages”\n"
          ]
        },
        {
          "output_type": "error",
          "ename": "ERROR",
          "evalue": "ignored",
          "traceback": [
            "Error in drive_auth(use_oob = TRUE, cache = TRUE): could not find function \"drive_auth\"\nTraceback:\n"
          ]
        }
      ]
    },
    {
      "cell_type": "markdown",
      "source": [
        "Plots"
      ],
      "metadata": {
        "id": "Fs4q0F5uOHar"
      }
    },
    {
      "cell_type": "code",
      "source": [
        "ggplot(interest_rate, aes(x = Date, y = Interest)) +\n",
        "  geom_line() +\n",
        "  geom_point() +\n",
        "  scale_x_date(date_labels = \"%Y-Q%1\", date_breaks = \"2 year\") +\n",
        "  theme_minimal() +\n",
        "  theme(panel.grid.major = element_blank(), panel.grid.minor = element_blank())+\n",
        "  labs(title = \"Interest rate per quarter\", x = \"Quarter\", y = \"Interest rate (%)\")\n",
        "\n",
        "ggplot(investment, aes(x = Date, y = Investment)) +\n",
        "  geom_line() +\n",
        "  geom_point() +\n",
        "  scale_x_date(date_labels = \"%Y-Q%1\", date_breaks = \"2 year\") +\n",
        "  theme_minimal() +\n",
        "  theme(panel.grid.major = element_blank(), panel.grid.minor = element_blank())+\n",
        "  labs(title = \"Investment per quarter\", x = \"Quarter\", y = \"Investment (M€)\")"
      ],
      "metadata": {
        "id": "Hm0-kBubOIg2"
      },
      "execution_count": null,
      "outputs": []
    },
    {
      "cell_type": "markdown",
      "source": [
        "Autocorrelation"
      ],
      "metadata": {
        "id": "6XiIN27QOM_q"
      }
    },
    {
      "cell_type": "code",
      "source": [
        "# Autocorelogram\n",
        "acf(interest_rate$Interest, main=\"Interest Rate Autocorrelogram\")\n",
        "acf(investment$Investment, main=\"Investment Autocorrelogram\")\n",
        "\n",
        "# Partial Autocorelogram\n",
        "pacf(interest_rate$Interest, main=\"Interest Rate Partiel Autocorrelogram\")\n",
        "pacf(investment$Investment, main=\"Investment Partial Autocorrelogram\")"
      ],
      "metadata": {
        "id": "o9usqNayORCK"
      },
      "execution_count": null,
      "outputs": []
    }
  ]
}